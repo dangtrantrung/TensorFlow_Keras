{
  "nbformat": 4,
  "nbformat_minor": 0,
  "metadata": {
    "colab": {
      "provenance": [],
      "gpuType": "T4",
      "authorship_tag": "ABX9TyOhxkWsIO64yrdazx/1UuB+",
      "include_colab_link": true
    },
    "kernelspec": {
      "name": "python3",
      "display_name": "Python 3"
    },
    "language_info": {
      "name": "python"
    },
    "accelerator": "GPU"
  },
  "cells": [
    {
      "cell_type": "markdown",
      "metadata": {
        "id": "view-in-github",
        "colab_type": "text"
      },
      "source": [
        "<a href=\"https://colab.research.google.com/github/dangtrantrung/TensorFlow_Keras/blob/master/TensorFlow_Keras.ipynb\" target=\"_parent\"><img src=\"https://colab.research.google.com/assets/colab-badge.svg\" alt=\"Open In Colab\"/></a>"
      ]
    },
    {
      "cell_type": "code",
      "execution_count": null,
      "metadata": {
        "colab": {
          "base_uri": "https://localhost:8080/"
        },
        "id": "XsrgDPEzh8i6",
        "outputId": "bcb9709b-9b06-4c22-bb06-6d579ce72db6"
      },
      "outputs": [
        {
          "output_type": "stream",
          "name": "stdout",
          "text": [
            "2.15.0\n"
          ]
        }
      ],
      "source": [
        "import keras\n",
        "print(keras.__version__)"
      ]
    },
    {
      "cell_type": "code",
      "source": [
        "import tensorflow\n",
        "from tensorflow import keras\n",
        "print(keras)"
      ],
      "metadata": {
        "colab": {
          "base_uri": "https://localhost:8080/"
        },
        "id": "FNVOBq46ikr-",
        "outputId": "5e617899-38f8-479f-bdd7-e54facaf4f9f"
      },
      "execution_count": null,
      "outputs": [
        {
          "output_type": "stream",
          "name": "stdout",
          "text": [
            "<KerasLazyLoader>\n"
          ]
        }
      ]
    },
    {
      "cell_type": "code",
      "source": [
        "import tensorflow  as tf\n",
        "# Conv2D\n",
        "input_shape=(4,30,30,3)\n",
        "x=tf.random.normal(input_shape)\n",
        "y=tf.keras.layers.Conv2D(2,3,activation='relu',input_shape=input_shape[1:])(x)\n",
        "print(y.shape)\n"
      ],
      "metadata": {
        "colab": {
          "base_uri": "https://localhost:8080/"
        },
        "id": "JjoZRPYYo_BE",
        "outputId": "37e6c317-f546-4762-86b8-a5f8b455c268"
      },
      "execution_count": null,
      "outputs": [
        {
          "output_type": "stream",
          "name": "stdout",
          "text": [
            "(4, 28, 28, 2)\n"
          ]
        }
      ]
    },
    {
      "cell_type": "code",
      "source": [
        "# CNN model\n",
        "inputs=keras.layers.Input(shape=[32,32,3])\n",
        "x=keras.layers.Conv2D(filters=32,kernel_size=3,padding='same',activation='relu')(inputs)\n",
        "x=keras.layers.Conv2D(filters=32,kernel_size=3,padding='same',activation='relu')(x)\n",
        "predictions=keras.layers.MaxPool2D(pool_size=2)(x)\n",
        "\n",
        "model=keras.Model(inputs=inputs,outputs=predictions)\n"
      ],
      "metadata": {
        "id": "tpyz82HOm4vm"
      },
      "execution_count": null,
      "outputs": []
    },
    {
      "cell_type": "code",
      "source": [
        "model.summary()"
      ],
      "metadata": {
        "colab": {
          "base_uri": "https://localhost:8080/"
        },
        "id": "8goMV6werhTZ",
        "outputId": "0fce7e60-c0d0-4085-ac01-fed243d891aa"
      },
      "execution_count": null,
      "outputs": [
        {
          "output_type": "stream",
          "name": "stdout",
          "text": [
            "Model: \"model\"\n",
            "_________________________________________________________________\n",
            " Layer (type)                Output Shape              Param #   \n",
            "=================================================================\n",
            " input_1 (InputLayer)        [(None, 32, 32, 3)]       0         \n",
            "                                                                 \n",
            " conv2d_1 (Conv2D)           (None, 32, 32, 32)        896       \n",
            "                                                                 \n",
            " conv2d_2 (Conv2D)           (None, 32, 32, 32)        9248      \n",
            "                                                                 \n",
            " max_pooling2d (MaxPooling2  (None, 16, 16, 32)        0         \n",
            " D)                                                              \n",
            "                                                                 \n",
            "=================================================================\n",
            "Total params: 10144 (39.62 KB)\n",
            "Trainable params: 10144 (39.62 KB)\n",
            "Non-trainable params: 0 (0.00 Byte)\n",
            "_________________________________________________________________\n"
          ]
        }
      ]
    },
    {
      "cell_type": "code",
      "source": [
        "predictions.shape"
      ],
      "metadata": {
        "colab": {
          "base_uri": "https://localhost:8080/"
        },
        "id": "CHC3j5yMrrW5",
        "outputId": "57df66b5-faa7-4151-a9ed-5dec07138b46"
      },
      "execution_count": null,
      "outputs": [
        {
          "output_type": "execute_result",
          "data": {
            "text/plain": [
              "TensorShape([None, 16, 16, 32])"
            ]
          },
          "metadata": {},
          "execution_count": 6
        }
      ]
    },
    {
      "cell_type": "code",
      "source": [
        "inputs.shape"
      ],
      "metadata": {
        "colab": {
          "base_uri": "https://localhost:8080/"
        },
        "id": "sQamEZJ3r1Ig",
        "outputId": "aea6c370-3b09-4292-e1ce-04ae3b0e2140"
      },
      "execution_count": null,
      "outputs": [
        {
          "output_type": "execute_result",
          "data": {
            "text/plain": [
              "TensorShape([None, 32, 32, 3])"
            ]
          },
          "metadata": {},
          "execution_count": 7
        }
      ]
    },
    {
      "cell_type": "code",
      "source": [
        "keras.utils.plot_model(model,'model.png',show_shapes=True)"
      ],
      "metadata": {
        "colab": {
          "base_uri": "https://localhost:8080/",
          "height": 422
        },
        "id": "OR4yv4tDsJO8",
        "outputId": "662a0ad0-fe6a-4b6b-b9e7-a5a47accf09a"
      },
      "execution_count": null,
      "outputs": [
        {
          "output_type": "execute_result",
          "data": {
            "image/png": "[encoded data removed]",
            "text/plain": [
              "<IPython.core.display.Image object>"
            ]
          },
          "metadata": {},
          "execution_count": 8
        }
      ]
    },
    {
      "cell_type": "code",
      "source": [
        "# Model Sequential\n",
        "model_v1=tf.keras.Sequential([\n",
        "    keras.layers.Dense(1024,input_dim=64),\n",
        "    keras.layers.Activation('relu'),\n",
        "    keras.layers.Dense(256),\n",
        "    keras.layers.Activation('softmax')]\n",
        ")"
      ],
      "metadata": {
        "id": "qWZGnhqIsLIk"
      },
      "execution_count": null,
      "outputs": []
    },
    {
      "cell_type": "code",
      "source": [
        "model_v1.summary()"
      ],
      "metadata": {
        "colab": {
          "base_uri": "https://localhost:8080/"
        },
        "id": "oeXrMuVZwguw",
        "outputId": "5087ceb1-938f-46d2-f797-234ceb352291"
      },
      "execution_count": null,
      "outputs": [
        {
          "output_type": "stream",
          "name": "stdout",
          "text": [
            "Model: \"sequential\"\n",
            "_________________________________________________________________\n",
            " Layer (type)                Output Shape              Param #   \n",
            "=================================================================\n",
            " dense (Dense)               (None, 1024)              66560     \n",
            "                                                                 \n",
            " activation (Activation)     (None, 1024)              0         \n",
            "                                                                 \n",
            " dense_1 (Dense)             (None, 256)               262400    \n",
            "                                                                 \n",
            " activation_1 (Activation)   (None, 256)               0         \n",
            "                                                                 \n",
            "=================================================================\n",
            "Total params: 328960 (1.25 MB)\n",
            "Trainable params: 328960 (1.25 MB)\n",
            "Non-trainable params: 0 (0.00 Byte)\n",
            "_________________________________________________________________\n"
          ]
        }
      ]
    },
    {
      "cell_type": "code",
      "source": [
        "model_v1.inputs"
      ],
      "metadata": {
        "colab": {
          "base_uri": "https://localhost:8080/"
        },
        "id": "vdPdcXcgwpX3",
        "outputId": "f79ba772-ec88-46dc-c079-2586e997a5c4"
      },
      "execution_count": null,
      "outputs": [
        {
          "output_type": "execute_result",
          "data": {
            "text/plain": [
              "[<KerasTensor: shape=(None, 64) dtype=float32 (created by layer 'dense_input')>]"
            ]
          },
          "metadata": {},
          "execution_count": 11
        }
      ]
    },
    {
      "cell_type": "code",
      "source": [
        "model_v1.outputs"
      ],
      "metadata": {
        "colab": {
          "base_uri": "https://localhost:8080/"
        },
        "id": "ciwl7JGHw2h0",
        "outputId": "3232be6a-5b40-4795-e72a-d6191c58511d"
      },
      "execution_count": null,
      "outputs": [
        {
          "output_type": "execute_result",
          "data": {
            "text/plain": [
              "[<KerasTensor: shape=(None, 256) dtype=float32 (created by layer 'activation_1')>]"
            ]
          },
          "metadata": {},
          "execution_count": 12
        }
      ]
    },
    {
      "cell_type": "code",
      "source": [
        "model_v2=tf.keras.Sequential()\n",
        "model_v2.add( keras.layers.Dense(1024,input_dim=64))\n",
        "model_v2.add( keras.layers.Activation('relu'))\n",
        "model_v2.add(keras.layers.Dense(256,activation='softmax',kernel_initializer='random_normal'))\n",
        "model_v2.add(keras.layers.Dense(10,activation='softmax',kernel_initializer='random_normal'))\n",
        "\n",
        "model_v2.summary()"
      ],
      "metadata": {
        "colab": {
          "base_uri": "https://localhost:8080/"
        },
        "id": "roxfLhO9w6n9",
        "outputId": "9b57aad4-0285-44ab-e7ec-e68674b34848"
      },
      "execution_count": null,
      "outputs": [
        {
          "output_type": "stream",
          "name": "stdout",
          "text": [
            "Model: \"sequential_1\"\n",
            "_________________________________________________________________\n",
            " Layer (type)                Output Shape              Param #   \n",
            "=================================================================\n",
            " dense_2 (Dense)             (None, 1024)              66560     \n",
            "                                                                 \n",
            " activation_2 (Activation)   (None, 1024)              0         \n",
            "                                                                 \n",
            " dense_3 (Dense)             (None, 256)               262400    \n",
            "                                                                 \n",
            " dense_4 (Dense)             (None, 10)                2570      \n",
            "                                                                 \n",
            "=================================================================\n",
            "Total params: 331530 (1.26 MB)\n",
            "Trainable params: 331530 (1.26 MB)\n",
            "Non-trainable params: 0 (0.00 Byte)\n",
            "_________________________________________________________________\n"
          ]
        }
      ]
    },
    {
      "cell_type": "code",
      "source": [
        "model_v2.compile(optimizer='SGD',loss='categorical_crossentropy', metrics=['accuracy'])"
      ],
      "metadata": {
        "id": "O2XJoYjMzmCv"
      },
      "execution_count": null,
      "outputs": []
    },
    {
      "cell_type": "code",
      "source": [
        "import numpy as np"
      ],
      "metadata": {
        "id": "_0n6eWP54HI3"
      },
      "execution_count": null,
      "outputs": []
    },
    {
      "cell_type": "code",
      "source": [
        "# Sample Data\n",
        "\n",
        "data=np.random.random((2000,64))\n",
        "label=np.random.random((2000,10))\n",
        "\n",
        "valid_data=np.random.random((500,64))\n",
        "valid_label=np.random.random((500,10))\n",
        "\n",
        "test_data=np.random.random((500,64))\n",
        "test_label=np.random.random((500,10))\n"
      ],
      "metadata": {
        "id": "zCp2YynXz4Bb"
      },
      "execution_count": null,
      "outputs": []
    },
    {
      "cell_type": "code",
      "source": [
        "data.shape, type(model_v2)"
      ],
      "metadata": {
        "colab": {
          "base_uri": "https://localhost:8080/"
        },
        "id": "aMdMlDjo1Qx5",
        "outputId": "7df623ce-5fa1-4f42-f710-41503dadfdf0"
      },
      "execution_count": null,
      "outputs": [
        {
          "output_type": "execute_result",
          "data": {
            "text/plain": [
              "((2000, 64), keras.src.engine.sequential.Sequential)"
            ]
          },
          "metadata": {},
          "execution_count": 17
        }
      ]
    },
    {
      "cell_type": "code",
      "source": [
        "model_v2.fit(data, label, epochs=100, batch_size=50, validation_data=(valid_data, valid_label))"
      ],
      "metadata": {
        "colab": {
          "base_uri": "https://localhost:8080/"
        },
        "id": "FY6FSQd51cLR",
        "outputId": "169e2723-79ae-4753-b679-4daf837afcab"
      },
      "execution_count": null,
      "outputs": [
        {
          "output_type": "stream",
          "name": "stdout",
          "text": [
            "Epoch 1/100\n",
            "40/40 [==============================] - 1s 7ms/step - loss: 11.5216 - accuracy: 0.1155 - val_loss: 11.5310 - val_accuracy: 0.1020\n",
            "Epoch 2/100\n",
            "40/40 [==============================] - 0s 4ms/step - loss: 11.5216 - accuracy: 0.1155 - val_loss: 11.5310 - val_accuracy: 0.1020\n",
            "Epoch 3/100\n",
            "40/40 [==============================] - 0s 4ms/step - loss: 11.5215 - accuracy: 0.1155 - val_loss: 11.5310 - val_accuracy: 0.1020\n",
            "Epoch 4/100\n",
            "40/40 [==============================] - 0s 4ms/step - loss: 11.5215 - accuracy: 0.1155 - val_loss: 11.5310 - val_accuracy: 0.1020\n",
            "Epoch 5/100\n",
            "40/40 [==============================] - 0s 4ms/step - loss: 11.5217 - accuracy: 0.1155 - val_loss: 11.5310 - val_accuracy: 0.1020\n",
            "Epoch 6/100\n",
            "40/40 [==============================] - 0s 4ms/step - loss: 11.5215 - accuracy: 0.1155 - val_loss: 11.5310 - val_accuracy: 0.1020\n",
            "Epoch 7/100\n",
            "40/40 [==============================] - 0s 4ms/step - loss: 11.5213 - accuracy: 0.1155 - val_loss: 11.5311 - val_accuracy: 0.1020\n",
            "Epoch 8/100\n",
            "40/40 [==============================] - 0s 4ms/step - loss: 11.5215 - accuracy: 0.1155 - val_loss: 11.5311 - val_accuracy: 0.1020\n",
            "Epoch 9/100\n",
            "40/40 [==============================] - 0s 4ms/step - loss: 11.5216 - accuracy: 0.1155 - val_loss: 11.5311 - val_accuracy: 0.1020\n",
            "Epoch 10/100\n",
            "40/40 [==============================] - 0s 4ms/step - loss: 11.5218 - accuracy: 0.1155 - val_loss: 11.5310 - val_accuracy: 0.1020\n",
            "Epoch 11/100\n",
            "40/40 [==============================] - 0s 4ms/step - loss: 11.5214 - accuracy: 0.1155 - val_loss: 11.5311 - val_accuracy: 0.1020\n",
            "Epoch 12/100\n",
            "40/40 [==============================] - 0s 4ms/step - loss: 11.5216 - accuracy: 0.1155 - val_loss: 11.5311 - val_accuracy: 0.1020\n",
            "Epoch 13/100\n",
            "40/40 [==============================] - 0s 4ms/step - loss: 11.5217 - accuracy: 0.1155 - val_loss: 11.5310 - val_accuracy: 0.1020\n",
            "Epoch 14/100\n",
            "40/40 [==============================] - 0s 4ms/step - loss: 11.5215 - accuracy: 0.1155 - val_loss: 11.5310 - val_accuracy: 0.1020\n",
            "Epoch 15/100\n",
            "40/40 [==============================] - 0s 4ms/step - loss: 11.5215 - accuracy: 0.1155 - val_loss: 11.5310 - val_accuracy: 0.1020\n",
            "Epoch 16/100\n",
            "40/40 [==============================] - 0s 5ms/step - loss: 11.5217 - accuracy: 0.1155 - val_loss: 11.5310 - val_accuracy: 0.1020\n",
            "Epoch 17/100\n",
            "40/40 [==============================] - 0s 7ms/step - loss: 11.5215 - accuracy: 0.1155 - val_loss: 11.5310 - val_accuracy: 0.1020\n",
            "Epoch 18/100\n",
            "40/40 [==============================] - 0s 7ms/step - loss: 11.5215 - accuracy: 0.1155 - val_loss: 11.5310 - val_accuracy: 0.1020\n",
            "Epoch 19/100\n",
            "40/40 [==============================] - 0s 6ms/step - loss: 11.5216 - accuracy: 0.1155 - val_loss: 11.5310 - val_accuracy: 0.1020\n",
            "Epoch 20/100\n",
            "40/40 [==============================] - 0s 7ms/step - loss: 11.5215 - accuracy: 0.1155 - val_loss: 11.5310 - val_accuracy: 0.1020\n",
            "Epoch 21/100\n",
            "40/40 [==============================] - 0s 6ms/step - loss: 11.5216 - accuracy: 0.1155 - val_loss: 11.5310 - val_accuracy: 0.1020\n",
            "Epoch 22/100\n",
            "40/40 [==============================] - 0s 8ms/step - loss: 11.5216 - accuracy: 0.1155 - val_loss: 11.5310 - val_accuracy: 0.1020\n",
            "Epoch 23/100\n",
            "40/40 [==============================] - 0s 7ms/step - loss: 11.5215 - accuracy: 0.1155 - val_loss: 11.5310 - val_accuracy: 0.1020\n",
            "Epoch 24/100\n",
            "40/40 [==============================] - 0s 6ms/step - loss: 11.5215 - accuracy: 0.1155 - val_loss: 11.5310 - val_accuracy: 0.1020\n",
            "Epoch 25/100\n",
            "40/40 [==============================] - 0s 5ms/step - loss: 11.5214 - accuracy: 0.1155 - val_loss: 11.5311 - val_accuracy: 0.1020\n",
            "Epoch 26/100\n",
            "40/40 [==============================] - 0s 6ms/step - loss: 11.5216 - accuracy: 0.1155 - val_loss: 11.5311 - val_accuracy: 0.1020\n",
            "Epoch 27/100\n",
            "40/40 [==============================] - 0s 5ms/step - loss: 11.5217 - accuracy: 0.1155 - val_loss: 11.5310 - val_accuracy: 0.1020\n",
            "Epoch 28/100\n",
            "40/40 [==============================] - 0s 4ms/step - loss: 11.5215 - accuracy: 0.1155 - val_loss: 11.5311 - val_accuracy: 0.1020\n",
            "Epoch 29/100\n",
            "40/40 [==============================] - 0s 4ms/step - loss: 11.5216 - accuracy: 0.1155 - val_loss: 11.5311 - val_accuracy: 0.1020\n",
            "Epoch 30/100\n",
            "40/40 [==============================] - 0s 4ms/step - loss: 11.5213 - accuracy: 0.1155 - val_loss: 11.5311 - val_accuracy: 0.1020\n",
            "Epoch 31/100\n",
            "40/40 [==============================] - 0s 4ms/step - loss: 11.5218 - accuracy: 0.1155 - val_loss: 11.5311 - val_accuracy: 0.1020\n",
            "Epoch 32/100\n",
            "40/40 [==============================] - 0s 4ms/step - loss: 11.5218 - accuracy: 0.1155 - val_loss: 11.5310 - val_accuracy: 0.1020\n",
            "Epoch 33/100\n",
            "40/40 [==============================] - 0s 4ms/step - loss: 11.5216 - accuracy: 0.1155 - val_loss: 11.5310 - val_accuracy: 0.1020\n",
            "Epoch 34/100\n",
            "40/40 [==============================] - 0s 4ms/step - loss: 11.5217 - accuracy: 0.1155 - val_loss: 11.5310 - val_accuracy: 0.1020\n",
            "Epoch 35/100\n",
            "40/40 [==============================] - 0s 4ms/step - loss: 11.5218 - accuracy: 0.1155 - val_loss: 11.5310 - val_accuracy: 0.1020\n",
            "Epoch 36/100\n",
            "40/40 [==============================] - 0s 4ms/step - loss: 11.5214 - accuracy: 0.1155 - val_loss: 11.5310 - val_accuracy: 0.1020\n",
            "Epoch 37/100\n",
            "40/40 [==============================] - 0s 5ms/step - loss: 11.5214 - accuracy: 0.1155 - val_loss: 11.5310 - val_accuracy: 0.1020\n",
            "Epoch 38/100\n",
            "40/40 [==============================] - 0s 4ms/step - loss: 11.5216 - accuracy: 0.1155 - val_loss: 11.5310 - val_accuracy: 0.1020\n",
            "Epoch 39/100\n",
            "40/40 [==============================] - 0s 4ms/step - loss: 11.5214 - accuracy: 0.1155 - val_loss: 11.5310 - val_accuracy: 0.1020\n",
            "Epoch 40/100\n",
            "40/40 [==============================] - 0s 4ms/step - loss: 11.5216 - accuracy: 0.1155 - val_loss: 11.5310 - val_accuracy: 0.1020\n",
            "Epoch 41/100\n",
            "40/40 [==============================] - 0s 4ms/step - loss: 11.5216 - accuracy: 0.1155 - val_loss: 11.5310 - val_accuracy: 0.1020\n",
            "Epoch 42/100\n",
            "40/40 [==============================] - 0s 4ms/step - loss: 11.5216 - accuracy: 0.1155 - val_loss: 11.5310 - val_accuracy: 0.1020\n",
            "Epoch 43/100\n",
            "40/40 [==============================] - 0s 5ms/step - loss: 11.5216 - accuracy: 0.1155 - val_loss: 11.5310 - val_accuracy: 0.1020\n",
            "Epoch 44/100\n",
            "40/40 [==============================] - 0s 4ms/step - loss: 11.5216 - accuracy: 0.1155 - val_loss: 11.5310 - val_accuracy: 0.1020\n",
            "Epoch 45/100\n",
            "40/40 [==============================] - 0s 4ms/step - loss: 11.5214 - accuracy: 0.1155 - val_loss: 11.5310 - val_accuracy: 0.1020\n",
            "Epoch 46/100\n",
            "40/40 [==============================] - 0s 4ms/step - loss: 11.5217 - accuracy: 0.1155 - val_loss: 11.5310 - val_accuracy: 0.1020\n",
            "Epoch 47/100\n",
            "40/40 [==============================] - 0s 4ms/step - loss: 11.5216 - accuracy: 0.1155 - val_loss: 11.5310 - val_accuracy: 0.1020\n",
            "Epoch 48/100\n",
            "40/40 [==============================] - 0s 4ms/step - loss: 11.5214 - accuracy: 0.1155 - val_loss: 11.5310 - val_accuracy: 0.1020\n",
            "Epoch 49/100\n",
            "40/40 [==============================] - 0s 4ms/step - loss: 11.5213 - accuracy: 0.1155 - val_loss: 11.5311 - val_accuracy: 0.1020\n",
            "Epoch 50/100\n",
            "40/40 [==============================] - 0s 4ms/step - loss: 11.5217 - accuracy: 0.1155 - val_loss: 11.5311 - val_accuracy: 0.1020\n",
            "Epoch 51/100\n",
            "40/40 [==============================] - 0s 4ms/step - loss: 11.5216 - accuracy: 0.1155 - val_loss: 11.5311 - val_accuracy: 0.1020\n",
            "Epoch 52/100\n",
            "40/40 [==============================] - 0s 4ms/step - loss: 11.5216 - accuracy: 0.1155 - val_loss: 11.5310 - val_accuracy: 0.1020\n",
            "Epoch 53/100\n",
            "40/40 [==============================] - 0s 4ms/step - loss: 11.5217 - accuracy: 0.1155 - val_loss: 11.5310 - val_accuracy: 0.1020\n",
            "Epoch 54/100\n",
            "40/40 [==============================] - 0s 4ms/step - loss: 11.5216 - accuracy: 0.1155 - val_loss: 11.5310 - val_accuracy: 0.1020\n",
            "Epoch 55/100\n",
            "40/40 [==============================] - 0s 4ms/step - loss: 11.5216 - accuracy: 0.1155 - val_loss: 11.5310 - val_accuracy: 0.1020\n",
            "Epoch 56/100\n",
            "40/40 [==============================] - 0s 4ms/step - loss: 11.5216 - accuracy: 0.1155 - val_loss: 11.5311 - val_accuracy: 0.1020\n",
            "Epoch 57/100\n",
            "40/40 [==============================] - 0s 4ms/step - loss: 11.5214 - accuracy: 0.1155 - val_loss: 11.5311 - val_accuracy: 0.1020\n",
            "Epoch 58/100\n",
            "40/40 [==============================] - 0s 4ms/step - loss: 11.5212 - accuracy: 0.1155 - val_loss: 11.5311 - val_accuracy: 0.1020\n",
            "Epoch 59/100\n",
            "40/40 [==============================] - 0s 4ms/step - loss: 11.5215 - accuracy: 0.1155 - val_loss: 11.5311 - val_accuracy: 0.1020\n",
            "Epoch 60/100\n",
            "40/40 [==============================] - 0s 4ms/step - loss: 11.5215 - accuracy: 0.1155 - val_loss: 11.5311 - val_accuracy: 0.1020\n",
            "Epoch 61/100\n",
            "40/40 [==============================] - 0s 4ms/step - loss: 11.5215 - accuracy: 0.1155 - val_loss: 11.5311 - val_accuracy: 0.1020\n",
            "Epoch 62/100\n",
            "40/40 [==============================] - 0s 4ms/step - loss: 11.5214 - accuracy: 0.1155 - val_loss: 11.5311 - val_accuracy: 0.1020\n",
            "Epoch 63/100\n",
            "40/40 [==============================] - 0s 4ms/step - loss: 11.5216 - accuracy: 0.1155 - val_loss: 11.5311 - val_accuracy: 0.1020\n",
            "Epoch 64/100\n",
            "40/40 [==============================] - 0s 4ms/step - loss: 11.5216 - accuracy: 0.1155 - val_loss: 11.5311 - val_accuracy: 0.1020\n",
            "Epoch 65/100\n",
            "40/40 [==============================] - 0s 4ms/step - loss: 11.5214 - accuracy: 0.1155 - val_loss: 11.5311 - val_accuracy: 0.1020\n",
            "Epoch 66/100\n",
            "40/40 [==============================] - 0s 4ms/step - loss: 11.5217 - accuracy: 0.1155 - val_loss: 11.5311 - val_accuracy: 0.1020\n",
            "Epoch 67/100\n",
            "40/40 [==============================] - 0s 4ms/step - loss: 11.5214 - accuracy: 0.1155 - val_loss: 11.5311 - val_accuracy: 0.1020\n",
            "Epoch 68/100\n",
            "40/40 [==============================] - 0s 4ms/step - loss: 11.5216 - accuracy: 0.1155 - val_loss: 11.5311 - val_accuracy: 0.1020\n",
            "Epoch 69/100\n",
            "40/40 [==============================] - 0s 4ms/step - loss: 11.5215 - accuracy: 0.1155 - val_loss: 11.5311 - val_accuracy: 0.1020\n",
            "Epoch 70/100\n",
            "40/40 [==============================] - 0s 4ms/step - loss: 11.5214 - accuracy: 0.1155 - val_loss: 11.5311 - val_accuracy: 0.1020\n",
            "Epoch 71/100\n",
            "40/40 [==============================] - 0s 4ms/step - loss: 11.5215 - accuracy: 0.1155 - val_loss: 11.5311 - val_accuracy: 0.1020\n",
            "Epoch 72/100\n",
            "40/40 [==============================] - 0s 4ms/step - loss: 11.5217 - accuracy: 0.1155 - val_loss: 11.5311 - val_accuracy: 0.1020\n",
            "Epoch 73/100\n",
            "40/40 [==============================] - 0s 4ms/step - loss: 11.5215 - accuracy: 0.1155 - val_loss: 11.5311 - val_accuracy: 0.1020\n",
            "Epoch 74/100\n",
            "40/40 [==============================] - 0s 4ms/step - loss: 11.5216 - accuracy: 0.1155 - val_loss: 11.5311 - val_accuracy: 0.1020\n",
            "Epoch 75/100\n",
            "40/40 [==============================] - 0s 4ms/step - loss: 11.5216 - accuracy: 0.1155 - val_loss: 11.5311 - val_accuracy: 0.1020\n",
            "Epoch 76/100\n",
            "40/40 [==============================] - 0s 4ms/step - loss: 11.5217 - accuracy: 0.1155 - val_loss: 11.5311 - val_accuracy: 0.1020\n",
            "Epoch 77/100\n",
            "40/40 [==============================] - 0s 4ms/step - loss: 11.5215 - accuracy: 0.1155 - val_loss: 11.5311 - val_accuracy: 0.1020\n",
            "Epoch 78/100\n",
            "40/40 [==============================] - 0s 4ms/step - loss: 11.5218 - accuracy: 0.1155 - val_loss: 11.5311 - val_accuracy: 0.1020\n",
            "Epoch 79/100\n",
            "40/40 [==============================] - 0s 4ms/step - loss: 11.5219 - accuracy: 0.1155 - val_loss: 11.5311 - val_accuracy: 0.1020\n",
            "Epoch 80/100\n",
            "40/40 [==============================] - 0s 4ms/step - loss: 11.5217 - accuracy: 0.1155 - val_loss: 11.5311 - val_accuracy: 0.1020\n",
            "Epoch 81/100\n",
            "40/40 [==============================] - 0s 4ms/step - loss: 11.5217 - accuracy: 0.1155 - val_loss: 11.5311 - val_accuracy: 0.1020\n",
            "Epoch 82/100\n",
            "40/40 [==============================] - 0s 4ms/step - loss: 11.5215 - accuracy: 0.1155 - val_loss: 11.5311 - val_accuracy: 0.1020\n",
            "Epoch 83/100\n",
            "40/40 [==============================] - 0s 4ms/step - loss: 11.5215 - accuracy: 0.1155 - val_loss: 11.5311 - val_accuracy: 0.1020\n",
            "Epoch 84/100\n",
            "40/40 [==============================] - 0s 4ms/step - loss: 11.5214 - accuracy: 0.1155 - val_loss: 11.5311 - val_accuracy: 0.1020\n",
            "Epoch 85/100\n",
            "40/40 [==============================] - 0s 4ms/step - loss: 11.5215 - accuracy: 0.1155 - val_loss: 11.5311 - val_accuracy: 0.1020\n",
            "Epoch 86/100\n",
            "40/40 [==============================] - 0s 4ms/step - loss: 11.5213 - accuracy: 0.1155 - val_loss: 11.5311 - val_accuracy: 0.1020\n",
            "Epoch 87/100\n",
            "40/40 [==============================] - 0s 4ms/step - loss: 11.5216 - accuracy: 0.1155 - val_loss: 11.5311 - val_accuracy: 0.1020\n",
            "Epoch 88/100\n",
            "40/40 [==============================] - 0s 6ms/step - loss: 11.5215 - accuracy: 0.1155 - val_loss: 11.5311 - val_accuracy: 0.1020\n",
            "Epoch 89/100\n",
            "40/40 [==============================] - 0s 7ms/step - loss: 11.5217 - accuracy: 0.1155 - val_loss: 11.5311 - val_accuracy: 0.1020\n",
            "Epoch 90/100\n",
            "40/40 [==============================] - 0s 9ms/step - loss: 11.5214 - accuracy: 0.1155 - val_loss: 11.5311 - val_accuracy: 0.1020\n",
            "Epoch 91/100\n",
            "40/40 [==============================] - 0s 7ms/step - loss: 11.5217 - accuracy: 0.1155 - val_loss: 11.5311 - val_accuracy: 0.1020\n",
            "Epoch 92/100\n",
            "40/40 [==============================] - 0s 6ms/step - loss: 11.5217 - accuracy: 0.1155 - val_loss: 11.5311 - val_accuracy: 0.1020\n",
            "Epoch 93/100\n",
            "40/40 [==============================] - 0s 6ms/step - loss: 11.5215 - accuracy: 0.1155 - val_loss: 11.5311 - val_accuracy: 0.1020\n",
            "Epoch 94/100\n",
            "40/40 [==============================] - 0s 6ms/step - loss: 11.5216 - accuracy: 0.1155 - val_loss: 11.5311 - val_accuracy: 0.1020\n",
            "Epoch 95/100\n",
            "40/40 [==============================] - 0s 7ms/step - loss: 11.5217 - accuracy: 0.1155 - val_loss: 11.5310 - val_accuracy: 0.1020\n",
            "Epoch 96/100\n",
            "40/40 [==============================] - 0s 6ms/step - loss: 11.5215 - accuracy: 0.1155 - val_loss: 11.5311 - val_accuracy: 0.1020\n",
            "Epoch 97/100\n",
            "40/40 [==============================] - 0s 7ms/step - loss: 11.5215 - accuracy: 0.1155 - val_loss: 11.5311 - val_accuracy: 0.1020\n",
            "Epoch 98/100\n",
            "40/40 [==============================] - 0s 5ms/step - loss: 11.5215 - accuracy: 0.1155 - val_loss: 11.5311 - val_accuracy: 0.1020\n",
            "Epoch 99/100\n",
            "40/40 [==============================] - 0s 4ms/step - loss: 11.5217 - accuracy: 0.1155 - val_loss: 11.5311 - val_accuracy: 0.1020\n",
            "Epoch 100/100\n",
            "40/40 [==============================] - 0s 4ms/step - loss: 11.5216 - accuracy: 0.1155 - val_loss: 11.5310 - val_accuracy: 0.1020\n"
          ]
        },
        {
          "output_type": "execute_result",
          "data": {
            "text/plain": [
              "<keras.src.callbacks.History at 0x7832a0da0670>"
            ]
          },
          "metadata": {},
          "execution_count": 33
        }
      ]
    },
    {
      "cell_type": "code",
      "source": [
        "model_v2.evaluate(test_data,test_label)"
      ],
      "metadata": {
        "colab": {
          "base_uri": "https://localhost:8080/"
        },
        "id": "RmbDn3uw12SG",
        "outputId": "005ce855-dfde-4767-e1f8-99dd10516870"
      },
      "execution_count": null,
      "outputs": [
        {
          "output_type": "stream",
          "name": "stdout",
          "text": [
            "16/16 [==============================] - 0s 3ms/step - loss: 11.5622 - accuracy: 0.0940\n"
          ]
        },
        {
          "output_type": "execute_result",
          "data": {
            "text/plain": [
              "[11.562179565429688, 0.09399999678134918]"
            ]
          },
          "metadata": {},
          "execution_count": 19
        }
      ]
    },
    {
      "cell_type": "code",
      "source": [
        "results=model_v2.predict(test_data)"
      ],
      "metadata": {
        "colab": {
          "base_uri": "https://localhost:8080/"
        },
        "id": "R9RMHtNS5x38",
        "outputId": "38cafeb7-7833-4c87-852e-946e693cf290"
      },
      "execution_count": null,
      "outputs": [
        {
          "output_type": "stream",
          "name": "stdout",
          "text": [
            "16/16 [==============================] - 0s 2ms/step\n"
          ]
        }
      ]
    },
    {
      "cell_type": "code",
      "source": [
        "results.shape"
      ],
      "metadata": {
        "colab": {
          "base_uri": "https://localhost:8080/"
        },
        "id": "9YnWuwBq55Tt",
        "outputId": "a85267e5-a2d8-484b-928d-305e9bace0a4"
      },
      "execution_count": null,
      "outputs": [
        {
          "output_type": "execute_result",
          "data": {
            "text/plain": [
              "(500, 10)"
            ]
          },
          "metadata": {},
          "execution_count": 21
        }
      ]
    },
    {
      "cell_type": "code",
      "source": [
        "results[0:10][0]"
      ],
      "metadata": {
        "colab": {
          "base_uri": "https://localhost:8080/"
        },
        "id": "MG5-ufq96Gf-",
        "outputId": "fb3ba5cd-4b58-463a-d60f-cb1a09711432"
      },
      "execution_count": null,
      "outputs": [
        {
          "output_type": "execute_result",
          "data": {
            "text/plain": [
              "array([0.10204957, 0.09569108, 0.09571774, 0.10301384, 0.10824418,\n",
              "       0.1067678 , 0.09315227, 0.10114346, 0.09758276, 0.09663732],\n",
              "      dtype=float32)"
            ]
          },
          "metadata": {},
          "execution_count": 25
        }
      ]
    },
    {
      "cell_type": "code",
      "source": [
        "test_label[0:10][0]"
      ],
      "metadata": {
        "colab": {
          "base_uri": "https://localhost:8080/"
        },
        "id": "Gfd1eadA6Kb4",
        "outputId": "0ead6abd-7041-4cdd-f215-48ef035bff37"
      },
      "execution_count": null,
      "outputs": [
        {
          "output_type": "execute_result",
          "data": {
            "text/plain": [
              "array([0.50744851, 0.22098103, 0.46882194, 0.78210094, 0.05660426,\n",
              "       0.90250769, 0.03908042, 0.65567298, 0.64171387, 0.82318734])"
            ]
          },
          "metadata": {},
          "execution_count": 26
        }
      ]
    },
    {
      "cell_type": "markdown",
      "source": [
        "### KERAS FUNCTIONAL API"
      ],
      "metadata": {
        "id": "BTVynuF_hEjK"
      }
    },
    {
      "cell_type": "code",
      "source": [
        "import tensorflow  as tf\n",
        "\n",
        "mnist=tf.keras.datasets.mnist\n",
        "(X_mnist_train,y_mnist_train),(X_mnist_test,y_mnist_test)=mnist.load_data()"
      ],
      "metadata": {
        "colab": {
          "base_uri": "https://localhost:8080/"
        },
        "id": "dUGEyZBchOfe",
        "outputId": "302a221c-2ca8-4014-c8d0-be409be89dfe"
      },
      "execution_count": 2,
      "outputs": [
        {
          "output_type": "stream",
          "name": "stdout",
          "text": [
            "Downloading data from https://storage.googleapis.com/tensorflow/tf-keras-datasets/mnist.npz\n",
            "11490434/11490434 [==============================] - 0s 0us/step\n"
          ]
        }
      ]
    },
    {
      "cell_type": "code",
      "source": [
        "print(X_mnist_train.shape,X_mnist_test.shape)"
      ],
      "metadata": {
        "colab": {
          "base_uri": "https://localhost:8080/"
        },
        "id": "2EiQg4Cgh9eW",
        "outputId": "0b821317-2ed4-454e-be30-eb9c6638c510"
      },
      "execution_count": 3,
      "outputs": [
        {
          "output_type": "stream",
          "name": "stdout",
          "text": [
            "(60000, 28, 28) (10000, 28, 28)\n"
          ]
        }
      ]
    },
    {
      "cell_type": "code",
      "source": [
        "set(y_mnist_train)"
      ],
      "metadata": {
        "colab": {
          "base_uri": "https://localhost:8080/"
        },
        "id": "XlyNTpgAiERy",
        "outputId": "0d5d535a-1c26-45da-f5c5-8be7589e6cb2"
      },
      "execution_count": 4,
      "outputs": [
        {
          "output_type": "execute_result",
          "data": {
            "text/plain": [
              "{0, 1, 2, 3, 4, 5, 6, 7, 8, 9}"
            ]
          },
          "metadata": {},
          "execution_count": 4
        }
      ]
    },
    {
      "cell_type": "code",
      "source": [
        "def normalize_grayscale(image_data):\n",
        "  a=0.1\n",
        "  b=0.9\n",
        "  image_data_min=image_data.min()\n",
        "  image_data_max=image_data.max()\n",
        "  return a+((image_data-image_data_min)*(b-a))/(image_data_max-image_data_min)\n",
        "train_mnist_features=normalize_grayscale(X_mnist_train)\n",
        "test_mnist_features=normalize_grayscale(X_mnist_test)"
      ],
      "metadata": {
        "id": "NKGSrEhFiPRR"
      },
      "execution_count": 5,
      "outputs": []
    },
    {
      "cell_type": "code",
      "source": [
        "train_mnist_features[0],test_mnist_features[0]"
      ],
      "metadata": {
        "colab": {
          "base_uri": "https://localhost:8080/"
        },
        "id": "1Zje0w4NjwBs",
        "outputId": "52b7ead7-4b1f-4599-f219-a911e1681f3d"
      },
      "execution_count": 6,
      "outputs": [
        {
          "output_type": "execute_result",
          "data": {
            "text/plain": [
              "(array([[0.1       , 0.1       , 0.1       , 0.1       , 0.1       ,\n",
              "         0.1       , 0.1       , 0.1       , 0.1       , 0.1       ,\n",
              "         0.1       , 0.1       , 0.1       , 0.1       , 0.1       ,\n",
              "         0.1       , 0.1       , 0.1       , 0.1       , 0.1       ,\n",
              "         0.1       , 0.1       , 0.1       , 0.1       , 0.1       ,\n",
              "         0.1       , 0.1       , 0.1       ],\n",
              "        [0.1       , 0.1       , 0.1       , 0.1       , 0.1       ,\n",
              "         0.1       , 0.1       , 0.1       , 0.1       , 0.1       ,\n",
              "         0.1       , 0.1       , 0.1       , 0.1       , 0.1       ,\n",
              "         0.1       , 0.1       , 0.1       , 0.1       , 0.1       ,\n",
              "         0.1       , 0.1       , 0.1       , 0.1       , 0.1       ,\n",
              "         0.1       , 0.1       , 0.1       ],\n",
              "        [0.1       , 0.1       , 0.1       , 0.1       , 0.1       ,\n",
              "         0.1       , 0.1       , 0.1       , 0.1       , 0.1       ,\n",
              "         0.1       , 0.1       , 0.1       , 0.1       , 0.1       ,\n",
              "         0.1       , 0.1       , 0.1       , 0.1       , 0.1       ,\n",
              "         0.1       , 0.1       , 0.1       , 0.1       , 0.1       ,\n",
              "         0.1       , 0.1       , 0.1       ],\n",
              "        [0.1       , 0.1       , 0.1       , 0.1       , 0.1       ,\n",
              "         0.1       , 0.1       , 0.1       , 0.1       , 0.1       ,\n",
              "         0.1       , 0.1       , 0.1       , 0.1       , 0.1       ,\n",
              "         0.1       , 0.1       , 0.1       , 0.1       , 0.1       ,\n",
              "         0.1       , 0.1       , 0.1       , 0.1       , 0.1       ,\n",
              "         0.1       , 0.1       , 0.1       ],\n",
              "        [0.1       , 0.1       , 0.1       , 0.1       , 0.1       ,\n",
              "         0.1       , 0.1       , 0.1       , 0.1       , 0.1       ,\n",
              "         0.1       , 0.1       , 0.1       , 0.1       , 0.1       ,\n",
              "         0.1       , 0.1       , 0.1       , 0.1       , 0.1       ,\n",
              "         0.1       , 0.1       , 0.1       , 0.1       , 0.1       ,\n",
              "         0.1       , 0.1       , 0.1       ],\n",
              "        [0.1       , 0.1       , 0.1       , 0.1       , 0.1       ,\n",
              "         0.1       , 0.1       , 0.1       , 0.1       , 0.1       ,\n",
              "         0.1       , 0.1       , 0.10941176, 0.15647059, 0.15647059,\n",
              "         0.15647059, 0.49529412, 0.52666667, 0.64901961, 0.18156863,\n",
              "         0.62078431, 0.9       , 0.87490196, 0.49843137, 0.1       ,\n",
              "         0.1       , 0.1       , 0.1       ],\n",
              "        [0.1       , 0.1       , 0.1       , 0.1       , 0.1       ,\n",
              "         0.1       , 0.1       , 0.1       , 0.19411765, 0.21294118,\n",
              "         0.39490196, 0.58313725, 0.63333333, 0.89372549, 0.89372549,\n",
              "         0.89372549, 0.89372549, 0.89372549, 0.80588235, 0.63960784,\n",
              "         0.89372549, 0.85921569, 0.71176471, 0.30078431, 0.1       ,\n",
              "         0.1       , 0.1       , 0.1       ],\n",
              "        [0.1       , 0.1       , 0.1       , 0.1       , 0.1       ,\n",
              "         0.1       , 0.1       , 0.25372549, 0.84666667, 0.89372549,\n",
              "         0.89372549, 0.89372549, 0.89372549, 0.89372549, 0.89372549,\n",
              "         0.89372549, 0.89372549, 0.88745098, 0.39176471, 0.3572549 ,\n",
              "         0.3572549 , 0.27568627, 0.22235294, 0.1       , 0.1       ,\n",
              "         0.1       , 0.1       , 0.1       ],\n",
              "        [0.1       , 0.1       , 0.1       , 0.1       , 0.1       ,\n",
              "         0.1       , 0.1       , 0.15647059, 0.78705882, 0.89372549,\n",
              "         0.89372549, 0.89372549, 0.89372549, 0.89372549, 0.72117647,\n",
              "         0.67098039, 0.87490196, 0.85607843, 0.1       , 0.1       ,\n",
              "         0.1       , 0.1       , 0.1       , 0.1       , 0.1       ,\n",
              "         0.1       , 0.1       , 0.1       ],\n",
              "        [0.1       , 0.1       , 0.1       , 0.1       , 0.1       ,\n",
              "         0.1       , 0.1       , 0.1       , 0.35098039, 0.58941176,\n",
              "         0.43568627, 0.89372549, 0.89372549, 0.74313725, 0.1345098 ,\n",
              "         0.1       , 0.23490196, 0.58313725, 0.1       , 0.1       ,\n",
              "         0.1       , 0.1       , 0.1       , 0.1       , 0.1       ,\n",
              "         0.1       , 0.1       , 0.1       ],\n",
              "        [0.1       , 0.1       , 0.1       , 0.1       , 0.1       ,\n",
              "         0.1       , 0.1       , 0.1       , 0.1       , 0.14392157,\n",
              "         0.10313725, 0.58313725, 0.89372549, 0.38235294, 0.1       ,\n",
              "         0.1       , 0.1       , 0.1       , 0.1       , 0.1       ,\n",
              "         0.1       , 0.1       , 0.1       , 0.1       , 0.1       ,\n",
              "         0.1       , 0.1       , 0.1       ],\n",
              "        [0.1       , 0.1       , 0.1       , 0.1       , 0.1       ,\n",
              "         0.1       , 0.1       , 0.1       , 0.1       , 0.1       ,\n",
              "         0.1       , 0.53607843, 0.89372549, 0.69607843, 0.10627451,\n",
              "         0.1       , 0.1       , 0.1       , 0.1       , 0.1       ,\n",
              "         0.1       , 0.1       , 0.1       , 0.1       , 0.1       ,\n",
              "         0.1       , 0.1       , 0.1       ],\n",
              "        [0.1       , 0.1       , 0.1       , 0.1       , 0.1       ,\n",
              "         0.1       , 0.1       , 0.1       , 0.1       , 0.1       ,\n",
              "         0.1       , 0.1345098 , 0.69607843, 0.89372549, 0.31960784,\n",
              "         0.1       , 0.1       , 0.1       , 0.1       , 0.1       ,\n",
              "         0.1       , 0.1       , 0.1       , 0.1       , 0.1       ,\n",
              "         0.1       , 0.1       , 0.1       ],\n",
              "        [0.1       , 0.1       , 0.1       , 0.1       , 0.1       ,\n",
              "         0.1       , 0.1       , 0.1       , 0.1       , 0.1       ,\n",
              "         0.1       , 0.1       , 0.20980392, 0.85607843, 0.80588235,\n",
              "         0.60196078, 0.43882353, 0.10313725, 0.1       , 0.1       ,\n",
              "         0.1       , 0.1       , 0.1       , 0.1       , 0.1       ,\n",
              "         0.1       , 0.1       , 0.1       ],\n",
              "        [0.1       , 0.1       , 0.1       , 0.1       , 0.1       ,\n",
              "         0.1       , 0.1       , 0.1       , 0.1       , 0.1       ,\n",
              "         0.1       , 0.1       , 0.1       , 0.35411765, 0.85294118,\n",
              "         0.89372549, 0.89372549, 0.47333333, 0.17843137, 0.1       ,\n",
              "         0.1       , 0.1       , 0.1       , 0.1       , 0.1       ,\n",
              "         0.1       , 0.1       , 0.1       ],\n",
              "        [0.1       , 0.1       , 0.1       , 0.1       , 0.1       ,\n",
              "         0.1       , 0.1       , 0.1       , 0.1       , 0.1       ,\n",
              "         0.1       , 0.1       , 0.1       , 0.1       , 0.24117647,\n",
              "         0.68352941, 0.89372549, 0.89372549, 0.57058824, 0.18470588,\n",
              "         0.1       , 0.1       , 0.1       , 0.1       , 0.1       ,\n",
              "         0.1       , 0.1       , 0.1       ],\n",
              "        [0.1       , 0.1       , 0.1       , 0.1       , 0.1       ,\n",
              "         0.1       , 0.1       , 0.1       , 0.1       , 0.1       ,\n",
              "         0.1       , 0.1       , 0.1       , 0.1       , 0.1       ,\n",
              "         0.15019608, 0.39176471, 0.89058824, 0.89372549, 0.68666667,\n",
              "         0.1       , 0.1       , 0.1       , 0.1       , 0.1       ,\n",
              "         0.1       , 0.1       , 0.1       ],\n",
              "        [0.1       , 0.1       , 0.1       , 0.1       , 0.1       ,\n",
              "         0.1       , 0.1       , 0.1       , 0.1       , 0.1       ,\n",
              "         0.1       , 0.1       , 0.1       , 0.1       , 0.1       ,\n",
              "         0.1       , 0.1       , 0.88117647, 0.89372549, 0.88117647,\n",
              "         0.30078431, 0.1       , 0.1       , 0.1       , 0.1       ,\n",
              "         0.1       , 0.1       , 0.1       ],\n",
              "        [0.1       , 0.1       , 0.1       , 0.1       , 0.1       ,\n",
              "         0.1       , 0.1       , 0.1       , 0.1       , 0.1       ,\n",
              "         0.1       , 0.1       , 0.1       , 0.1       , 0.24431373,\n",
              "         0.50784314, 0.67411765, 0.89372549, 0.89372549, 0.74941176,\n",
              "         0.10627451, 0.1       , 0.1       , 0.1       , 0.1       ,\n",
              "         0.1       , 0.1       , 0.1       ],\n",
              "        [0.1       , 0.1       , 0.1       , 0.1       , 0.1       ,\n",
              "         0.1       , 0.1       , 0.1       , 0.1       , 0.1       ,\n",
              "         0.1       , 0.1       , 0.22235294, 0.56431373, 0.81843137,\n",
              "         0.89372549, 0.89372549, 0.89372549, 0.88431373, 0.67098039,\n",
              "         0.1       , 0.1       , 0.1       , 0.1       , 0.1       ,\n",
              "         0.1       , 0.1       , 0.1       ],\n",
              "        [0.1       , 0.1       , 0.1       , 0.1       , 0.1       ,\n",
              "         0.1       , 0.1       , 0.1       , 0.1       , 0.1       ,\n",
              "         0.17529412, 0.45764706, 0.79333333, 0.89372549, 0.89372549,\n",
              "         0.89372549, 0.89372549, 0.73058824, 0.34470588, 0.1       ,\n",
              "         0.1       , 0.1       , 0.1       , 0.1       , 0.1       ,\n",
              "         0.1       , 0.1       , 0.1       ],\n",
              "        [0.1       , 0.1       , 0.1       , 0.1       , 0.1       ,\n",
              "         0.1       , 0.1       , 0.1       , 0.17215686, 0.30705882,\n",
              "         0.76823529, 0.89372549, 0.89372549, 0.89372549, 0.89372549,\n",
              "         0.72117647, 0.35411765, 0.10627451, 0.1       , 0.1       ,\n",
              "         0.1       , 0.1       , 0.1       , 0.1       , 0.1       ,\n",
              "         0.1       , 0.1       , 0.1       ],\n",
              "        [0.1       , 0.1       , 0.1       , 0.1       , 0.1       ,\n",
              "         0.1       , 0.15647059, 0.63647059, 0.78705882, 0.89372549,\n",
              "         0.89372549, 0.89372549, 0.89372549, 0.71176471, 0.35098039,\n",
              "         0.12823529, 0.1       , 0.1       , 0.1       , 0.1       ,\n",
              "         0.1       , 0.1       , 0.1       , 0.1       , 0.1       ,\n",
              "         0.1       , 0.1       , 0.1       ],\n",
              "        [0.1       , 0.1       , 0.1       , 0.1       , 0.27254902,\n",
              "         0.63960784, 0.80901961, 0.89372549, 0.89372549, 0.89372549,\n",
              "         0.89372549, 0.8654902 , 0.5172549 , 0.1345098 , 0.1       ,\n",
              "         0.1       , 0.1       , 0.1       , 0.1       , 0.1       ,\n",
              "         0.1       , 0.1       , 0.1       , 0.1       , 0.1       ,\n",
              "         0.1       , 0.1       , 0.1       ],\n",
              "        [0.1       , 0.1       , 0.1       , 0.1       , 0.52666667,\n",
              "         0.89372549, 0.89372549, 0.89372549, 0.76509804, 0.52352941,\n",
              "         0.51411765, 0.15019608, 0.1       , 0.1       , 0.1       ,\n",
              "         0.1       , 0.1       , 0.1       , 0.1       , 0.1       ,\n",
              "         0.1       , 0.1       , 0.1       , 0.1       , 0.1       ,\n",
              "         0.1       , 0.1       , 0.1       ],\n",
              "        [0.1       , 0.1       , 0.1       , 0.1       , 0.1       ,\n",
              "         0.1       , 0.1       , 0.1       , 0.1       , 0.1       ,\n",
              "         0.1       , 0.1       , 0.1       , 0.1       , 0.1       ,\n",
              "         0.1       , 0.1       , 0.1       , 0.1       , 0.1       ,\n",
              "         0.1       , 0.1       , 0.1       , 0.1       , 0.1       ,\n",
              "         0.1       , 0.1       , 0.1       ],\n",
              "        [0.1       , 0.1       , 0.1       , 0.1       , 0.1       ,\n",
              "         0.1       , 0.1       , 0.1       , 0.1       , 0.1       ,\n",
              "         0.1       , 0.1       , 0.1       , 0.1       , 0.1       ,\n",
              "         0.1       , 0.1       , 0.1       , 0.1       , 0.1       ,\n",
              "         0.1       , 0.1       , 0.1       , 0.1       , 0.1       ,\n",
              "         0.1       , 0.1       , 0.1       ],\n",
              "        [0.1       , 0.1       , 0.1       , 0.1       , 0.1       ,\n",
              "         0.1       , 0.1       , 0.1       , 0.1       , 0.1       ,\n",
              "         0.1       , 0.1       , 0.1       , 0.1       , 0.1       ,\n",
              "         0.1       , 0.1       , 0.1       , 0.1       , 0.1       ,\n",
              "         0.1       , 0.1       , 0.1       , 0.1       , 0.1       ,\n",
              "         0.1       , 0.1       , 0.1       ]]),\n",
              " array([[0.1       , 0.1       , 0.1       , 0.1       , 0.1       ,\n",
              "         0.1       , 0.1       , 0.1       , 0.1       , 0.1       ,\n",
              "         0.1       , 0.1       , 0.1       , 0.1       , 0.1       ,\n",
              "         0.1       , 0.1       , 0.1       , 0.1       , 0.1       ,\n",
              "         0.1       , 0.1       , 0.1       , 0.1       , 0.1       ,\n",
              "         0.1       , 0.1       , 0.1       ],\n",
              "        [0.1       , 0.1       , 0.1       , 0.1       , 0.1       ,\n",
              "         0.1       , 0.1       , 0.1       , 0.1       , 0.1       ,\n",
              "         0.1       , 0.1       , 0.1       , 0.1       , 0.1       ,\n",
              "         0.1       , 0.1       , 0.1       , 0.1       , 0.1       ,\n",
              "         0.1       , 0.1       , 0.1       , 0.1       , 0.1       ,\n",
              "         0.1       , 0.1       , 0.1       ],\n",
              "        [0.1       , 0.1       , 0.1       , 0.1       , 0.1       ,\n",
              "         0.1       , 0.1       , 0.1       , 0.1       , 0.1       ,\n",
              "         0.1       , 0.1       , 0.1       , 0.1       , 0.1       ,\n",
              "         0.1       , 0.1       , 0.1       , 0.1       , 0.1       ,\n",
              "         0.1       , 0.1       , 0.1       , 0.1       , 0.1       ,\n",
              "         0.1       , 0.1       , 0.1       ],\n",
              "        [0.1       , 0.1       , 0.1       , 0.1       , 0.1       ,\n",
              "         0.1       , 0.1       , 0.1       , 0.1       , 0.1       ,\n",
              "         0.1       , 0.1       , 0.1       , 0.1       , 0.1       ,\n",
              "         0.1       , 0.1       , 0.1       , 0.1       , 0.1       ,\n",
              "         0.1       , 0.1       , 0.1       , 0.1       , 0.1       ,\n",
              "         0.1       , 0.1       , 0.1       ],\n",
              "        [0.1       , 0.1       , 0.1       , 0.1       , 0.1       ,\n",
              "         0.1       , 0.1       , 0.1       , 0.1       , 0.1       ,\n",
              "         0.1       , 0.1       , 0.1       , 0.1       , 0.1       ,\n",
              "         0.1       , 0.1       , 0.1       , 0.1       , 0.1       ,\n",
              "         0.1       , 0.1       , 0.1       , 0.1       , 0.1       ,\n",
              "         0.1       , 0.1       , 0.1       ],\n",
              "        [0.1       , 0.1       , 0.1       , 0.1       , 0.1       ,\n",
              "         0.1       , 0.1       , 0.1       , 0.1       , 0.1       ,\n",
              "         0.1       , 0.1       , 0.1       , 0.1       , 0.1       ,\n",
              "         0.1       , 0.1       , 0.1       , 0.1       , 0.1       ,\n",
              "         0.1       , 0.1       , 0.1       , 0.1       , 0.1       ,\n",
              "         0.1       , 0.1       , 0.1       ],\n",
              "        [0.1       , 0.1       , 0.1       , 0.1       , 0.1       ,\n",
              "         0.1       , 0.1       , 0.1       , 0.1       , 0.1       ,\n",
              "         0.1       , 0.1       , 0.1       , 0.1       , 0.1       ,\n",
              "         0.1       , 0.1       , 0.1       , 0.1       , 0.1       ,\n",
              "         0.1       , 0.1       , 0.1       , 0.1       , 0.1       ,\n",
              "         0.1       , 0.1       , 0.1       ],\n",
              "        [0.1       , 0.1       , 0.1       , 0.1       , 0.1       ,\n",
              "         0.1       , 0.36352941, 0.68039216, 0.59882353, 0.57372549,\n",
              "         0.28823529, 0.21294118, 0.1       , 0.1       , 0.1       ,\n",
              "         0.1       , 0.1       , 0.1       , 0.1       , 0.1       ,\n",
              "         0.1       , 0.1       , 0.1       , 0.1       , 0.1       ,\n",
              "         0.1       , 0.1       , 0.1       ],\n",
              "        [0.1       , 0.1       , 0.1       , 0.1       , 0.1       ,\n",
              "         0.1       , 0.79647059, 0.89686275, 0.89686275, 0.89686275,\n",
              "         0.89686275, 0.85607843, 0.72117647, 0.72117647, 0.72117647,\n",
              "         0.72117647, 0.72117647, 0.72117647, 0.72117647, 0.72117647,\n",
              "         0.63333333, 0.26313725, 0.1       , 0.1       , 0.1       ,\n",
              "         0.1       , 0.1       , 0.1       ],\n",
              "        [0.1       , 0.1       , 0.1       , 0.1       , 0.1       ,\n",
              "         0.1       , 0.31019608, 0.45764706, 0.32588235, 0.45764706,\n",
              "         0.61137255, 0.81215686, 0.89686275, 0.80588235, 0.89686275,\n",
              "         0.89686275, 0.89686275, 0.88431373, 0.81843137, 0.89686275,\n",
              "         0.89686275, 0.53921569, 0.1       , 0.1       , 0.1       ,\n",
              "         0.1       , 0.1       , 0.1       ],\n",
              "        [0.1       , 0.1       , 0.1       , 0.1       , 0.1       ,\n",
              "         0.1       , 0.1       , 0.1       , 0.1       , 0.1       ,\n",
              "         0.1       , 0.15333333, 0.30705882, 0.14392157, 0.31019608,\n",
              "         0.31019608, 0.31019608, 0.28509804, 0.16588235, 0.84039216,\n",
              "         0.89686275, 0.43254902, 0.1       , 0.1       , 0.1       ,\n",
              "         0.1       , 0.1       , 0.1       ],\n",
              "        [0.1       , 0.1       , 0.1       , 0.1       , 0.1       ,\n",
              "         0.1       , 0.1       , 0.1       , 0.1       , 0.1       ,\n",
              "         0.1       , 0.1       , 0.1       , 0.1       , 0.1       ,\n",
              "         0.1       , 0.1       , 0.1       , 0.36039216, 0.89372549,\n",
              "         0.75568627, 0.15647059, 0.1       , 0.1       , 0.1       ,\n",
              "         0.1       , 0.1       , 0.1       ],\n",
              "        [0.1       , 0.1       , 0.1       , 0.1       , 0.1       ,\n",
              "         0.1       , 0.1       , 0.1       , 0.1       , 0.1       ,\n",
              "         0.1       , 0.1       , 0.1       , 0.1       , 0.1       ,\n",
              "         0.1       , 0.1       , 0.16901961, 0.83098039, 0.9       ,\n",
              "         0.36039216, 0.1       , 0.1       , 0.1       , 0.1       ,\n",
              "         0.1       , 0.1       , 0.1       ],\n",
              "        [0.1       , 0.1       , 0.1       , 0.1       , 0.1       ,\n",
              "         0.1       , 0.1       , 0.1       , 0.1       , 0.1       ,\n",
              "         0.1       , 0.1       , 0.1       , 0.1       , 0.1       ,\n",
              "         0.1       , 0.1       , 0.50470588, 0.89686275, 0.84666667,\n",
              "         0.23803922, 0.1       , 0.1       , 0.1       , 0.1       ,\n",
              "         0.1       , 0.1       , 0.1       ],\n",
              "        [0.1       , 0.1       , 0.1       , 0.1       , 0.1       ,\n",
              "         0.1       , 0.1       , 0.1       , 0.1       , 0.1       ,\n",
              "         0.1       , 0.1       , 0.1       , 0.1       , 0.1       ,\n",
              "         0.1       , 0.28509804, 0.88117647, 0.89686275, 0.2945098 ,\n",
              "         0.1       , 0.1       , 0.1       , 0.1       , 0.1       ,\n",
              "         0.1       , 0.1       , 0.1       ],\n",
              "        [0.1       , 0.1       , 0.1       , 0.1       , 0.1       ,\n",
              "         0.1       , 0.1       , 0.1       , 0.1       , 0.1       ,\n",
              "         0.1       , 0.1       , 0.1       , 0.1       , 0.1       ,\n",
              "         0.1       , 0.5172549 , 0.89686275, 0.68666667, 0.11568627,\n",
              "         0.1       , 0.1       , 0.1       , 0.1       , 0.1       ,\n",
              "         0.1       , 0.1       , 0.1       ],\n",
              "        [0.1       , 0.1       , 0.1       , 0.1       , 0.1       ,\n",
              "         0.1       , 0.1       , 0.1       , 0.1       , 0.1       ,\n",
              "         0.1       , 0.1       , 0.1       , 0.1       , 0.1       ,\n",
              "         0.12823529, 0.74313725, 0.87803922, 0.28196078, 0.1       ,\n",
              "         0.1       , 0.1       , 0.1       , 0.1       , 0.1       ,\n",
              "         0.1       , 0.1       , 0.1       ],\n",
              "        [0.1       , 0.1       , 0.1       , 0.1       , 0.1       ,\n",
              "         0.1       , 0.1       , 0.1       , 0.1       , 0.1       ,\n",
              "         0.1       , 0.1       , 0.1       , 0.1       , 0.1       ,\n",
              "         0.49529412, 0.89686275, 0.67098039, 0.1       , 0.1       ,\n",
              "         0.1       , 0.1       , 0.1       , 0.1       , 0.1       ,\n",
              "         0.1       , 0.1       , 0.1       ],\n",
              "        [0.1       , 0.1       , 0.1       , 0.1       , 0.1       ,\n",
              "         0.1       , 0.1       , 0.1       , 0.1       , 0.1       ,\n",
              "         0.1       , 0.1       , 0.1       , 0.1       , 0.33529412,\n",
              "         0.88745098, 0.85294118, 0.27882353, 0.1       , 0.1       ,\n",
              "         0.1       , 0.1       , 0.1       , 0.1       , 0.1       ,\n",
              "         0.1       , 0.1       , 0.1       ],\n",
              "        [0.1       , 0.1       , 0.1       , 0.1       , 0.1       ,\n",
              "         0.1       , 0.1       , 0.1       , 0.1       , 0.1       ,\n",
              "         0.1       , 0.1       , 0.1       , 0.15960784, 0.79333333,\n",
              "         0.89686275, 0.62078431, 0.1       , 0.1       , 0.1       ,\n",
              "         0.1       , 0.1       , 0.1       , 0.1       , 0.1       ,\n",
              "         0.1       , 0.1       , 0.1       ],\n",
              "        [0.1       , 0.1       , 0.1       , 0.1       , 0.1       ,\n",
              "         0.1       , 0.1       , 0.1       , 0.1       , 0.1       ,\n",
              "         0.1       , 0.1       , 0.10941176, 0.73686275, 0.89686275,\n",
              "         0.78705882, 0.20980392, 0.1       , 0.1       , 0.1       ,\n",
              "         0.1       , 0.1       , 0.1       , 0.1       , 0.1       ,\n",
              "         0.1       , 0.1       , 0.1       ],\n",
              "        [0.1       , 0.1       , 0.1       , 0.1       , 0.1       ,\n",
              "         0.1       , 0.1       , 0.1       , 0.1       , 0.1       ,\n",
              "         0.1       , 0.1       , 0.21921569, 0.89686275, 0.89686275,\n",
              "         0.34156863, 0.1       , 0.1       , 0.1       , 0.1       ,\n",
              "         0.1       , 0.1       , 0.1       , 0.1       , 0.1       ,\n",
              "         0.1       , 0.1       , 0.1       ],\n",
              "        [0.1       , 0.1       , 0.1       , 0.1       , 0.1       ,\n",
              "         0.1       , 0.1       , 0.1       , 0.1       , 0.1       ,\n",
              "         0.1       , 0.1972549 , 0.8027451 , 0.89686275, 0.46078431,\n",
              "         0.10313725, 0.1       , 0.1       , 0.1       , 0.1       ,\n",
              "         0.1       , 0.1       , 0.1       , 0.1       , 0.1       ,\n",
              "         0.1       , 0.1       , 0.1       ],\n",
              "        [0.1       , 0.1       , 0.1       , 0.1       , 0.1       ,\n",
              "         0.1       , 0.1       , 0.1       , 0.1       , 0.1       ,\n",
              "         0.1       , 0.5172549 , 0.89686275, 0.89686275, 0.26313725,\n",
              "         0.1       , 0.1       , 0.1       , 0.1       , 0.1       ,\n",
              "         0.1       , 0.1       , 0.1       , 0.1       , 0.1       ,\n",
              "         0.1       , 0.1       , 0.1       ],\n",
              "        [0.1       , 0.1       , 0.1       , 0.1       , 0.1       ,\n",
              "         0.1       , 0.1       , 0.1       , 0.1       , 0.1       ,\n",
              "         0.29137255, 0.85921569, 0.89686275, 0.89686275, 0.26313725,\n",
              "         0.1       , 0.1       , 0.1       , 0.1       , 0.1       ,\n",
              "         0.1       , 0.1       , 0.1       , 0.1       , 0.1       ,\n",
              "         0.1       , 0.1       , 0.1       ],\n",
              "        [0.1       , 0.1       , 0.1       , 0.1       , 0.1       ,\n",
              "         0.1       , 0.1       , 0.1       , 0.1       , 0.1       ,\n",
              "         0.47960784, 0.89686275, 0.89686275, 0.78705882, 0.2254902 ,\n",
              "         0.1       , 0.1       , 0.1       , 0.1       , 0.1       ,\n",
              "         0.1       , 0.1       , 0.1       , 0.1       , 0.1       ,\n",
              "         0.1       , 0.1       , 0.1       ],\n",
              "        [0.1       , 0.1       , 0.1       , 0.1       , 0.1       ,\n",
              "         0.1       , 0.1       , 0.1       , 0.1       , 0.1       ,\n",
              "         0.47960784, 0.89686275, 0.74941176, 0.15647059, 0.1       ,\n",
              "         0.1       , 0.1       , 0.1       , 0.1       , 0.1       ,\n",
              "         0.1       , 0.1       , 0.1       , 0.1       , 0.1       ,\n",
              "         0.1       , 0.1       , 0.1       ],\n",
              "        [0.1       , 0.1       , 0.1       , 0.1       , 0.1       ,\n",
              "         0.1       , 0.1       , 0.1       , 0.1       , 0.1       ,\n",
              "         0.1       , 0.1       , 0.1       , 0.1       , 0.1       ,\n",
              "         0.1       , 0.1       , 0.1       , 0.1       , 0.1       ,\n",
              "         0.1       , 0.1       , 0.1       , 0.1       , 0.1       ,\n",
              "         0.1       , 0.1       , 0.1       ]]))"
            ]
          },
          "metadata": {},
          "execution_count": 6
        }
      ]
    },
    {
      "cell_type": "code",
      "source": [
        "inputs=tf.keras.Input(shape=(28,28))\n",
        "# 28 x 28 = 784 node - pixels\n",
        "flatten_layer=tf.keras.layers.Flatten()\n",
        "flatten_ouput=flatten_layer(inputs)\n",
        "dense_layer=tf.keras.layers.Dense(50,activation='relu')\n",
        "dense_output=dense_layer(flatten_ouput)\n",
        "predictions=tf.keras.layers.Dense(10,activation='softmax')(dense_output)\n",
        "\n",
        "model=tf.keras.Model(inputs=inputs,outputs=predictions)\n",
        "model.summary()\n"
      ],
      "metadata": {
        "colab": {
          "base_uri": "https://localhost:8080/"
        },
        "id": "0Sg-C4Xoj8XA",
        "outputId": "04628957-338f-4d67-ebe7-0f697fcccbea"
      },
      "execution_count": 11,
      "outputs": [
        {
          "output_type": "stream",
          "name": "stdout",
          "text": [
            "Model: \"model_1\"\n",
            "_________________________________________________________________\n",
            " Layer (type)                Output Shape              Param #   \n",
            "=================================================================\n",
            " input_4 (InputLayer)        [(None, 28, 28)]          0         \n",
            "                                                                 \n",
            " flatten_2 (Flatten)         (None, 784)               0         \n",
            "                                                                 \n",
            " dense_4 (Dense)             (None, 50)                39250     \n",
            "                                                                 \n",
            " dense_5 (Dense)             (None, 10)                510       \n",
            "                                                                 \n",
            "=================================================================\n",
            "Total params: 39760 (155.31 KB)\n",
            "Trainable params: 39760 (155.31 KB)\n",
            "Non-trainable params: 0 (0.00 Byte)\n",
            "_________________________________________________________________\n"
          ]
        }
      ]
    },
    {
      "cell_type": "code",
      "source": [
        "tf.keras.utils.plot_model(model,\"image-classification_model.png\",show_shapes=True)"
      ],
      "metadata": {
        "colab": {
          "base_uri": "https://localhost:8080/",
          "height": 422
        },
        "id": "1xobDDFonXYO",
        "outputId": "f3916bbf-0c84-41d2-f50d-b4a629c2a865"
      },
      "execution_count": 14,
      "outputs": [
        {
          "output_type": "execute_result",
          "data": {
            "image/png": "[encoded data removed]",
            "text/plain": [
              "<IPython.core.display.Image object>"
            ]
          },
          "metadata": {},
          "execution_count": 14
        }
      ]
    },
    {
      "cell_type": "code",
      "source": [
        "model.compile(optimizer=\"SGD\",loss=\"sparse_categorical_crossentropy\",metrics=[\"accuracy\"])\n",
        "#train\n",
        "model.fit(train_mnist_features,y_mnist_train,validation_data=(test_mnist_features,y_mnist_test),epochs=10)"
      ],
      "metadata": {
        "colab": {
          "base_uri": "https://localhost:8080/"
        },
        "id": "AFQwPiX6narC",
        "outputId": "c2e8a55a-3905-4faa-d371-2968db6a6c15"
      },
      "execution_count": 16,
      "outputs": [
        {
          "output_type": "stream",
          "name": "stdout",
          "text": [
            "Epoch 1/10\n",
            "1875/1875 [==============================] - 9s 4ms/step - loss: 0.7903 - accuracy: 0.8004 - val_loss: 0.4061 - val_accuracy: 0.8920\n",
            "Epoch 2/10\n",
            "1875/1875 [==============================] - 5s 3ms/step - loss: 0.3804 - accuracy: 0.8935 - val_loss: 0.3275 - val_accuracy: 0.9079\n",
            "Epoch 3/10\n",
            "1875/1875 [==============================] - 6s 3ms/step - loss: 0.3285 - accuracy: 0.9064 - val_loss: 0.2980 - val_accuracy: 0.9170\n",
            "Epoch 4/10\n",
            "1875/1875 [==============================] - 5s 3ms/step - loss: 0.3010 - accuracy: 0.9150 - val_loss: 0.2820 - val_accuracy: 0.9187\n",
            "Epoch 5/10\n",
            "1875/1875 [==============================] - 5s 3ms/step - loss: 0.2815 - accuracy: 0.9205 - val_loss: 0.2648 - val_accuracy: 0.9242\n",
            "Epoch 6/10\n",
            "1875/1875 [==============================] - 6s 3ms/step - loss: 0.2653 - accuracy: 0.9250 - val_loss: 0.2490 - val_accuracy: 0.9282\n",
            "Epoch 7/10\n",
            "1875/1875 [==============================] - 5s 3ms/step - loss: 0.2519 - accuracy: 0.9283 - val_loss: 0.2375 - val_accuracy: 0.9329\n",
            "Epoch 8/10\n",
            "1875/1875 [==============================] - 6s 3ms/step - loss: 0.2399 - accuracy: 0.9320 - val_loss: 0.2293 - val_accuracy: 0.9351\n",
            "Epoch 9/10\n",
            "1875/1875 [==============================] - 5s 3ms/step - loss: 0.2287 - accuracy: 0.9360 - val_loss: 0.2195 - val_accuracy: 0.9374\n",
            "Epoch 10/10\n",
            "1875/1875 [==============================] - 6s 3ms/step - loss: 0.2185 - accuracy: 0.9390 - val_loss: 0.2093 - val_accuracy: 0.9391\n"
          ]
        },
        {
          "output_type": "execute_result",
          "data": {
            "text/plain": [
              "<keras.src.callbacks.History at 0x7b51f25ed990>"
            ]
          },
          "metadata": {},
          "execution_count": 16
        }
      ]
    },
    {
      "cell_type": "code",
      "source": [
        "# Time Distributed\n",
        "from keras.layers import TimeDistributed"
      ],
      "metadata": {
        "id": "mUt0brY-pGzH"
      },
      "execution_count": 19,
      "outputs": []
    },
    {
      "cell_type": "code",
      "source": [
        "input_sequences=tf.keras.Input(shape=(10,28,28))\n",
        "processed_sequences=tf.keras.layers.TimeDistributed(model)(input_sequences)\n",
        "processed_sequences"
      ],
      "metadata": {
        "colab": {
          "base_uri": "https://localhost:8080/"
        },
        "id": "D-w4NB4Wqpnb",
        "outputId": "c8f394d1-e34e-43d0-f25a-73aa154230f9"
      },
      "execution_count": 21,
      "outputs": [
        {
          "output_type": "execute_result",
          "data": {
            "text/plain": [
              "<KerasTensor: shape=(None, 10, 10) dtype=float32 (created by layer 'time_distributed')>"
            ]
          },
          "metadata": {},
          "execution_count": 21
        }
      ]
    },
    {
      "cell_type": "code",
      "source": [
        "house_data_input=tf.keras.Input(shape=(128,),name=\"house_data\")\n",
        "x=tf.keras.layers.Dense(64,activation='relu')(house_data_input)\n",
        "x=tf.keras.layers.Dense(1024,activation='relu')(x)\n",
        "block1_output=tf.keras.layers.Dense(32,activation='relu')(x)\n",
        "\n",
        "house_pictures_input=tf.keras.Input(shape=(320,320,3),name=\"house_pictures\")\n",
        "y=tf.keras.layers.Conv2D(64,3,activation='relu',padding='same')(house_pictures_input)\n",
        "y=tf.keras.layers.Conv2D(64,3,activation='relu',padding='same')(y)\n",
        "flatten_layer_house=tf.keras.layers.Flatten()\n",
        "block2_output=flatten_layer_house(y)\n",
        "\n",
        "input_feature=tf.keras.layers.concatenate([block1_output,block2_output])"
      ],
      "metadata": {
        "id": "-qLfasONq8xp"
      },
      "execution_count": 24,
      "outputs": []
    },
    {
      "cell_type": "code",
      "source": [
        "input_feature"
      ],
      "metadata": {
        "id": "QYX98WKWwQeU",
        "outputId": "e590dfd1-7762-43f0-818b-5d14d7e66b2a",
        "colab": {
          "base_uri": "https://localhost:8080/"
        }
      },
      "execution_count": 25,
      "outputs": [
        {
          "output_type": "execute_result",
          "data": {
            "text/plain": [
              "<KerasTensor: shape=(None, 6553632) dtype=float32 (created by layer 'concatenate')>"
            ]
          },
          "metadata": {},
          "execution_count": 25
        }
      ]
    }
  ]
}