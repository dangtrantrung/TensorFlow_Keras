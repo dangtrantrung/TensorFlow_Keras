{
  "nbformat": 4,
  "nbformat_minor": 0,
  "metadata": {
    "colab": {
      "provenance": [],
      "gpuType": "T4",
      "authorship_tag": "ABX9TyNM68VWEwOFVqZNxBugowhT",
      "include_colab_link": true
    },
    "kernelspec": {
      "name": "python3",
      "display_name": "Python 3"
    },
    "language_info": {
      "name": "python"
    },
    "accelerator": "GPU"
  },
  "cells": [
    {
      "cell_type": "markdown",
      "metadata": {
        "id": "view-in-github",
        "colab_type": "text"
      },
      "source": [
        "<a href=\"https://colab.research.google.com/github/dangtrantrung/TensorFlow_Keras/blob/master/TensorFlow_Keras.ipynb\" target=\"_parent\"><img src=\"https://colab.research.google.com/assets/colab-badge.svg\" alt=\"Open In Colab\"/></a>"
      ]
    },
    {
      "cell_type": "code",
      "execution_count": 1,
      "metadata": {
        "colab": {
          "base_uri": "https://localhost:8080/"
        },
        "id": "XsrgDPEzh8i6",
        "outputId": "bcb9709b-9b06-4c22-bb06-6d579ce72db6"
      },
      "outputs": [
        {
          "output_type": "stream",
          "name": "stdout",
          "text": [
            "2.15.0\n"
          ]
        }
      ],
      "source": [
        "import keras\n",
        "print(keras.__version__)"
      ]
    },
    {
      "cell_type": "code",
      "source": [
        "import tensorflow\n",
        "from tensorflow import keras\n",
        "print(keras)"
      ],
      "metadata": {
        "colab": {
          "base_uri": "https://localhost:8080/"
        },
        "id": "FNVOBq46ikr-",
        "outputId": "5e617899-38f8-479f-bdd7-e54facaf4f9f"
      },
      "execution_count": 2,
      "outputs": [
        {
          "output_type": "stream",
          "name": "stdout",
          "text": [
            "<KerasLazyLoader>\n"
          ]
        }
      ]
    },
    {
      "cell_type": "code",
      "source": [
        "import tensorflow  as tf\n",
        "# Conv2D\n",
        "input_shape=(4,30,30,3)\n",
        "x=tf.random.normal(input_shape)\n",
        "y=tf.keras.layers.Conv2D(2,3,activation='relu',input_shape=input_shape[1:])(x)\n",
        "print(y.shape)\n"
      ],
      "metadata": {
        "colab": {
          "base_uri": "https://localhost:8080/"
        },
        "id": "JjoZRPYYo_BE",
        "outputId": "37e6c317-f546-4762-86b8-a5f8b455c268"
      },
      "execution_count": 3,
      "outputs": [
        {
          "output_type": "stream",
          "name": "stdout",
          "text": [
            "(4, 28, 28, 2)\n"
          ]
        }
      ]
    },
    {
      "cell_type": "code",
      "source": [
        "# CNN model\n",
        "inputs=keras.layers.Input(shape=[32,32,3])\n",
        "x=keras.layers.Conv2D(filters=32,kernel_size=3,padding='same',activation='relu')(inputs)\n",
        "x=keras.layers.Conv2D(filters=32,kernel_size=3,padding='same',activation='relu')(x)\n",
        "predictions=keras.layers.MaxPool2D(pool_size=2)(x)\n",
        "\n",
        "model=keras.Model(inputs=inputs,outputs=predictions)\n"
      ],
      "metadata": {
        "id": "tpyz82HOm4vm"
      },
      "execution_count": 4,
      "outputs": []
    },
    {
      "cell_type": "code",
      "source": [
        "model.summary()"
      ],
      "metadata": {
        "colab": {
          "base_uri": "https://localhost:8080/"
        },
        "id": "8goMV6werhTZ",
        "outputId": "0fce7e60-c0d0-4085-ac01-fed243d891aa"
      },
      "execution_count": 5,
      "outputs": [
        {
          "output_type": "stream",
          "name": "stdout",
          "text": [
            "Model: \"model\"\n",
            "_________________________________________________________________\n",
            " Layer (type)                Output Shape              Param #   \n",
            "=================================================================\n",
            " input_1 (InputLayer)        [(None, 32, 32, 3)]       0         \n",
            "                                                                 \n",
            " conv2d_1 (Conv2D)           (None, 32, 32, 32)        896       \n",
            "                                                                 \n",
            " conv2d_2 (Conv2D)           (None, 32, 32, 32)        9248      \n",
            "                                                                 \n",
            " max_pooling2d (MaxPooling2  (None, 16, 16, 32)        0         \n",
            " D)                                                              \n",
            "                                                                 \n",
            "=================================================================\n",
            "Total params: 10144 (39.62 KB)\n",
            "Trainable params: 10144 (39.62 KB)\n",
            "Non-trainable params: 0 (0.00 Byte)\n",
            "_________________________________________________________________\n"
          ]
        }
      ]
    },
    {
      "cell_type": "code",
      "source": [
        "predictions.shape"
      ],
      "metadata": {
        "colab": {
          "base_uri": "https://localhost:8080/"
        },
        "id": "CHC3j5yMrrW5",
        "outputId": "57df66b5-faa7-4151-a9ed-5dec07138b46"
      },
      "execution_count": 6,
      "outputs": [
        {
          "output_type": "execute_result",
          "data": {
            "text/plain": [
              "TensorShape([None, 16, 16, 32])"
            ]
          },
          "metadata": {},
          "execution_count": 6
        }
      ]
    },
    {
      "cell_type": "code",
      "source": [
        "inputs.shape"
      ],
      "metadata": {
        "colab": {
          "base_uri": "https://localhost:8080/"
        },
        "id": "sQamEZJ3r1Ig",
        "outputId": "aea6c370-3b09-4292-e1ce-04ae3b0e2140"
      },
      "execution_count": 7,
      "outputs": [
        {
          "output_type": "execute_result",
          "data": {
            "text/plain": [
              "TensorShape([None, 32, 32, 3])"
            ]
          },
          "metadata": {},
          "execution_count": 7
        }
      ]
    },
    {
      "cell_type": "code",
      "source": [
        "keras.utils.plot_model(model,'model.png',show_shapes=True)"
      ],
      "metadata": {
        "colab": {
          "base_uri": "https://localhost:8080/",
          "height": 422
        },
        "id": "OR4yv4tDsJO8",
        "outputId": "662a0ad0-fe6a-4b6b-b9e7-a5a47accf09a"
      },
      "execution_count": 8,
      "outputs": [
        {
          "output_type": "execute_result",
          "data": {
            "image/png": "[encoded data removed]",
            "text/plain": [
              "<IPython.core.display.Image object>"
            ]
          },
          "metadata": {},
          "execution_count": 8
        }
      ]
    },
    {
      "cell_type": "code",
      "source": [
        "# Model Sequential\n",
        "model_v1=tf.keras.Sequential([\n",
        "    keras.layers.Dense(1024,input_dim=64),\n",
        "    keras.layers.Activation('relu'),\n",
        "    keras.layers.Dense(256),\n",
        "    keras.layers.Activation('softmax')]\n",
        ")"
      ],
      "metadata": {
        "id": "qWZGnhqIsLIk"
      },
      "execution_count": 9,
      "outputs": []
    },
    {
      "cell_type": "code",
      "source": [
        "model_v1.summary()"
      ],
      "metadata": {
        "colab": {
          "base_uri": "https://localhost:8080/"
        },
        "id": "oeXrMuVZwguw",
        "outputId": "5087ceb1-938f-46d2-f797-234ceb352291"
      },
      "execution_count": 10,
      "outputs": [
        {
          "output_type": "stream",
          "name": "stdout",
          "text": [
            "Model: \"sequential\"\n",
            "_________________________________________________________________\n",
            " Layer (type)                Output Shape              Param #   \n",
            "=================================================================\n",
            " dense (Dense)               (None, 1024)              66560     \n",
            "                                                                 \n",
            " activation (Activation)     (None, 1024)              0         \n",
            "                                                                 \n",
            " dense_1 (Dense)             (None, 256)               262400    \n",
            "                                                                 \n",
            " activation_1 (Activation)   (None, 256)               0         \n",
            "                                                                 \n",
            "=================================================================\n",
            "Total params: 328960 (1.25 MB)\n",
            "Trainable params: 328960 (1.25 MB)\n",
            "Non-trainable params: 0 (0.00 Byte)\n",
            "_________________________________________________________________\n"
          ]
        }
      ]
    },
    {
      "cell_type": "code",
      "source": [
        "model_v1.inputs"
      ],
      "metadata": {
        "colab": {
          "base_uri": "https://localhost:8080/"
        },
        "id": "vdPdcXcgwpX3",
        "outputId": "f79ba772-ec88-46dc-c079-2586e997a5c4"
      },
      "execution_count": 11,
      "outputs": [
        {
          "output_type": "execute_result",
          "data": {
            "text/plain": [
              "[<KerasTensor: shape=(None, 64) dtype=float32 (created by layer 'dense_input')>]"
            ]
          },
          "metadata": {},
          "execution_count": 11
        }
      ]
    },
    {
      "cell_type": "code",
      "source": [
        "model_v1.outputs"
      ],
      "metadata": {
        "colab": {
          "base_uri": "https://localhost:8080/"
        },
        "id": "ciwl7JGHw2h0",
        "outputId": "3232be6a-5b40-4795-e72a-d6191c58511d"
      },
      "execution_count": 12,
      "outputs": [
        {
          "output_type": "execute_result",
          "data": {
            "text/plain": [
              "[<KerasTensor: shape=(None, 256) dtype=float32 (created by layer 'activation_1')>]"
            ]
          },
          "metadata": {},
          "execution_count": 12
        }
      ]
    },
    {
      "cell_type": "code",
      "source": [
        "model_v2=tf.keras.Sequential()\n",
        "model_v2.add( keras.layers.Dense(1024,input_dim=64))\n",
        "model_v2.add( keras.layers.Activation('relu'))\n",
        "model_v2.add(keras.layers.Dense(256,activation='softmax',kernel_initializer='random_normal'))\n",
        "model_v2.add(keras.layers.Dense(10,activation='softmax',kernel_initializer='random_normal'))\n",
        "\n",
        "model_v2.summary()"
      ],
      "metadata": {
        "colab": {
          "base_uri": "https://localhost:8080/"
        },
        "id": "roxfLhO9w6n9",
        "outputId": "9b57aad4-0285-44ab-e7ec-e68674b34848"
      },
      "execution_count": 13,
      "outputs": [
        {
          "output_type": "stream",
          "name": "stdout",
          "text": [
            "Model: \"sequential_1\"\n",
            "_________________________________________________________________\n",
            " Layer (type)                Output Shape              Param #   \n",
            "=================================================================\n",
            " dense_2 (Dense)             (None, 1024)              66560     \n",
            "                                                                 \n",
            " activation_2 (Activation)   (None, 1024)              0         \n",
            "                                                                 \n",
            " dense_3 (Dense)             (None, 256)               262400    \n",
            "                                                                 \n",
            " dense_4 (Dense)             (None, 10)                2570      \n",
            "                                                                 \n",
            "=================================================================\n",
            "Total params: 331530 (1.26 MB)\n",
            "Trainable params: 331530 (1.26 MB)\n",
            "Non-trainable params: 0 (0.00 Byte)\n",
            "_________________________________________________________________\n"
          ]
        }
      ]
    },
    {
      "cell_type": "code",
      "source": [
        "model_v2.compile(optimizer='SGD',loss='categorical_crossentropy', metrics=['accuracy'])"
      ],
      "metadata": {
        "id": "O2XJoYjMzmCv"
      },
      "execution_count": 32,
      "outputs": []
    },
    {
      "cell_type": "code",
      "source": [
        "import numpy as np"
      ],
      "metadata": {
        "id": "_0n6eWP54HI3"
      },
      "execution_count": 15,
      "outputs": []
    },
    {
      "cell_type": "code",
      "source": [
        "# Sample Data\n",
        "\n",
        "data=np.random.random((2000,64))\n",
        "label=np.random.random((2000,10))\n",
        "\n",
        "valid_data=np.random.random((500,64))\n",
        "valid_label=np.random.random((500,10))\n",
        "\n",
        "test_data=np.random.random((500,64))\n",
        "test_label=np.random.random((500,10))\n"
      ],
      "metadata": {
        "id": "zCp2YynXz4Bb"
      },
      "execution_count": 16,
      "outputs": []
    },
    {
      "cell_type": "code",
      "source": [
        "data.shape, type(model_v2)"
      ],
      "metadata": {
        "colab": {
          "base_uri": "https://localhost:8080/"
        },
        "id": "aMdMlDjo1Qx5",
        "outputId": "7df623ce-5fa1-4f42-f710-41503dadfdf0"
      },
      "execution_count": 17,
      "outputs": [
        {
          "output_type": "execute_result",
          "data": {
            "text/plain": [
              "((2000, 64), keras.src.engine.sequential.Sequential)"
            ]
          },
          "metadata": {},
          "execution_count": 17
        }
      ]
    },
    {
      "cell_type": "code",
      "source": [
        "model_v2.fit(data, label, epochs=100, batch_size=50, validation_data=(valid_data, valid_label))"
      ],
      "metadata": {
        "colab": {
          "base_uri": "https://localhost:8080/"
        },
        "id": "FY6FSQd51cLR",
        "outputId": "169e2723-79ae-4753-b679-4daf837afcab"
      },
      "execution_count": 33,
      "outputs": [
        {
          "output_type": "stream",
          "name": "stdout",
          "text": [
            "Epoch 1/100\n",
            "40/40 [==============================] - 1s 7ms/step - loss: 11.5216 - accuracy: 0.1155 - val_loss: 11.5310 - val_accuracy: 0.1020\n",
            "Epoch 2/100\n",
            "40/40 [==============================] - 0s 4ms/step - loss: 11.5216 - accuracy: 0.1155 - val_loss: 11.5310 - val_accuracy: 0.1020\n",
            "Epoch 3/100\n",
            "40/40 [==============================] - 0s 4ms/step - loss: 11.5215 - accuracy: 0.1155 - val_loss: 11.5310 - val_accuracy: 0.1020\n",
            "Epoch 4/100\n",
            "40/40 [==============================] - 0s 4ms/step - loss: 11.5215 - accuracy: 0.1155 - val_loss: 11.5310 - val_accuracy: 0.1020\n",
            "Epoch 5/100\n",
            "40/40 [==============================] - 0s 4ms/step - loss: 11.5217 - accuracy: 0.1155 - val_loss: 11.5310 - val_accuracy: 0.1020\n",
            "Epoch 6/100\n",
            "40/40 [==============================] - 0s 4ms/step - loss: 11.5215 - accuracy: 0.1155 - val_loss: 11.5310 - val_accuracy: 0.1020\n",
            "Epoch 7/100\n",
            "40/40 [==============================] - 0s 4ms/step - loss: 11.5213 - accuracy: 0.1155 - val_loss: 11.5311 - val_accuracy: 0.1020\n",
            "Epoch 8/100\n",
            "40/40 [==============================] - 0s 4ms/step - loss: 11.5215 - accuracy: 0.1155 - val_loss: 11.5311 - val_accuracy: 0.1020\n",
            "Epoch 9/100\n",
            "40/40 [==============================] - 0s 4ms/step - loss: 11.5216 - accuracy: 0.1155 - val_loss: 11.5311 - val_accuracy: 0.1020\n",
            "Epoch 10/100\n",
            "40/40 [==============================] - 0s 4ms/step - loss: 11.5218 - accuracy: 0.1155 - val_loss: 11.5310 - val_accuracy: 0.1020\n",
            "Epoch 11/100\n",
            "40/40 [==============================] - 0s 4ms/step - loss: 11.5214 - accuracy: 0.1155 - val_loss: 11.5311 - val_accuracy: 0.1020\n",
            "Epoch 12/100\n",
            "40/40 [==============================] - 0s 4ms/step - loss: 11.5216 - accuracy: 0.1155 - val_loss: 11.5311 - val_accuracy: 0.1020\n",
            "Epoch 13/100\n",
            "40/40 [==============================] - 0s 4ms/step - loss: 11.5217 - accuracy: 0.1155 - val_loss: 11.5310 - val_accuracy: 0.1020\n",
            "Epoch 14/100\n",
            "40/40 [==============================] - 0s 4ms/step - loss: 11.5215 - accuracy: 0.1155 - val_loss: 11.5310 - val_accuracy: 0.1020\n",
            "Epoch 15/100\n",
            "40/40 [==============================] - 0s 4ms/step - loss: 11.5215 - accuracy: 0.1155 - val_loss: 11.5310 - val_accuracy: 0.1020\n",
            "Epoch 16/100\n",
            "40/40 [==============================] - 0s 5ms/step - loss: 11.5217 - accuracy: 0.1155 - val_loss: 11.5310 - val_accuracy: 0.1020\n",
            "Epoch 17/100\n",
            "40/40 [==============================] - 0s 7ms/step - loss: 11.5215 - accuracy: 0.1155 - val_loss: 11.5310 - val_accuracy: 0.1020\n",
            "Epoch 18/100\n",
            "40/40 [==============================] - 0s 7ms/step - loss: 11.5215 - accuracy: 0.1155 - val_loss: 11.5310 - val_accuracy: 0.1020\n",
            "Epoch 19/100\n",
            "40/40 [==============================] - 0s 6ms/step - loss: 11.5216 - accuracy: 0.1155 - val_loss: 11.5310 - val_accuracy: 0.1020\n",
            "Epoch 20/100\n",
            "40/40 [==============================] - 0s 7ms/step - loss: 11.5215 - accuracy: 0.1155 - val_loss: 11.5310 - val_accuracy: 0.1020\n",
            "Epoch 21/100\n",
            "40/40 [==============================] - 0s 6ms/step - loss: 11.5216 - accuracy: 0.1155 - val_loss: 11.5310 - val_accuracy: 0.1020\n",
            "Epoch 22/100\n",
            "40/40 [==============================] - 0s 8ms/step - loss: 11.5216 - accuracy: 0.1155 - val_loss: 11.5310 - val_accuracy: 0.1020\n",
            "Epoch 23/100\n",
            "40/40 [==============================] - 0s 7ms/step - loss: 11.5215 - accuracy: 0.1155 - val_loss: 11.5310 - val_accuracy: 0.1020\n",
            "Epoch 24/100\n",
            "40/40 [==============================] - 0s 6ms/step - loss: 11.5215 - accuracy: 0.1155 - val_loss: 11.5310 - val_accuracy: 0.1020\n",
            "Epoch 25/100\n",
            "40/40 [==============================] - 0s 5ms/step - loss: 11.5214 - accuracy: 0.1155 - val_loss: 11.5311 - val_accuracy: 0.1020\n",
            "Epoch 26/100\n",
            "40/40 [==============================] - 0s 6ms/step - loss: 11.5216 - accuracy: 0.1155 - val_loss: 11.5311 - val_accuracy: 0.1020\n",
            "Epoch 27/100\n",
            "40/40 [==============================] - 0s 5ms/step - loss: 11.5217 - accuracy: 0.1155 - val_loss: 11.5310 - val_accuracy: 0.1020\n",
            "Epoch 28/100\n",
            "40/40 [==============================] - 0s 4ms/step - loss: 11.5215 - accuracy: 0.1155 - val_loss: 11.5311 - val_accuracy: 0.1020\n",
            "Epoch 29/100\n",
            "40/40 [==============================] - 0s 4ms/step - loss: 11.5216 - accuracy: 0.1155 - val_loss: 11.5311 - val_accuracy: 0.1020\n",
            "Epoch 30/100\n",
            "40/40 [==============================] - 0s 4ms/step - loss: 11.5213 - accuracy: 0.1155 - val_loss: 11.5311 - val_accuracy: 0.1020\n",
            "Epoch 31/100\n",
            "40/40 [==============================] - 0s 4ms/step - loss: 11.5218 - accuracy: 0.1155 - val_loss: 11.5311 - val_accuracy: 0.1020\n",
            "Epoch 32/100\n",
            "40/40 [==============================] - 0s 4ms/step - loss: 11.5218 - accuracy: 0.1155 - val_loss: 11.5310 - val_accuracy: 0.1020\n",
            "Epoch 33/100\n",
            "40/40 [==============================] - 0s 4ms/step - loss: 11.5216 - accuracy: 0.1155 - val_loss: 11.5310 - val_accuracy: 0.1020\n",
            "Epoch 34/100\n",
            "40/40 [==============================] - 0s 4ms/step - loss: 11.5217 - accuracy: 0.1155 - val_loss: 11.5310 - val_accuracy: 0.1020\n",
            "Epoch 35/100\n",
            "40/40 [==============================] - 0s 4ms/step - loss: 11.5218 - accuracy: 0.1155 - val_loss: 11.5310 - val_accuracy: 0.1020\n",
            "Epoch 36/100\n",
            "40/40 [==============================] - 0s 4ms/step - loss: 11.5214 - accuracy: 0.1155 - val_loss: 11.5310 - val_accuracy: 0.1020\n",
            "Epoch 37/100\n",
            "40/40 [==============================] - 0s 5ms/step - loss: 11.5214 - accuracy: 0.1155 - val_loss: 11.5310 - val_accuracy: 0.1020\n",
            "Epoch 38/100\n",
            "40/40 [==============================] - 0s 4ms/step - loss: 11.5216 - accuracy: 0.1155 - val_loss: 11.5310 - val_accuracy: 0.1020\n",
            "Epoch 39/100\n",
            "40/40 [==============================] - 0s 4ms/step - loss: 11.5214 - accuracy: 0.1155 - val_loss: 11.5310 - val_accuracy: 0.1020\n",
            "Epoch 40/100\n",
            "40/40 [==============================] - 0s 4ms/step - loss: 11.5216 - accuracy: 0.1155 - val_loss: 11.5310 - val_accuracy: 0.1020\n",
            "Epoch 41/100\n",
            "40/40 [==============================] - 0s 4ms/step - loss: 11.5216 - accuracy: 0.1155 - val_loss: 11.5310 - val_accuracy: 0.1020\n",
            "Epoch 42/100\n",
            "40/40 [==============================] - 0s 4ms/step - loss: 11.5216 - accuracy: 0.1155 - val_loss: 11.5310 - val_accuracy: 0.1020\n",
            "Epoch 43/100\n",
            "40/40 [==============================] - 0s 5ms/step - loss: 11.5216 - accuracy: 0.1155 - val_loss: 11.5310 - val_accuracy: 0.1020\n",
            "Epoch 44/100\n",
            "40/40 [==============================] - 0s 4ms/step - loss: 11.5216 - accuracy: 0.1155 - val_loss: 11.5310 - val_accuracy: 0.1020\n",
            "Epoch 45/100\n",
            "40/40 [==============================] - 0s 4ms/step - loss: 11.5214 - accuracy: 0.1155 - val_loss: 11.5310 - val_accuracy: 0.1020\n",
            "Epoch 46/100\n",
            "40/40 [==============================] - 0s 4ms/step - loss: 11.5217 - accuracy: 0.1155 - val_loss: 11.5310 - val_accuracy: 0.1020\n",
            "Epoch 47/100\n",
            "40/40 [==============================] - 0s 4ms/step - loss: 11.5216 - accuracy: 0.1155 - val_loss: 11.5310 - val_accuracy: 0.1020\n",
            "Epoch 48/100\n",
            "40/40 [==============================] - 0s 4ms/step - loss: 11.5214 - accuracy: 0.1155 - val_loss: 11.5310 - val_accuracy: 0.1020\n",
            "Epoch 49/100\n",
            "40/40 [==============================] - 0s 4ms/step - loss: 11.5213 - accuracy: 0.1155 - val_loss: 11.5311 - val_accuracy: 0.1020\n",
            "Epoch 50/100\n",
            "40/40 [==============================] - 0s 4ms/step - loss: 11.5217 - accuracy: 0.1155 - val_loss: 11.5311 - val_accuracy: 0.1020\n",
            "Epoch 51/100\n",
            "40/40 [==============================] - 0s 4ms/step - loss: 11.5216 - accuracy: 0.1155 - val_loss: 11.5311 - val_accuracy: 0.1020\n",
            "Epoch 52/100\n",
            "40/40 [==============================] - 0s 4ms/step - loss: 11.5216 - accuracy: 0.1155 - val_loss: 11.5310 - val_accuracy: 0.1020\n",
            "Epoch 53/100\n",
            "40/40 [==============================] - 0s 4ms/step - loss: 11.5217 - accuracy: 0.1155 - val_loss: 11.5310 - val_accuracy: 0.1020\n",
            "Epoch 54/100\n",
            "40/40 [==============================] - 0s 4ms/step - loss: 11.5216 - accuracy: 0.1155 - val_loss: 11.5310 - val_accuracy: 0.1020\n",
            "Epoch 55/100\n",
            "40/40 [==============================] - 0s 4ms/step - loss: 11.5216 - accuracy: 0.1155 - val_loss: 11.5310 - val_accuracy: 0.1020\n",
            "Epoch 56/100\n",
            "40/40 [==============================] - 0s 4ms/step - loss: 11.5216 - accuracy: 0.1155 - val_loss: 11.5311 - val_accuracy: 0.1020\n",
            "Epoch 57/100\n",
            "40/40 [==============================] - 0s 4ms/step - loss: 11.5214 - accuracy: 0.1155 - val_loss: 11.5311 - val_accuracy: 0.1020\n",
            "Epoch 58/100\n",
            "40/40 [==============================] - 0s 4ms/step - loss: 11.5212 - accuracy: 0.1155 - val_loss: 11.5311 - val_accuracy: 0.1020\n",
            "Epoch 59/100\n",
            "40/40 [==============================] - 0s 4ms/step - loss: 11.5215 - accuracy: 0.1155 - val_loss: 11.5311 - val_accuracy: 0.1020\n",
            "Epoch 60/100\n",
            "40/40 [==============================] - 0s 4ms/step - loss: 11.5215 - accuracy: 0.1155 - val_loss: 11.5311 - val_accuracy: 0.1020\n",
            "Epoch 61/100\n",
            "40/40 [==============================] - 0s 4ms/step - loss: 11.5215 - accuracy: 0.1155 - val_loss: 11.5311 - val_accuracy: 0.1020\n",
            "Epoch 62/100\n",
            "40/40 [==============================] - 0s 4ms/step - loss: 11.5214 - accuracy: 0.1155 - val_loss: 11.5311 - val_accuracy: 0.1020\n",
            "Epoch 63/100\n",
            "40/40 [==============================] - 0s 4ms/step - loss: 11.5216 - accuracy: 0.1155 - val_loss: 11.5311 - val_accuracy: 0.1020\n",
            "Epoch 64/100\n",
            "40/40 [==============================] - 0s 4ms/step - loss: 11.5216 - accuracy: 0.1155 - val_loss: 11.5311 - val_accuracy: 0.1020\n",
            "Epoch 65/100\n",
            "40/40 [==============================] - 0s 4ms/step - loss: 11.5214 - accuracy: 0.1155 - val_loss: 11.5311 - val_accuracy: 0.1020\n",
            "Epoch 66/100\n",
            "40/40 [==============================] - 0s 4ms/step - loss: 11.5217 - accuracy: 0.1155 - val_loss: 11.5311 - val_accuracy: 0.1020\n",
            "Epoch 67/100\n",
            "40/40 [==============================] - 0s 4ms/step - loss: 11.5214 - accuracy: 0.1155 - val_loss: 11.5311 - val_accuracy: 0.1020\n",
            "Epoch 68/100\n",
            "40/40 [==============================] - 0s 4ms/step - loss: 11.5216 - accuracy: 0.1155 - val_loss: 11.5311 - val_accuracy: 0.1020\n",
            "Epoch 69/100\n",
            "40/40 [==============================] - 0s 4ms/step - loss: 11.5215 - accuracy: 0.1155 - val_loss: 11.5311 - val_accuracy: 0.1020\n",
            "Epoch 70/100\n",
            "40/40 [==============================] - 0s 4ms/step - loss: 11.5214 - accuracy: 0.1155 - val_loss: 11.5311 - val_accuracy: 0.1020\n",
            "Epoch 71/100\n",
            "40/40 [==============================] - 0s 4ms/step - loss: 11.5215 - accuracy: 0.1155 - val_loss: 11.5311 - val_accuracy: 0.1020\n",
            "Epoch 72/100\n",
            "40/40 [==============================] - 0s 4ms/step - loss: 11.5217 - accuracy: 0.1155 - val_loss: 11.5311 - val_accuracy: 0.1020\n",
            "Epoch 73/100\n",
            "40/40 [==============================] - 0s 4ms/step - loss: 11.5215 - accuracy: 0.1155 - val_loss: 11.5311 - val_accuracy: 0.1020\n",
            "Epoch 74/100\n",
            "40/40 [==============================] - 0s 4ms/step - loss: 11.5216 - accuracy: 0.1155 - val_loss: 11.5311 - val_accuracy: 0.1020\n",
            "Epoch 75/100\n",
            "40/40 [==============================] - 0s 4ms/step - loss: 11.5216 - accuracy: 0.1155 - val_loss: 11.5311 - val_accuracy: 0.1020\n",
            "Epoch 76/100\n",
            "40/40 [==============================] - 0s 4ms/step - loss: 11.5217 - accuracy: 0.1155 - val_loss: 11.5311 - val_accuracy: 0.1020\n",
            "Epoch 77/100\n",
            "40/40 [==============================] - 0s 4ms/step - loss: 11.5215 - accuracy: 0.1155 - val_loss: 11.5311 - val_accuracy: 0.1020\n",
            "Epoch 78/100\n",
            "40/40 [==============================] - 0s 4ms/step - loss: 11.5218 - accuracy: 0.1155 - val_loss: 11.5311 - val_accuracy: 0.1020\n",
            "Epoch 79/100\n",
            "40/40 [==============================] - 0s 4ms/step - loss: 11.5219 - accuracy: 0.1155 - val_loss: 11.5311 - val_accuracy: 0.1020\n",
            "Epoch 80/100\n",
            "40/40 [==============================] - 0s 4ms/step - loss: 11.5217 - accuracy: 0.1155 - val_loss: 11.5311 - val_accuracy: 0.1020\n",
            "Epoch 81/100\n",
            "40/40 [==============================] - 0s 4ms/step - loss: 11.5217 - accuracy: 0.1155 - val_loss: 11.5311 - val_accuracy: 0.1020\n",
            "Epoch 82/100\n",
            "40/40 [==============================] - 0s 4ms/step - loss: 11.5215 - accuracy: 0.1155 - val_loss: 11.5311 - val_accuracy: 0.1020\n",
            "Epoch 83/100\n",
            "40/40 [==============================] - 0s 4ms/step - loss: 11.5215 - accuracy: 0.1155 - val_loss: 11.5311 - val_accuracy: 0.1020\n",
            "Epoch 84/100\n",
            "40/40 [==============================] - 0s 4ms/step - loss: 11.5214 - accuracy: 0.1155 - val_loss: 11.5311 - val_accuracy: 0.1020\n",
            "Epoch 85/100\n",
            "40/40 [==============================] - 0s 4ms/step - loss: 11.5215 - accuracy: 0.1155 - val_loss: 11.5311 - val_accuracy: 0.1020\n",
            "Epoch 86/100\n",
            "40/40 [==============================] - 0s 4ms/step - loss: 11.5213 - accuracy: 0.1155 - val_loss: 11.5311 - val_accuracy: 0.1020\n",
            "Epoch 87/100\n",
            "40/40 [==============================] - 0s 4ms/step - loss: 11.5216 - accuracy: 0.1155 - val_loss: 11.5311 - val_accuracy: 0.1020\n",
            "Epoch 88/100\n",
            "40/40 [==============================] - 0s 6ms/step - loss: 11.5215 - accuracy: 0.1155 - val_loss: 11.5311 - val_accuracy: 0.1020\n",
            "Epoch 89/100\n",
            "40/40 [==============================] - 0s 7ms/step - loss: 11.5217 - accuracy: 0.1155 - val_loss: 11.5311 - val_accuracy: 0.1020\n",
            "Epoch 90/100\n",
            "40/40 [==============================] - 0s 9ms/step - loss: 11.5214 - accuracy: 0.1155 - val_loss: 11.5311 - val_accuracy: 0.1020\n",
            "Epoch 91/100\n",
            "40/40 [==============================] - 0s 7ms/step - loss: 11.5217 - accuracy: 0.1155 - val_loss: 11.5311 - val_accuracy: 0.1020\n",
            "Epoch 92/100\n",
            "40/40 [==============================] - 0s 6ms/step - loss: 11.5217 - accuracy: 0.1155 - val_loss: 11.5311 - val_accuracy: 0.1020\n",
            "Epoch 93/100\n",
            "40/40 [==============================] - 0s 6ms/step - loss: 11.5215 - accuracy: 0.1155 - val_loss: 11.5311 - val_accuracy: 0.1020\n",
            "Epoch 94/100\n",
            "40/40 [==============================] - 0s 6ms/step - loss: 11.5216 - accuracy: 0.1155 - val_loss: 11.5311 - val_accuracy: 0.1020\n",
            "Epoch 95/100\n",
            "40/40 [==============================] - 0s 7ms/step - loss: 11.5217 - accuracy: 0.1155 - val_loss: 11.5310 - val_accuracy: 0.1020\n",
            "Epoch 96/100\n",
            "40/40 [==============================] - 0s 6ms/step - loss: 11.5215 - accuracy: 0.1155 - val_loss: 11.5311 - val_accuracy: 0.1020\n",
            "Epoch 97/100\n",
            "40/40 [==============================] - 0s 7ms/step - loss: 11.5215 - accuracy: 0.1155 - val_loss: 11.5311 - val_accuracy: 0.1020\n",
            "Epoch 98/100\n",
            "40/40 [==============================] - 0s 5ms/step - loss: 11.5215 - accuracy: 0.1155 - val_loss: 11.5311 - val_accuracy: 0.1020\n",
            "Epoch 99/100\n",
            "40/40 [==============================] - 0s 4ms/step - loss: 11.5217 - accuracy: 0.1155 - val_loss: 11.5311 - val_accuracy: 0.1020\n",
            "Epoch 100/100\n",
            "40/40 [==============================] - 0s 4ms/step - loss: 11.5216 - accuracy: 0.1155 - val_loss: 11.5310 - val_accuracy: 0.1020\n"
          ]
        },
        {
          "output_type": "execute_result",
          "data": {
            "text/plain": [
              "<keras.src.callbacks.History at 0x7832a0da0670>"
            ]
          },
          "metadata": {},
          "execution_count": 33
        }
      ]
    },
    {
      "cell_type": "code",
      "source": [
        "model_v2.evaluate(test_data,test_label)"
      ],
      "metadata": {
        "colab": {
          "base_uri": "https://localhost:8080/"
        },
        "id": "RmbDn3uw12SG",
        "outputId": "005ce855-dfde-4767-e1f8-99dd10516870"
      },
      "execution_count": 19,
      "outputs": [
        {
          "output_type": "stream",
          "name": "stdout",
          "text": [
            "16/16 [==============================] - 0s 3ms/step - loss: 11.5622 - accuracy: 0.0940\n"
          ]
        },
        {
          "output_type": "execute_result",
          "data": {
            "text/plain": [
              "[11.562179565429688, 0.09399999678134918]"
            ]
          },
          "metadata": {},
          "execution_count": 19
        }
      ]
    },
    {
      "cell_type": "code",
      "source": [
        "results=model_v2.predict(test_data)"
      ],
      "metadata": {
        "colab": {
          "base_uri": "https://localhost:8080/"
        },
        "id": "R9RMHtNS5x38",
        "outputId": "38cafeb7-7833-4c87-852e-946e693cf290"
      },
      "execution_count": 20,
      "outputs": [
        {
          "output_type": "stream",
          "name": "stdout",
          "text": [
            "16/16 [==============================] - 0s 2ms/step\n"
          ]
        }
      ]
    },
    {
      "cell_type": "code",
      "source": [
        "results.shape"
      ],
      "metadata": {
        "colab": {
          "base_uri": "https://localhost:8080/"
        },
        "id": "9YnWuwBq55Tt",
        "outputId": "a85267e5-a2d8-484b-928d-305e9bace0a4"
      },
      "execution_count": 21,
      "outputs": [
        {
          "output_type": "execute_result",
          "data": {
            "text/plain": [
              "(500, 10)"
            ]
          },
          "metadata": {},
          "execution_count": 21
        }
      ]
    },
    {
      "cell_type": "code",
      "source": [
        "results[0:10][0]"
      ],
      "metadata": {
        "colab": {
          "base_uri": "https://localhost:8080/"
        },
        "id": "MG5-ufq96Gf-",
        "outputId": "fb3ba5cd-4b58-463a-d60f-cb1a09711432"
      },
      "execution_count": 25,
      "outputs": [
        {
          "output_type": "execute_result",
          "data": {
            "text/plain": [
              "array([0.10204957, 0.09569108, 0.09571774, 0.10301384, 0.10824418,\n",
              "       0.1067678 , 0.09315227, 0.10114346, 0.09758276, 0.09663732],\n",
              "      dtype=float32)"
            ]
          },
          "metadata": {},
          "execution_count": 25
        }
      ]
    },
    {
      "cell_type": "code",
      "source": [
        "test_label[0:10][0]"
      ],
      "metadata": {
        "colab": {
          "base_uri": "https://localhost:8080/"
        },
        "id": "Gfd1eadA6Kb4",
        "outputId": "0ead6abd-7041-4cdd-f215-48ef035bff37"
      },
      "execution_count": 26,
      "outputs": [
        {
          "output_type": "execute_result",
          "data": {
            "text/plain": [
              "array([0.50744851, 0.22098103, 0.46882194, 0.78210094, 0.05660426,\n",
              "       0.90250769, 0.03908042, 0.65567298, 0.64171387, 0.82318734])"
            ]
          },
          "metadata": {},
          "execution_count": 26
        }
      ]
    }
  ]
}