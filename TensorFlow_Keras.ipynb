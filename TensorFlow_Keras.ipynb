{
  "nbformat": 4,
  "nbformat_minor": 0,
  "metadata": {
    "colab": {
      "provenance": [],
      "gpuType": "T4",
      "authorship_tag": "ABX9TyOdVLfuSM4dF0NJE1FLH6Pl",
      "include_colab_link": true
    },
    "kernelspec": {
      "name": "python3",
      "display_name": "Python 3"
    },
    "language_info": {
      "name": "python"
    },
    "accelerator": "GPU"
  },
  "cells": [
    {
      "cell_type": "markdown",
      "metadata": {
        "id": "view-in-github",
        "colab_type": "text"
      },
      "source": [
        "<a href=\"https://colab.research.google.com/github/dangtrantrung/TensorFlow_Keras/blob/master/TensorFlow_Keras.ipynb\" target=\"_parent\"><img src=\"https://colab.research.google.com/assets/colab-badge.svg\" alt=\"Open In Colab\"/></a>"
      ]
    },
    {
      "cell_type": "code",
      "execution_count": 23,
      "metadata": {
        "colab": {
          "base_uri": "https://localhost:8080/"
        },
        "id": "XsrgDPEzh8i6",
        "outputId": "7944a241-922d-41e6-c725-e470d4949619"
      },
      "outputs": [
        {
          "output_type": "stream",
          "name": "stdout",
          "text": [
            "2.15.0\n"
          ]
        }
      ],
      "source": [
        "import keras\n",
        "print(keras.__version__)"
      ]
    },
    {
      "cell_type": "code",
      "source": [
        "import tensorflow\n",
        "from tensorflow import keras\n",
        "print(keras)"
      ],
      "metadata": {
        "colab": {
          "base_uri": "https://localhost:8080/"
        },
        "id": "FNVOBq46ikr-",
        "outputId": "abfcf373-aeb4-419e-94b2-9608997a0b54"
      },
      "execution_count": null,
      "outputs": [
        {
          "output_type": "stream",
          "name": "stdout",
          "text": [
            "<KerasLazyLoader>\n"
          ]
        }
      ]
    },
    {
      "cell_type": "code",
      "source": [
        "import tensorflow  as tf\n",
        "# Conv2D\n",
        "input_shape=(4,30,30,3)\n",
        "x=tf.random.normal(input_shape)\n",
        "y=tf.keras.layers.Conv2D(2,3,activation='relu',input_shape=input_shape[1:])(x)\n",
        "print(y.shape)\n"
      ],
      "metadata": {
        "colab": {
          "base_uri": "https://localhost:8080/"
        },
        "id": "JjoZRPYYo_BE",
        "outputId": "947a6c05-6c13-4687-bebe-256388e5340f"
      },
      "execution_count": null,
      "outputs": [
        {
          "output_type": "stream",
          "name": "stdout",
          "text": [
            "(4, 28, 28, 2)\n"
          ]
        }
      ]
    },
    {
      "cell_type": "code",
      "source": [
        "# CNN model\n",
        "inputs=keras.layers.Input(shape=[32,32,3])\n",
        "x=keras.layers.Conv2D(filters=32,kernel_size=3,padding='same',activation='relu')(inputs)\n",
        "x=keras.layers.Conv2D(filters=32,kernel_size=3,padding='same',activation='relu')(x)\n",
        "predictions=keras.layers.MaxPool2D(pool_size=2)(x)\n",
        "\n",
        "model=keras.Model(inputs=inputs,outputs=predictions)\n"
      ],
      "metadata": {
        "id": "tpyz82HOm4vm"
      },
      "execution_count": null,
      "outputs": []
    },
    {
      "cell_type": "code",
      "source": [
        "model.summary()"
      ],
      "metadata": {
        "colab": {
          "base_uri": "https://localhost:8080/"
        },
        "id": "8goMV6werhTZ",
        "outputId": "856bcc76-36f2-4758-ad53-6049d8ffedd6"
      },
      "execution_count": null,
      "outputs": [
        {
          "output_type": "stream",
          "name": "stdout",
          "text": [
            "Model: \"model\"\n",
            "_________________________________________________________________\n",
            " Layer (type)                Output Shape              Param #   \n",
            "=================================================================\n",
            " input_1 (InputLayer)        [(None, 32, 32, 3)]       0         \n",
            "                                                                 \n",
            " conv2d_1 (Conv2D)           (None, 32, 32, 32)        896       \n",
            "                                                                 \n",
            " conv2d_2 (Conv2D)           (None, 32, 32, 32)        9248      \n",
            "                                                                 \n",
            " max_pooling2d (MaxPooling2  (None, 16, 16, 32)        0         \n",
            " D)                                                              \n",
            "                                                                 \n",
            "=================================================================\n",
            "Total params: 10144 (39.62 KB)\n",
            "Trainable params: 10144 (39.62 KB)\n",
            "Non-trainable params: 0 (0.00 Byte)\n",
            "_________________________________________________________________\n"
          ]
        }
      ]
    },
    {
      "cell_type": "code",
      "source": [
        "predictions.shape"
      ],
      "metadata": {
        "colab": {
          "base_uri": "https://localhost:8080/"
        },
        "id": "CHC3j5yMrrW5",
        "outputId": "1056257a-abf4-4a67-af94-6bff6c682213"
      },
      "execution_count": null,
      "outputs": [
        {
          "output_type": "execute_result",
          "data": {
            "text/plain": [
              "TensorShape([None, 16, 16, 32])"
            ]
          },
          "metadata": {},
          "execution_count": 7
        }
      ]
    },
    {
      "cell_type": "code",
      "source": [
        "inputs.shape"
      ],
      "metadata": {
        "colab": {
          "base_uri": "https://localhost:8080/"
        },
        "id": "sQamEZJ3r1Ig",
        "outputId": "0a934c3e-b7f5-4c6e-a49c-62f2247d4524"
      },
      "execution_count": null,
      "outputs": [
        {
          "output_type": "execute_result",
          "data": {
            "text/plain": [
              "TensorShape([None, 32, 32, 3])"
            ]
          },
          "metadata": {},
          "execution_count": 8
        }
      ]
    },
    {
      "cell_type": "code",
      "source": [
        "keras.utils.plot_model(model,'model.png',show_shapes=True)"
      ],
      "metadata": {
        "colab": {
          "base_uri": "https://localhost:8080/",
          "height": 422
        },
        "id": "OR4yv4tDsJO8",
        "outputId": "83b179d4-951e-42cb-f64f-17f738c25247"
      },
      "execution_count": null,
      "outputs": [
        {
          "output_type": "execute_result",
          "data": {
            "image/png": "[encoded data removed]",
            "text/plain": [
              "<IPython.core.display.Image object>"
            ]
          },
          "metadata": {},
          "execution_count": 9
        }
      ]
    },
    {
      "cell_type": "code",
      "source": [
        "# Model Sequential\n",
        "model_v1=tf.keras.Sequential([\n",
        "    keras.layers.Dense(1024,input_dim=64),\n",
        "    keras.layers.Activation('relu'),\n",
        "    keras.layers.Dense(256),\n",
        "    keras.layers.Activation('softmax')]\n",
        ")"
      ],
      "metadata": {
        "id": "qWZGnhqIsLIk"
      },
      "execution_count": null,
      "outputs": []
    },
    {
      "cell_type": "code",
      "source": [
        "model_v1.summary()"
      ],
      "metadata": {
        "colab": {
          "base_uri": "https://localhost:8080/"
        },
        "id": "oeXrMuVZwguw",
        "outputId": "66432c3c-ed67-4d56-d34f-1e54e27fd626"
      },
      "execution_count": null,
      "outputs": [
        {
          "output_type": "stream",
          "name": "stdout",
          "text": [
            "Model: \"sequential\"\n",
            "_________________________________________________________________\n",
            " Layer (type)                Output Shape              Param #   \n",
            "=================================================================\n",
            " dense (Dense)               (None, 1024)              66560     \n",
            "                                                                 \n",
            " activation (Activation)     (None, 1024)              0         \n",
            "                                                                 \n",
            " dense_1 (Dense)             (None, 256)               262400    \n",
            "                                                                 \n",
            " activation_1 (Activation)   (None, 256)               0         \n",
            "                                                                 \n",
            "=================================================================\n",
            "Total params: 328960 (1.25 MB)\n",
            "Trainable params: 328960 (1.25 MB)\n",
            "Non-trainable params: 0 (0.00 Byte)\n",
            "_________________________________________________________________\n"
          ]
        }
      ]
    },
    {
      "cell_type": "code",
      "source": [
        "model_v1.inputs"
      ],
      "metadata": {
        "colab": {
          "base_uri": "https://localhost:8080/"
        },
        "id": "vdPdcXcgwpX3",
        "outputId": "832e86a4-6b5c-421d-d39e-ee0ff399d7a1"
      },
      "execution_count": null,
      "outputs": [
        {
          "output_type": "execute_result",
          "data": {
            "text/plain": [
              "[<KerasTensor: shape=(None, 64) dtype=float32 (created by layer 'dense_input')>]"
            ]
          },
          "metadata": {},
          "execution_count": 12
        }
      ]
    },
    {
      "cell_type": "code",
      "source": [
        "model_v1.outputs"
      ],
      "metadata": {
        "colab": {
          "base_uri": "https://localhost:8080/"
        },
        "id": "ciwl7JGHw2h0",
        "outputId": "5a1929bf-a818-401d-de20-ca4808bb53e2"
      },
      "execution_count": null,
      "outputs": [
        {
          "output_type": "execute_result",
          "data": {
            "text/plain": [
              "[<KerasTensor: shape=(None, 256) dtype=float32 (created by layer 'activation_1')>]"
            ]
          },
          "metadata": {},
          "execution_count": 13
        }
      ]
    },
    {
      "cell_type": "code",
      "source": [
        "model_v2=tf.keras.Sequential()\n",
        "model_v2.add( keras.layers.Dense(1024,input_dim=64))\n",
        "model_v2.add( keras.layers.Activation('relu'))\n",
        "model_v2.add(keras.layers.Dense(256,activation='softmax',kernel_initializer='random_normal'))\n",
        "model_v2.add(keras.layers.Dense(10,activation='softmax',kernel_initializer='random_normal'))\n",
        "\n",
        "model_v2.summary()"
      ],
      "metadata": {
        "colab": {
          "base_uri": "https://localhost:8080/"
        },
        "id": "roxfLhO9w6n9",
        "outputId": "fc5746b1-5b6e-462f-ebc5-c7c45ea81ade"
      },
      "execution_count": null,
      "outputs": [
        {
          "output_type": "stream",
          "name": "stdout",
          "text": [
            "Model: \"sequential_1\"\n",
            "_________________________________________________________________\n",
            " Layer (type)                Output Shape              Param #   \n",
            "=================================================================\n",
            " dense_2 (Dense)             (None, 1024)              66560     \n",
            "                                                                 \n",
            " activation_2 (Activation)   (None, 1024)              0         \n",
            "                                                                 \n",
            " dense_3 (Dense)             (None, 256)               262400    \n",
            "                                                                 \n",
            " dense_4 (Dense)             (None, 10)                2570      \n",
            "                                                                 \n",
            "=================================================================\n",
            "Total params: 331530 (1.26 MB)\n",
            "Trainable params: 331530 (1.26 MB)\n",
            "Non-trainable params: 0 (0.00 Byte)\n",
            "_________________________________________________________________\n"
          ]
        }
      ]
    },
    {
      "cell_type": "code",
      "source": [
        "model_v2.compile(optimizer='SGD',loss='categorical_crossentropy', metrics=['accuracy'])"
      ],
      "metadata": {
        "id": "O2XJoYjMzmCv"
      },
      "execution_count": null,
      "outputs": []
    },
    {
      "cell_type": "code",
      "source": [
        "import numpy as np"
      ],
      "metadata": {
        "id": "_0n6eWP54HI3"
      },
      "execution_count": null,
      "outputs": []
    },
    {
      "cell_type": "code",
      "source": [
        "# Sample Data\n",
        "\n",
        "data=np.random.random((2000,64))\n",
        "label=np.random.random((2000,10))\n",
        "\n",
        "valid_data=np.random.random((500,64))\n",
        "valid_label=np.random.random((500,10))\n",
        "\n",
        "test_data=np.random.random((500,64))\n",
        "test_label=np.random.random((500,10))\n"
      ],
      "metadata": {
        "id": "zCp2YynXz4Bb"
      },
      "execution_count": null,
      "outputs": []
    },
    {
      "cell_type": "code",
      "source": [
        "data.shape, type(model_v2)"
      ],
      "metadata": {
        "colab": {
          "base_uri": "https://localhost:8080/"
        },
        "id": "aMdMlDjo1Qx5",
        "outputId": "edc2c7e1-f0de-4115-de9b-b30195074c3a"
      },
      "execution_count": null,
      "outputs": [
        {
          "output_type": "execute_result",
          "data": {
            "text/plain": [
              "((2000, 64), keras.src.engine.sequential.Sequential)"
            ]
          },
          "metadata": {},
          "execution_count": 18
        }
      ]
    },
    {
      "cell_type": "code",
      "source": [
        "model_v2.fit(data, label, epochs=100, batch_size=50, validation_data=(valid_data, valid_label))"
      ],
      "metadata": {
        "colab": {
          "base_uri": "https://localhost:8080/"
        },
        "id": "FY6FSQd51cLR",
        "outputId": "3226f5ee-fcc0-447f-e3e2-a57a1da8fbe4"
      },
      "execution_count": null,
      "outputs": [
        {
          "output_type": "stream",
          "name": "stdout",
          "text": [
            "Epoch 1/100\n",
            "40/40 [==============================] - 1s 8ms/step - loss: 11.5572 - accuracy: 0.0925 - val_loss: 11.4463 - val_accuracy: 0.0920\n",
            "Epoch 2/100\n",
            "40/40 [==============================] - 0s 4ms/step - loss: 11.5569 - accuracy: 0.1000 - val_loss: 11.4463 - val_accuracy: 0.0920\n",
            "Epoch 3/100\n",
            "40/40 [==============================] - 0s 4ms/step - loss: 11.5567 - accuracy: 0.0975 - val_loss: 11.4464 - val_accuracy: 0.0900\n",
            "Epoch 4/100\n",
            "40/40 [==============================] - 0s 4ms/step - loss: 11.5566 - accuracy: 0.0980 - val_loss: 11.4465 - val_accuracy: 0.1220\n",
            "Epoch 5/100\n",
            "40/40 [==============================] - 0s 5ms/step - loss: 11.5565 - accuracy: 0.0990 - val_loss: 11.4466 - val_accuracy: 0.1180\n",
            "Epoch 6/100\n",
            "40/40 [==============================] - 0s 4ms/step - loss: 11.5565 - accuracy: 0.1040 - val_loss: 11.4468 - val_accuracy: 0.1180\n",
            "Epoch 7/100\n",
            "40/40 [==============================] - 0s 4ms/step - loss: 11.5565 - accuracy: 0.1040 - val_loss: 11.4470 - val_accuracy: 0.1180\n",
            "Epoch 8/100\n",
            "40/40 [==============================] - 0s 5ms/step - loss: 11.5565 - accuracy: 0.1040 - val_loss: 11.4472 - val_accuracy: 0.1180\n",
            "Epoch 9/100\n",
            "40/40 [==============================] - 0s 4ms/step - loss: 11.5566 - accuracy: 0.1040 - val_loss: 11.4475 - val_accuracy: 0.1180\n",
            "Epoch 10/100\n",
            "40/40 [==============================] - 0s 5ms/step - loss: 11.5567 - accuracy: 0.1040 - val_loss: 11.4477 - val_accuracy: 0.1180\n",
            "Epoch 11/100\n",
            "40/40 [==============================] - 0s 4ms/step - loss: 11.5568 - accuracy: 0.1040 - val_loss: 11.4480 - val_accuracy: 0.1180\n",
            "Epoch 12/100\n",
            "40/40 [==============================] - 0s 4ms/step - loss: 11.5569 - accuracy: 0.1040 - val_loss: 11.4483 - val_accuracy: 0.1180\n",
            "Epoch 13/100\n",
            "40/40 [==============================] - 0s 4ms/step - loss: 11.5571 - accuracy: 0.1040 - val_loss: 11.4486 - val_accuracy: 0.1180\n",
            "Epoch 14/100\n",
            "40/40 [==============================] - 0s 4ms/step - loss: 11.5571 - accuracy: 0.1040 - val_loss: 11.4489 - val_accuracy: 0.1180\n",
            "Epoch 15/100\n",
            "40/40 [==============================] - 0s 4ms/step - loss: 11.5573 - accuracy: 0.1040 - val_loss: 11.4492 - val_accuracy: 0.1180\n",
            "Epoch 16/100\n",
            "40/40 [==============================] - 0s 4ms/step - loss: 11.5575 - accuracy: 0.1040 - val_loss: 11.4495 - val_accuracy: 0.1180\n",
            "Epoch 17/100\n",
            "40/40 [==============================] - 0s 4ms/step - loss: 11.5577 - accuracy: 0.1040 - val_loss: 11.4498 - val_accuracy: 0.1180\n",
            "Epoch 18/100\n",
            "40/40 [==============================] - 0s 4ms/step - loss: 11.5579 - accuracy: 0.1040 - val_loss: 11.4501 - val_accuracy: 0.1180\n",
            "Epoch 19/100\n",
            "40/40 [==============================] - 0s 4ms/step - loss: 11.5581 - accuracy: 0.1040 - val_loss: 11.4505 - val_accuracy: 0.1180\n",
            "Epoch 20/100\n",
            "40/40 [==============================] - 0s 4ms/step - loss: 11.5583 - accuracy: 0.1040 - val_loss: 11.4508 - val_accuracy: 0.1180\n",
            "Epoch 21/100\n",
            "40/40 [==============================] - 0s 4ms/step - loss: 11.5585 - accuracy: 0.1040 - val_loss: 11.4511 - val_accuracy: 0.1180\n",
            "Epoch 22/100\n",
            "40/40 [==============================] - 0s 4ms/step - loss: 11.5588 - accuracy: 0.1040 - val_loss: 11.4514 - val_accuracy: 0.1180\n",
            "Epoch 23/100\n",
            "40/40 [==============================] - 0s 4ms/step - loss: 11.5590 - accuracy: 0.1040 - val_loss: 11.4517 - val_accuracy: 0.1180\n",
            "Epoch 24/100\n",
            "40/40 [==============================] - 0s 4ms/step - loss: 11.5591 - accuracy: 0.1040 - val_loss: 11.4520 - val_accuracy: 0.1180\n",
            "Epoch 25/100\n",
            "40/40 [==============================] - 0s 4ms/step - loss: 11.5593 - accuracy: 0.1040 - val_loss: 11.4523 - val_accuracy: 0.1180\n",
            "Epoch 26/100\n",
            "40/40 [==============================] - 0s 4ms/step - loss: 11.5595 - accuracy: 0.1040 - val_loss: 11.4526 - val_accuracy: 0.1180\n",
            "Epoch 27/100\n",
            "40/40 [==============================] - 0s 4ms/step - loss: 11.5598 - accuracy: 0.1040 - val_loss: 11.4529 - val_accuracy: 0.1180\n",
            "Epoch 28/100\n",
            "40/40 [==============================] - 0s 4ms/step - loss: 11.5599 - accuracy: 0.1040 - val_loss: 11.4531 - val_accuracy: 0.1180\n",
            "Epoch 29/100\n",
            "40/40 [==============================] - 0s 4ms/step - loss: 11.5601 - accuracy: 0.1040 - val_loss: 11.4534 - val_accuracy: 0.1180\n",
            "Epoch 30/100\n",
            "40/40 [==============================] - 0s 4ms/step - loss: 11.5603 - accuracy: 0.1040 - val_loss: 11.4537 - val_accuracy: 0.1180\n",
            "Epoch 31/100\n",
            "40/40 [==============================] - 0s 4ms/step - loss: 11.5605 - accuracy: 0.1040 - val_loss: 11.4539 - val_accuracy: 0.1180\n",
            "Epoch 32/100\n",
            "40/40 [==============================] - 0s 4ms/step - loss: 11.5606 - accuracy: 0.1040 - val_loss: 11.4542 - val_accuracy: 0.1180\n",
            "Epoch 33/100\n",
            "40/40 [==============================] - 0s 4ms/step - loss: 11.5609 - accuracy: 0.1040 - val_loss: 11.4544 - val_accuracy: 0.1180\n",
            "Epoch 34/100\n",
            "40/40 [==============================] - 0s 4ms/step - loss: 11.5610 - accuracy: 0.1040 - val_loss: 11.4546 - val_accuracy: 0.1180\n",
            "Epoch 35/100\n",
            "40/40 [==============================] - 0s 4ms/step - loss: 11.5612 - accuracy: 0.1040 - val_loss: 11.4547 - val_accuracy: 0.1180\n",
            "Epoch 36/100\n",
            "40/40 [==============================] - 0s 4ms/step - loss: 11.5611 - accuracy: 0.1040 - val_loss: 11.4548 - val_accuracy: 0.1180\n",
            "Epoch 37/100\n",
            "40/40 [==============================] - 0s 4ms/step - loss: 11.5611 - accuracy: 0.1040 - val_loss: 11.4544 - val_accuracy: 0.1180\n",
            "Epoch 38/100\n",
            "40/40 [==============================] - 0s 4ms/step - loss: 11.5603 - accuracy: 0.1045 - val_loss: 11.4523 - val_accuracy: 0.1020\n",
            "Epoch 39/100\n",
            "40/40 [==============================] - 0s 4ms/step - loss: 11.5592 - accuracy: 0.1025 - val_loss: 11.4526 - val_accuracy: 0.0920\n",
            "Epoch 40/100\n",
            "40/40 [==============================] - 0s 4ms/step - loss: 11.5597 - accuracy: 0.0970 - val_loss: 11.4528 - val_accuracy: 0.0920\n",
            "Epoch 41/100\n",
            "40/40 [==============================] - 0s 4ms/step - loss: 11.5597 - accuracy: 0.1000 - val_loss: 11.4529 - val_accuracy: 0.0920\n",
            "Epoch 42/100\n",
            "40/40 [==============================] - 0s 4ms/step - loss: 11.5598 - accuracy: 0.0965 - val_loss: 11.4532 - val_accuracy: 0.1180\n",
            "Epoch 43/100\n",
            "40/40 [==============================] - 0s 4ms/step - loss: 11.5599 - accuracy: 0.1030 - val_loss: 11.4534 - val_accuracy: 0.1180\n",
            "Epoch 44/100\n",
            "40/40 [==============================] - 0s 4ms/step - loss: 11.5600 - accuracy: 0.1040 - val_loss: 11.4538 - val_accuracy: 0.1180\n",
            "Epoch 45/100\n",
            "40/40 [==============================] - 0s 4ms/step - loss: 11.5603 - accuracy: 0.1040 - val_loss: 11.4541 - val_accuracy: 0.1180\n",
            "Epoch 46/100\n",
            "40/40 [==============================] - 0s 4ms/step - loss: 11.5604 - accuracy: 0.1040 - val_loss: 11.4545 - val_accuracy: 0.1180\n",
            "Epoch 47/100\n",
            "40/40 [==============================] - 0s 4ms/step - loss: 11.5607 - accuracy: 0.1040 - val_loss: 11.4549 - val_accuracy: 0.1180\n",
            "Epoch 48/100\n",
            "40/40 [==============================] - 0s 4ms/step - loss: 11.5610 - accuracy: 0.1040 - val_loss: 11.4553 - val_accuracy: 0.1180\n",
            "Epoch 49/100\n",
            "40/40 [==============================] - 0s 4ms/step - loss: 11.5613 - accuracy: 0.1040 - val_loss: 11.4557 - val_accuracy: 0.1180\n",
            "Epoch 50/100\n",
            "40/40 [==============================] - 0s 4ms/step - loss: 11.5617 - accuracy: 0.1040 - val_loss: 11.4561 - val_accuracy: 0.1180\n",
            "Epoch 51/100\n",
            "40/40 [==============================] - 0s 4ms/step - loss: 11.5618 - accuracy: 0.1040 - val_loss: 11.4564 - val_accuracy: 0.1180\n",
            "Epoch 52/100\n",
            "40/40 [==============================] - 0s 6ms/step - loss: 11.5622 - accuracy: 0.1040 - val_loss: 11.4568 - val_accuracy: 0.1180\n",
            "Epoch 53/100\n",
            "40/40 [==============================] - 0s 7ms/step - loss: 11.5629 - accuracy: 0.1040 - val_loss: 11.4571 - val_accuracy: 0.1180\n",
            "Epoch 54/100\n",
            "40/40 [==============================] - 0s 7ms/step - loss: 11.5629 - accuracy: 0.1040 - val_loss: 11.4575 - val_accuracy: 0.1180\n",
            "Epoch 55/100\n",
            "40/40 [==============================] - 0s 6ms/step - loss: 11.5629 - accuracy: 0.1040 - val_loss: 11.4578 - val_accuracy: 0.1180\n",
            "Epoch 56/100\n",
            "40/40 [==============================] - 0s 7ms/step - loss: 11.5636 - accuracy: 0.1040 - val_loss: 11.4581 - val_accuracy: 0.1180\n",
            "Epoch 57/100\n",
            "40/40 [==============================] - 0s 6ms/step - loss: 11.5637 - accuracy: 0.1040 - val_loss: 11.4584 - val_accuracy: 0.1180\n",
            "Epoch 58/100\n",
            "40/40 [==============================] - 0s 6ms/step - loss: 11.5641 - accuracy: 0.1040 - val_loss: 11.4587 - val_accuracy: 0.1180\n",
            "Epoch 59/100\n",
            "40/40 [==============================] - 0s 6ms/step - loss: 11.5642 - accuracy: 0.1040 - val_loss: 11.4590 - val_accuracy: 0.1180\n",
            "Epoch 60/100\n",
            "40/40 [==============================] - 0s 6ms/step - loss: 11.5644 - accuracy: 0.1040 - val_loss: 11.4592 - val_accuracy: 0.1180\n",
            "Epoch 61/100\n",
            "40/40 [==============================] - 0s 7ms/step - loss: 11.5645 - accuracy: 0.1040 - val_loss: 11.4595 - val_accuracy: 0.1180\n",
            "Epoch 62/100\n",
            "40/40 [==============================] - 0s 6ms/step - loss: 11.5648 - accuracy: 0.1040 - val_loss: 11.4597 - val_accuracy: 0.1180\n",
            "Epoch 63/100\n",
            "40/40 [==============================] - 0s 6ms/step - loss: 11.5651 - accuracy: 0.1040 - val_loss: 11.4599 - val_accuracy: 0.1180\n",
            "Epoch 64/100\n",
            "40/40 [==============================] - 0s 4ms/step - loss: 11.5652 - accuracy: 0.1040 - val_loss: 11.4600 - val_accuracy: 0.1180\n",
            "Epoch 65/100\n",
            "40/40 [==============================] - 0s 4ms/step - loss: 11.5653 - accuracy: 0.1040 - val_loss: 11.4602 - val_accuracy: 0.1180\n",
            "Epoch 66/100\n",
            "40/40 [==============================] - 0s 4ms/step - loss: 11.5653 - accuracy: 0.1040 - val_loss: 11.4604 - val_accuracy: 0.1180\n",
            "Epoch 67/100\n",
            "40/40 [==============================] - 0s 4ms/step - loss: 11.5655 - accuracy: 0.1040 - val_loss: 11.4606 - val_accuracy: 0.1180\n",
            "Epoch 68/100\n",
            "40/40 [==============================] - 0s 5ms/step - loss: 11.5659 - accuracy: 0.1040 - val_loss: 11.4607 - val_accuracy: 0.1180\n",
            "Epoch 69/100\n",
            "40/40 [==============================] - 0s 4ms/step - loss: 11.5658 - accuracy: 0.1040 - val_loss: 11.4609 - val_accuracy: 0.1180\n",
            "Epoch 70/100\n",
            "40/40 [==============================] - 0s 4ms/step - loss: 11.5659 - accuracy: 0.1040 - val_loss: 11.4610 - val_accuracy: 0.1180\n",
            "Epoch 71/100\n",
            "40/40 [==============================] - 0s 4ms/step - loss: 11.5661 - accuracy: 0.1040 - val_loss: 11.4611 - val_accuracy: 0.1180\n",
            "Epoch 72/100\n",
            "40/40 [==============================] - 0s 4ms/step - loss: 11.5658 - accuracy: 0.1040 - val_loss: 11.4613 - val_accuracy: 0.1180\n",
            "Epoch 73/100\n",
            "40/40 [==============================] - 0s 4ms/step - loss: 11.5661 - accuracy: 0.1040 - val_loss: 11.4614 - val_accuracy: 0.1180\n",
            "Epoch 74/100\n",
            "40/40 [==============================] - 0s 4ms/step - loss: 11.5664 - accuracy: 0.1040 - val_loss: 11.4615 - val_accuracy: 0.1180\n",
            "Epoch 75/100\n",
            "40/40 [==============================] - 0s 4ms/step - loss: 11.5665 - accuracy: 0.1040 - val_loss: 11.4615 - val_accuracy: 0.1180\n",
            "Epoch 76/100\n",
            "40/40 [==============================] - 0s 4ms/step - loss: 11.5665 - accuracy: 0.1040 - val_loss: 11.4616 - val_accuracy: 0.1180\n",
            "Epoch 77/100\n",
            "40/40 [==============================] - 0s 4ms/step - loss: 11.5668 - accuracy: 0.1040 - val_loss: 11.4617 - val_accuracy: 0.1180\n",
            "Epoch 78/100\n",
            "40/40 [==============================] - 0s 4ms/step - loss: 11.5666 - accuracy: 0.1040 - val_loss: 11.4618 - val_accuracy: 0.1180\n",
            "Epoch 79/100\n",
            "40/40 [==============================] - 0s 5ms/step - loss: 11.5665 - accuracy: 0.1040 - val_loss: 11.4618 - val_accuracy: 0.1180\n",
            "Epoch 80/100\n",
            "40/40 [==============================] - 0s 4ms/step - loss: 11.5666 - accuracy: 0.1040 - val_loss: 11.4619 - val_accuracy: 0.1180\n",
            "Epoch 81/100\n",
            "40/40 [==============================] - 0s 4ms/step - loss: 11.5667 - accuracy: 0.1040 - val_loss: 11.4620 - val_accuracy: 0.1180\n",
            "Epoch 82/100\n",
            "40/40 [==============================] - 0s 4ms/step - loss: 11.5670 - accuracy: 0.1040 - val_loss: 11.4620 - val_accuracy: 0.1180\n",
            "Epoch 83/100\n",
            "40/40 [==============================] - 0s 4ms/step - loss: 11.5667 - accuracy: 0.1040 - val_loss: 11.4621 - val_accuracy: 0.1180\n",
            "Epoch 84/100\n",
            "40/40 [==============================] - 0s 4ms/step - loss: 11.5668 - accuracy: 0.1040 - val_loss: 11.4622 - val_accuracy: 0.1180\n",
            "Epoch 85/100\n",
            "40/40 [==============================] - 0s 4ms/step - loss: 11.5670 - accuracy: 0.1040 - val_loss: 11.4622 - val_accuracy: 0.1180\n",
            "Epoch 86/100\n",
            "40/40 [==============================] - 0s 4ms/step - loss: 11.5672 - accuracy: 0.1040 - val_loss: 11.4622 - val_accuracy: 0.1180\n",
            "Epoch 87/100\n",
            "40/40 [==============================] - 0s 4ms/step - loss: 11.5672 - accuracy: 0.1040 - val_loss: 11.4622 - val_accuracy: 0.1180\n",
            "Epoch 88/100\n",
            "40/40 [==============================] - 0s 4ms/step - loss: 11.5672 - accuracy: 0.1040 - val_loss: 11.4623 - val_accuracy: 0.1180\n",
            "Epoch 89/100\n",
            "40/40 [==============================] - 0s 4ms/step - loss: 11.5674 - accuracy: 0.1040 - val_loss: 11.4623 - val_accuracy: 0.1180\n",
            "Epoch 90/100\n",
            "40/40 [==============================] - 0s 4ms/step - loss: 11.5670 - accuracy: 0.1040 - val_loss: 11.4623 - val_accuracy: 0.1180\n",
            "Epoch 91/100\n",
            "40/40 [==============================] - 0s 4ms/step - loss: 11.5674 - accuracy: 0.1040 - val_loss: 11.4623 - val_accuracy: 0.1180\n",
            "Epoch 92/100\n",
            "40/40 [==============================] - 0s 4ms/step - loss: 11.5671 - accuracy: 0.1040 - val_loss: 11.4623 - val_accuracy: 0.1180\n",
            "Epoch 93/100\n",
            "40/40 [==============================] - 0s 4ms/step - loss: 11.5672 - accuracy: 0.1040 - val_loss: 11.4624 - val_accuracy: 0.1180\n",
            "Epoch 94/100\n",
            "40/40 [==============================] - 0s 4ms/step - loss: 11.5673 - accuracy: 0.1040 - val_loss: 11.4624 - val_accuracy: 0.1180\n",
            "Epoch 95/100\n",
            "40/40 [==============================] - 0s 4ms/step - loss: 11.5673 - accuracy: 0.1040 - val_loss: 11.4624 - val_accuracy: 0.1180\n",
            "Epoch 96/100\n",
            "40/40 [==============================] - 0s 4ms/step - loss: 11.5673 - accuracy: 0.1040 - val_loss: 11.4624 - val_accuracy: 0.1180\n",
            "Epoch 97/100\n",
            "40/40 [==============================] - 0s 4ms/step - loss: 11.5676 - accuracy: 0.1040 - val_loss: 11.4624 - val_accuracy: 0.1180\n",
            "Epoch 98/100\n",
            "40/40 [==============================] - 0s 4ms/step - loss: 11.5672 - accuracy: 0.1040 - val_loss: 11.4624 - val_accuracy: 0.1180\n",
            "Epoch 99/100\n",
            "40/40 [==============================] - 0s 4ms/step - loss: 11.5671 - accuracy: 0.1040 - val_loss: 11.4624 - val_accuracy: 0.1180\n",
            "Epoch 100/100\n",
            "40/40 [==============================] - 0s 4ms/step - loss: 11.5673 - accuracy: 0.1040 - val_loss: 11.4625 - val_accuracy: 0.1180\n"
          ]
        },
        {
          "output_type": "execute_result",
          "data": {
            "text/plain": [
              "<keras.src.callbacks.History at 0x7df370b93d30>"
            ]
          },
          "metadata": {},
          "execution_count": 19
        }
      ]
    },
    {
      "cell_type": "code",
      "source": [
        "model_v2.evaluate(test_data,test_label)"
      ],
      "metadata": {
        "colab": {
          "base_uri": "https://localhost:8080/"
        },
        "id": "RmbDn3uw12SG",
        "outputId": "d65a925c-4dbd-4586-ae76-7609131ef164"
      },
      "execution_count": null,
      "outputs": [
        {
          "output_type": "stream",
          "name": "stdout",
          "text": [
            "16/16 [==============================] - 0s 2ms/step - loss: 11.5611 - accuracy: 0.1140\n"
          ]
        },
        {
          "output_type": "execute_result",
          "data": {
            "text/plain": [
              "[11.56105899810791, 0.11400000005960464]"
            ]
          },
          "metadata": {},
          "execution_count": 20
        }
      ]
    },
    {
      "cell_type": "code",
      "source": [
        "results=model_v2.predict(test_data)"
      ],
      "metadata": {
        "colab": {
          "base_uri": "https://localhost:8080/"
        },
        "id": "R9RMHtNS5x38",
        "outputId": "3b5b9375-d08a-49a9-8444-33c10edeb3e8"
      },
      "execution_count": null,
      "outputs": [
        {
          "output_type": "stream",
          "name": "stdout",
          "text": [
            "16/16 [==============================] - 0s 2ms/step\n"
          ]
        }
      ]
    },
    {
      "cell_type": "code",
      "source": [
        "results.shape"
      ],
      "metadata": {
        "colab": {
          "base_uri": "https://localhost:8080/"
        },
        "id": "9YnWuwBq55Tt",
        "outputId": "98f44af7-012c-47d2-f7e1-fbeaa5abacb6"
      },
      "execution_count": null,
      "outputs": [
        {
          "output_type": "execute_result",
          "data": {
            "text/plain": [
              "(500, 10)"
            ]
          },
          "metadata": {},
          "execution_count": 22
        }
      ]
    },
    {
      "cell_type": "code",
      "source": [
        "results[0:10][0]"
      ],
      "metadata": {
        "colab": {
          "base_uri": "https://localhost:8080/"
        },
        "id": "MG5-ufq96Gf-",
        "outputId": "be17ade3-eb3f-41ae-922c-d25e22df7a7c"
      },
      "execution_count": null,
      "outputs": [
        {
          "output_type": "execute_result",
          "data": {
            "text/plain": [
              "array([0.10662975, 0.10631741, 0.08497277, 0.09279609, 0.11090447,\n",
              "       0.10526794, 0.10778547, 0.09762246, 0.09469385, 0.09300979],\n",
              "      dtype=float32)"
            ]
          },
          "metadata": {},
          "execution_count": 23
        }
      ]
    },
    {
      "cell_type": "code",
      "source": [
        "test_label[0:10][0]"
      ],
      "metadata": {
        "colab": {
          "base_uri": "https://localhost:8080/"
        },
        "id": "Gfd1eadA6Kb4",
        "outputId": "ef450b64-533c-4f7d-c001-f44b93d30151"
      },
      "execution_count": null,
      "outputs": [
        {
          "output_type": "execute_result",
          "data": {
            "text/plain": [
              "array([0.69842847, 0.79289012, 0.79769909, 0.00591083, 0.69472523,\n",
              "       0.98167414, 0.94425716, 0.20798224, 0.96581984, 0.19392781])"
            ]
          },
          "metadata": {},
          "execution_count": 24
        }
      ]
    },
    {
      "cell_type": "markdown",
      "source": [
        "### KERAS FUNCTIONAL API"
      ],
      "metadata": {
        "id": "BTVynuF_hEjK"
      }
    },
    {
      "cell_type": "code",
      "source": [
        "import tensorflow  as tf\n",
        "\n",
        "mnist=tf.keras.datasets.mnist\n",
        "(X_mnist_train,y_mnist_train),(X_mnist_test,y_mnist_test)=mnist.load_data()"
      ],
      "metadata": {
        "colab": {
          "base_uri": "https://localhost:8080/"
        },
        "id": "dUGEyZBchOfe",
        "outputId": "3b098b0a-c2c6-4330-9167-bf60f0596ce5"
      },
      "execution_count": null,
      "outputs": [
        {
          "output_type": "stream",
          "name": "stdout",
          "text": [
            "Downloading data from https://storage.googleapis.com/tensorflow/tf-keras-datasets/mnist.npz\n",
            "11490434/11490434 [==============================] - 0s 0us/step\n"
          ]
        }
      ]
    },
    {
      "cell_type": "code",
      "source": [
        "print(X_mnist_train.shape,X_mnist_test.shape)"
      ],
      "metadata": {
        "colab": {
          "base_uri": "https://localhost:8080/"
        },
        "id": "2EiQg4Cgh9eW",
        "outputId": "23480e0e-441d-452b-a468-10d70f5642c7"
      },
      "execution_count": null,
      "outputs": [
        {
          "output_type": "stream",
          "name": "stdout",
          "text": [
            "(60000, 28, 28) (10000, 28, 28)\n"
          ]
        }
      ]
    },
    {
      "cell_type": "code",
      "source": [
        "set(y_mnist_train)"
      ],
      "metadata": {
        "colab": {
          "base_uri": "https://localhost:8080/"
        },
        "id": "XlyNTpgAiERy",
        "outputId": "e14b92b0-2315-4915-c822-d8230a773518"
      },
      "execution_count": null,
      "outputs": [
        {
          "output_type": "execute_result",
          "data": {
            "text/plain": [
              "{0, 1, 2, 3, 4, 5, 6, 7, 8, 9}"
            ]
          },
          "metadata": {},
          "execution_count": 27
        }
      ]
    },
    {
      "cell_type": "code",
      "source": [
        "def normalize_grayscale(image_data):\n",
        "  a=0.1\n",
        "  b=0.9\n",
        "  image_data_min=image_data.min()\n",
        "  image_data_max=image_data.max()\n",
        "  return a+((image_data-image_data_min)*(b-a))/(image_data_max-image_data_min)\n",
        "train_mnist_features=normalize_grayscale(X_mnist_train)\n",
        "test_mnist_features=normalize_grayscale(X_mnist_test)"
      ],
      "metadata": {
        "id": "NKGSrEhFiPRR"
      },
      "execution_count": null,
      "outputs": []
    },
    {
      "cell_type": "code",
      "source": [
        "train_mnist_features[0],test_mnist_features[0]"
      ],
      "metadata": {
        "colab": {
          "base_uri": "https://localhost:8080/"
        },
        "id": "1Zje0w4NjwBs",
        "outputId": "fd8db896-18e9-425b-8eb4-57d8654370b2"
      },
      "execution_count": null,
      "outputs": [
        {
          "output_type": "execute_result",
          "data": {
            "text/plain": [
              "(array([[0.1       , 0.1       , 0.1       , 0.1       , 0.1       ,\n",
              "         0.1       , 0.1       , 0.1       , 0.1       , 0.1       ,\n",
              "         0.1       , 0.1       , 0.1       , 0.1       , 0.1       ,\n",
              "         0.1       , 0.1       , 0.1       , 0.1       , 0.1       ,\n",
              "         0.1       , 0.1       , 0.1       , 0.1       , 0.1       ,\n",
              "         0.1       , 0.1       , 0.1       ],\n",
              "        [0.1       , 0.1       , 0.1       , 0.1       , 0.1       ,\n",
              "         0.1       , 0.1       , 0.1       , 0.1       , 0.1       ,\n",
              "         0.1       , 0.1       , 0.1       , 0.1       , 0.1       ,\n",
              "         0.1       , 0.1       , 0.1       , 0.1       , 0.1       ,\n",
              "         0.1       , 0.1       , 0.1       , 0.1       , 0.1       ,\n",
              "         0.1       , 0.1       , 0.1       ],\n",
              "        [0.1       , 0.1       , 0.1       , 0.1       , 0.1       ,\n",
              "         0.1       , 0.1       , 0.1       , 0.1       , 0.1       ,\n",
              "         0.1       , 0.1       , 0.1       , 0.1       , 0.1       ,\n",
              "         0.1       , 0.1       , 0.1       , 0.1       , 0.1       ,\n",
              "         0.1       , 0.1       , 0.1       , 0.1       , 0.1       ,\n",
              "         0.1       , 0.1       , 0.1       ],\n",
              "        [0.1       , 0.1       , 0.1       , 0.1       , 0.1       ,\n",
              "         0.1       , 0.1       , 0.1       , 0.1       , 0.1       ,\n",
              "         0.1       , 0.1       , 0.1       , 0.1       , 0.1       ,\n",
              "         0.1       , 0.1       , 0.1       , 0.1       , 0.1       ,\n",
              "         0.1       , 0.1       , 0.1       , 0.1       , 0.1       ,\n",
              "         0.1       , 0.1       , 0.1       ],\n",
              "        [0.1       , 0.1       , 0.1       , 0.1       , 0.1       ,\n",
              "         0.1       , 0.1       , 0.1       , 0.1       , 0.1       ,\n",
              "         0.1       , 0.1       , 0.1       , 0.1       , 0.1       ,\n",
              "         0.1       , 0.1       , 0.1       , 0.1       , 0.1       ,\n",
              "         0.1       , 0.1       , 0.1       , 0.1       , 0.1       ,\n",
              "         0.1       , 0.1       , 0.1       ],\n",
              "        [0.1       , 0.1       , 0.1       , 0.1       , 0.1       ,\n",
              "         0.1       , 0.1       , 0.1       , 0.1       , 0.1       ,\n",
              "         0.1       , 0.1       , 0.10941176, 0.15647059, 0.15647059,\n",
              "         0.15647059, 0.49529412, 0.52666667, 0.64901961, 0.18156863,\n",
              "         0.62078431, 0.9       , 0.87490196, 0.49843137, 0.1       ,\n",
              "         0.1       , 0.1       , 0.1       ],\n",
              "        [0.1       , 0.1       , 0.1       , 0.1       , 0.1       ,\n",
              "         0.1       , 0.1       , 0.1       , 0.19411765, 0.21294118,\n",
              "         0.39490196, 0.58313725, 0.63333333, 0.89372549, 0.89372549,\n",
              "         0.89372549, 0.89372549, 0.89372549, 0.80588235, 0.63960784,\n",
              "         0.89372549, 0.85921569, 0.71176471, 0.30078431, 0.1       ,\n",
              "         0.1       , 0.1       , 0.1       ],\n",
              "        [0.1       , 0.1       , 0.1       , 0.1       , 0.1       ,\n",
              "         0.1       , 0.1       , 0.25372549, 0.84666667, 0.89372549,\n",
              "         0.89372549, 0.89372549, 0.89372549, 0.89372549, 0.89372549,\n",
              "         0.89372549, 0.89372549, 0.88745098, 0.39176471, 0.3572549 ,\n",
              "         0.3572549 , 0.27568627, 0.22235294, 0.1       , 0.1       ,\n",
              "         0.1       , 0.1       , 0.1       ],\n",
              "        [0.1       , 0.1       , 0.1       , 0.1       , 0.1       ,\n",
              "         0.1       , 0.1       , 0.15647059, 0.78705882, 0.89372549,\n",
              "         0.89372549, 0.89372549, 0.89372549, 0.89372549, 0.72117647,\n",
              "         0.67098039, 0.87490196, 0.85607843, 0.1       , 0.1       ,\n",
              "         0.1       , 0.1       , 0.1       , 0.1       , 0.1       ,\n",
              "         0.1       , 0.1       , 0.1       ],\n",
              "        [0.1       , 0.1       , 0.1       , 0.1       , 0.1       ,\n",
              "         0.1       , 0.1       , 0.1       , 0.35098039, 0.58941176,\n",
              "         0.43568627, 0.89372549, 0.89372549, 0.74313725, 0.1345098 ,\n",
              "         0.1       , 0.23490196, 0.58313725, 0.1       , 0.1       ,\n",
              "         0.1       , 0.1       , 0.1       , 0.1       , 0.1       ,\n",
              "         0.1       , 0.1       , 0.1       ],\n",
              "        [0.1       , 0.1       , 0.1       , 0.1       , 0.1       ,\n",
              "         0.1       , 0.1       , 0.1       , 0.1       , 0.14392157,\n",
              "         0.10313725, 0.58313725, 0.89372549, 0.38235294, 0.1       ,\n",
              "         0.1       , 0.1       , 0.1       , 0.1       , 0.1       ,\n",
              "         0.1       , 0.1       , 0.1       , 0.1       , 0.1       ,\n",
              "         0.1       , 0.1       , 0.1       ],\n",
              "        [0.1       , 0.1       , 0.1       , 0.1       , 0.1       ,\n",
              "         0.1       , 0.1       , 0.1       , 0.1       , 0.1       ,\n",
              "         0.1       , 0.53607843, 0.89372549, 0.69607843, 0.10627451,\n",
              "         0.1       , 0.1       , 0.1       , 0.1       , 0.1       ,\n",
              "         0.1       , 0.1       , 0.1       , 0.1       , 0.1       ,\n",
              "         0.1       , 0.1       , 0.1       ],\n",
              "        [0.1       , 0.1       , 0.1       , 0.1       , 0.1       ,\n",
              "         0.1       , 0.1       , 0.1       , 0.1       , 0.1       ,\n",
              "         0.1       , 0.1345098 , 0.69607843, 0.89372549, 0.31960784,\n",
              "         0.1       , 0.1       , 0.1       , 0.1       , 0.1       ,\n",
              "         0.1       , 0.1       , 0.1       , 0.1       , 0.1       ,\n",
              "         0.1       , 0.1       , 0.1       ],\n",
              "        [0.1       , 0.1       , 0.1       , 0.1       , 0.1       ,\n",
              "         0.1       , 0.1       , 0.1       , 0.1       , 0.1       ,\n",
              "         0.1       , 0.1       , 0.20980392, 0.85607843, 0.80588235,\n",
              "         0.60196078, 0.43882353, 0.10313725, 0.1       , 0.1       ,\n",
              "         0.1       , 0.1       , 0.1       , 0.1       , 0.1       ,\n",
              "         0.1       , 0.1       , 0.1       ],\n",
              "        [0.1       , 0.1       , 0.1       , 0.1       , 0.1       ,\n",
              "         0.1       , 0.1       , 0.1       , 0.1       , 0.1       ,\n",
              "         0.1       , 0.1       , 0.1       , 0.35411765, 0.85294118,\n",
              "         0.89372549, 0.89372549, 0.47333333, 0.17843137, 0.1       ,\n",
              "         0.1       , 0.1       , 0.1       , 0.1       , 0.1       ,\n",
              "         0.1       , 0.1       , 0.1       ],\n",
              "        [0.1       , 0.1       , 0.1       , 0.1       , 0.1       ,\n",
              "         0.1       , 0.1       , 0.1       , 0.1       , 0.1       ,\n",
              "         0.1       , 0.1       , 0.1       , 0.1       , 0.24117647,\n",
              "         0.68352941, 0.89372549, 0.89372549, 0.57058824, 0.18470588,\n",
              "         0.1       , 0.1       , 0.1       , 0.1       , 0.1       ,\n",
              "         0.1       , 0.1       , 0.1       ],\n",
              "        [0.1       , 0.1       , 0.1       , 0.1       , 0.1       ,\n",
              "         0.1       , 0.1       , 0.1       , 0.1       , 0.1       ,\n",
              "         0.1       , 0.1       , 0.1       , 0.1       , 0.1       ,\n",
              "         0.15019608, 0.39176471, 0.89058824, 0.89372549, 0.68666667,\n",
              "         0.1       , 0.1       , 0.1       , 0.1       , 0.1       ,\n",
              "         0.1       , 0.1       , 0.1       ],\n",
              "        [0.1       , 0.1       , 0.1       , 0.1       , 0.1       ,\n",
              "         0.1       , 0.1       , 0.1       , 0.1       , 0.1       ,\n",
              "         0.1       , 0.1       , 0.1       , 0.1       , 0.1       ,\n",
              "         0.1       , 0.1       , 0.88117647, 0.89372549, 0.88117647,\n",
              "         0.30078431, 0.1       , 0.1       , 0.1       , 0.1       ,\n",
              "         0.1       , 0.1       , 0.1       ],\n",
              "        [0.1       , 0.1       , 0.1       , 0.1       , 0.1       ,\n",
              "         0.1       , 0.1       , 0.1       , 0.1       , 0.1       ,\n",
              "         0.1       , 0.1       , 0.1       , 0.1       , 0.24431373,\n",
              "         0.50784314, 0.67411765, 0.89372549, 0.89372549, 0.74941176,\n",
              "         0.10627451, 0.1       , 0.1       , 0.1       , 0.1       ,\n",
              "         0.1       , 0.1       , 0.1       ],\n",
              "        [0.1       , 0.1       , 0.1       , 0.1       , 0.1       ,\n",
              "         0.1       , 0.1       , 0.1       , 0.1       , 0.1       ,\n",
              "         0.1       , 0.1       , 0.22235294, 0.56431373, 0.81843137,\n",
              "         0.89372549, 0.89372549, 0.89372549, 0.88431373, 0.67098039,\n",
              "         0.1       , 0.1       , 0.1       , 0.1       , 0.1       ,\n",
              "         0.1       , 0.1       , 0.1       ],\n",
              "        [0.1       , 0.1       , 0.1       , 0.1       , 0.1       ,\n",
              "         0.1       , 0.1       , 0.1       , 0.1       , 0.1       ,\n",
              "         0.17529412, 0.45764706, 0.79333333, 0.89372549, 0.89372549,\n",
              "         0.89372549, 0.89372549, 0.73058824, 0.34470588, 0.1       ,\n",
              "         0.1       , 0.1       , 0.1       , 0.1       , 0.1       ,\n",
              "         0.1       , 0.1       , 0.1       ],\n",
              "        [0.1       , 0.1       , 0.1       , 0.1       , 0.1       ,\n",
              "         0.1       , 0.1       , 0.1       , 0.17215686, 0.30705882,\n",
              "         0.76823529, 0.89372549, 0.89372549, 0.89372549, 0.89372549,\n",
              "         0.72117647, 0.35411765, 0.10627451, 0.1       , 0.1       ,\n",
              "         0.1       , 0.1       , 0.1       , 0.1       , 0.1       ,\n",
              "         0.1       , 0.1       , 0.1       ],\n",
              "        [0.1       , 0.1       , 0.1       , 0.1       , 0.1       ,\n",
              "         0.1       , 0.15647059, 0.63647059, 0.78705882, 0.89372549,\n",
              "         0.89372549, 0.89372549, 0.89372549, 0.71176471, 0.35098039,\n",
              "         0.12823529, 0.1       , 0.1       , 0.1       , 0.1       ,\n",
              "         0.1       , 0.1       , 0.1       , 0.1       , 0.1       ,\n",
              "         0.1       , 0.1       , 0.1       ],\n",
              "        [0.1       , 0.1       , 0.1       , 0.1       , 0.27254902,\n",
              "         0.63960784, 0.80901961, 0.89372549, 0.89372549, 0.89372549,\n",
              "         0.89372549, 0.8654902 , 0.5172549 , 0.1345098 , 0.1       ,\n",
              "         0.1       , 0.1       , 0.1       , 0.1       , 0.1       ,\n",
              "         0.1       , 0.1       , 0.1       , 0.1       , 0.1       ,\n",
              "         0.1       , 0.1       , 0.1       ],\n",
              "        [0.1       , 0.1       , 0.1       , 0.1       , 0.52666667,\n",
              "         0.89372549, 0.89372549, 0.89372549, 0.76509804, 0.52352941,\n",
              "         0.51411765, 0.15019608, 0.1       , 0.1       , 0.1       ,\n",
              "         0.1       , 0.1       , 0.1       , 0.1       , 0.1       ,\n",
              "         0.1       , 0.1       , 0.1       , 0.1       , 0.1       ,\n",
              "         0.1       , 0.1       , 0.1       ],\n",
              "        [0.1       , 0.1       , 0.1       , 0.1       , 0.1       ,\n",
              "         0.1       , 0.1       , 0.1       , 0.1       , 0.1       ,\n",
              "         0.1       , 0.1       , 0.1       , 0.1       , 0.1       ,\n",
              "         0.1       , 0.1       , 0.1       , 0.1       , 0.1       ,\n",
              "         0.1       , 0.1       , 0.1       , 0.1       , 0.1       ,\n",
              "         0.1       , 0.1       , 0.1       ],\n",
              "        [0.1       , 0.1       , 0.1       , 0.1       , 0.1       ,\n",
              "         0.1       , 0.1       , 0.1       , 0.1       , 0.1       ,\n",
              "         0.1       , 0.1       , 0.1       , 0.1       , 0.1       ,\n",
              "         0.1       , 0.1       , 0.1       , 0.1       , 0.1       ,\n",
              "         0.1       , 0.1       , 0.1       , 0.1       , 0.1       ,\n",
              "         0.1       , 0.1       , 0.1       ],\n",
              "        [0.1       , 0.1       , 0.1       , 0.1       , 0.1       ,\n",
              "         0.1       , 0.1       , 0.1       , 0.1       , 0.1       ,\n",
              "         0.1       , 0.1       , 0.1       , 0.1       , 0.1       ,\n",
              "         0.1       , 0.1       , 0.1       , 0.1       , 0.1       ,\n",
              "         0.1       , 0.1       , 0.1       , 0.1       , 0.1       ,\n",
              "         0.1       , 0.1       , 0.1       ]]),\n",
              " array([[0.1       , 0.1       , 0.1       , 0.1       , 0.1       ,\n",
              "         0.1       , 0.1       , 0.1       , 0.1       , 0.1       ,\n",
              "         0.1       , 0.1       , 0.1       , 0.1       , 0.1       ,\n",
              "         0.1       , 0.1       , 0.1       , 0.1       , 0.1       ,\n",
              "         0.1       , 0.1       , 0.1       , 0.1       , 0.1       ,\n",
              "         0.1       , 0.1       , 0.1       ],\n",
              "        [0.1       , 0.1       , 0.1       , 0.1       , 0.1       ,\n",
              "         0.1       , 0.1       , 0.1       , 0.1       , 0.1       ,\n",
              "         0.1       , 0.1       , 0.1       , 0.1       , 0.1       ,\n",
              "         0.1       , 0.1       , 0.1       , 0.1       , 0.1       ,\n",
              "         0.1       , 0.1       , 0.1       , 0.1       , 0.1       ,\n",
              "         0.1       , 0.1       , 0.1       ],\n",
              "        [0.1       , 0.1       , 0.1       , 0.1       , 0.1       ,\n",
              "         0.1       , 0.1       , 0.1       , 0.1       , 0.1       ,\n",
              "         0.1       , 0.1       , 0.1       , 0.1       , 0.1       ,\n",
              "         0.1       , 0.1       , 0.1       , 0.1       , 0.1       ,\n",
              "         0.1       , 0.1       , 0.1       , 0.1       , 0.1       ,\n",
              "         0.1       , 0.1       , 0.1       ],\n",
              "        [0.1       , 0.1       , 0.1       , 0.1       , 0.1       ,\n",
              "         0.1       , 0.1       , 0.1       , 0.1       , 0.1       ,\n",
              "         0.1       , 0.1       , 0.1       , 0.1       , 0.1       ,\n",
              "         0.1       , 0.1       , 0.1       , 0.1       , 0.1       ,\n",
              "         0.1       , 0.1       , 0.1       , 0.1       , 0.1       ,\n",
              "         0.1       , 0.1       , 0.1       ],\n",
              "        [0.1       , 0.1       , 0.1       , 0.1       , 0.1       ,\n",
              "         0.1       , 0.1       , 0.1       , 0.1       , 0.1       ,\n",
              "         0.1       , 0.1       , 0.1       , 0.1       , 0.1       ,\n",
              "         0.1       , 0.1       , 0.1       , 0.1       , 0.1       ,\n",
              "         0.1       , 0.1       , 0.1       , 0.1       , 0.1       ,\n",
              "         0.1       , 0.1       , 0.1       ],\n",
              "        [0.1       , 0.1       , 0.1       , 0.1       , 0.1       ,\n",
              "         0.1       , 0.1       , 0.1       , 0.1       , 0.1       ,\n",
              "         0.1       , 0.1       , 0.1       , 0.1       , 0.1       ,\n",
              "         0.1       , 0.1       , 0.1       , 0.1       , 0.1       ,\n",
              "         0.1       , 0.1       , 0.1       , 0.1       , 0.1       ,\n",
              "         0.1       , 0.1       , 0.1       ],\n",
              "        [0.1       , 0.1       , 0.1       , 0.1       , 0.1       ,\n",
              "         0.1       , 0.1       , 0.1       , 0.1       , 0.1       ,\n",
              "         0.1       , 0.1       , 0.1       , 0.1       , 0.1       ,\n",
              "         0.1       , 0.1       , 0.1       , 0.1       , 0.1       ,\n",
              "         0.1       , 0.1       , 0.1       , 0.1       , 0.1       ,\n",
              "         0.1       , 0.1       , 0.1       ],\n",
              "        [0.1       , 0.1       , 0.1       , 0.1       , 0.1       ,\n",
              "         0.1       , 0.36352941, 0.68039216, 0.59882353, 0.57372549,\n",
              "         0.28823529, 0.21294118, 0.1       , 0.1       , 0.1       ,\n",
              "         0.1       , 0.1       , 0.1       , 0.1       , 0.1       ,\n",
              "         0.1       , 0.1       , 0.1       , 0.1       , 0.1       ,\n",
              "         0.1       , 0.1       , 0.1       ],\n",
              "        [0.1       , 0.1       , 0.1       , 0.1       , 0.1       ,\n",
              "         0.1       , 0.79647059, 0.89686275, 0.89686275, 0.89686275,\n",
              "         0.89686275, 0.85607843, 0.72117647, 0.72117647, 0.72117647,\n",
              "         0.72117647, 0.72117647, 0.72117647, 0.72117647, 0.72117647,\n",
              "         0.63333333, 0.26313725, 0.1       , 0.1       , 0.1       ,\n",
              "         0.1       , 0.1       , 0.1       ],\n",
              "        [0.1       , 0.1       , 0.1       , 0.1       , 0.1       ,\n",
              "         0.1       , 0.31019608, 0.45764706, 0.32588235, 0.45764706,\n",
              "         0.61137255, 0.81215686, 0.89686275, 0.80588235, 0.89686275,\n",
              "         0.89686275, 0.89686275, 0.88431373, 0.81843137, 0.89686275,\n",
              "         0.89686275, 0.53921569, 0.1       , 0.1       , 0.1       ,\n",
              "         0.1       , 0.1       , 0.1       ],\n",
              "        [0.1       , 0.1       , 0.1       , 0.1       , 0.1       ,\n",
              "         0.1       , 0.1       , 0.1       , 0.1       , 0.1       ,\n",
              "         0.1       , 0.15333333, 0.30705882, 0.14392157, 0.31019608,\n",
              "         0.31019608, 0.31019608, 0.28509804, 0.16588235, 0.84039216,\n",
              "         0.89686275, 0.43254902, 0.1       , 0.1       , 0.1       ,\n",
              "         0.1       , 0.1       , 0.1       ],\n",
              "        [0.1       , 0.1       , 0.1       , 0.1       , 0.1       ,\n",
              "         0.1       , 0.1       , 0.1       , 0.1       , 0.1       ,\n",
              "         0.1       , 0.1       , 0.1       , 0.1       , 0.1       ,\n",
              "         0.1       , 0.1       , 0.1       , 0.36039216, 0.89372549,\n",
              "         0.75568627, 0.15647059, 0.1       , 0.1       , 0.1       ,\n",
              "         0.1       , 0.1       , 0.1       ],\n",
              "        [0.1       , 0.1       , 0.1       , 0.1       , 0.1       ,\n",
              "         0.1       , 0.1       , 0.1       , 0.1       , 0.1       ,\n",
              "         0.1       , 0.1       , 0.1       , 0.1       , 0.1       ,\n",
              "         0.1       , 0.1       , 0.16901961, 0.83098039, 0.9       ,\n",
              "         0.36039216, 0.1       , 0.1       , 0.1       , 0.1       ,\n",
              "         0.1       , 0.1       , 0.1       ],\n",
              "        [0.1       , 0.1       , 0.1       , 0.1       , 0.1       ,\n",
              "         0.1       , 0.1       , 0.1       , 0.1       , 0.1       ,\n",
              "         0.1       , 0.1       , 0.1       , 0.1       , 0.1       ,\n",
              "         0.1       , 0.1       , 0.50470588, 0.89686275, 0.84666667,\n",
              "         0.23803922, 0.1       , 0.1       , 0.1       , 0.1       ,\n",
              "         0.1       , 0.1       , 0.1       ],\n",
              "        [0.1       , 0.1       , 0.1       , 0.1       , 0.1       ,\n",
              "         0.1       , 0.1       , 0.1       , 0.1       , 0.1       ,\n",
              "         0.1       , 0.1       , 0.1       , 0.1       , 0.1       ,\n",
              "         0.1       , 0.28509804, 0.88117647, 0.89686275, 0.2945098 ,\n",
              "         0.1       , 0.1       , 0.1       , 0.1       , 0.1       ,\n",
              "         0.1       , 0.1       , 0.1       ],\n",
              "        [0.1       , 0.1       , 0.1       , 0.1       , 0.1       ,\n",
              "         0.1       , 0.1       , 0.1       , 0.1       , 0.1       ,\n",
              "         0.1       , 0.1       , 0.1       , 0.1       , 0.1       ,\n",
              "         0.1       , 0.5172549 , 0.89686275, 0.68666667, 0.11568627,\n",
              "         0.1       , 0.1       , 0.1       , 0.1       , 0.1       ,\n",
              "         0.1       , 0.1       , 0.1       ],\n",
              "        [0.1       , 0.1       , 0.1       , 0.1       , 0.1       ,\n",
              "         0.1       , 0.1       , 0.1       , 0.1       , 0.1       ,\n",
              "         0.1       , 0.1       , 0.1       , 0.1       , 0.1       ,\n",
              "         0.12823529, 0.74313725, 0.87803922, 0.28196078, 0.1       ,\n",
              "         0.1       , 0.1       , 0.1       , 0.1       , 0.1       ,\n",
              "         0.1       , 0.1       , 0.1       ],\n",
              "        [0.1       , 0.1       , 0.1       , 0.1       , 0.1       ,\n",
              "         0.1       , 0.1       , 0.1       , 0.1       , 0.1       ,\n",
              "         0.1       , 0.1       , 0.1       , 0.1       , 0.1       ,\n",
              "         0.49529412, 0.89686275, 0.67098039, 0.1       , 0.1       ,\n",
              "         0.1       , 0.1       , 0.1       , 0.1       , 0.1       ,\n",
              "         0.1       , 0.1       , 0.1       ],\n",
              "        [0.1       , 0.1       , 0.1       , 0.1       , 0.1       ,\n",
              "         0.1       , 0.1       , 0.1       , 0.1       , 0.1       ,\n",
              "         0.1       , 0.1       , 0.1       , 0.1       , 0.33529412,\n",
              "         0.88745098, 0.85294118, 0.27882353, 0.1       , 0.1       ,\n",
              "         0.1       , 0.1       , 0.1       , 0.1       , 0.1       ,\n",
              "         0.1       , 0.1       , 0.1       ],\n",
              "        [0.1       , 0.1       , 0.1       , 0.1       , 0.1       ,\n",
              "         0.1       , 0.1       , 0.1       , 0.1       , 0.1       ,\n",
              "         0.1       , 0.1       , 0.1       , 0.15960784, 0.79333333,\n",
              "         0.89686275, 0.62078431, 0.1       , 0.1       , 0.1       ,\n",
              "         0.1       , 0.1       , 0.1       , 0.1       , 0.1       ,\n",
              "         0.1       , 0.1       , 0.1       ],\n",
              "        [0.1       , 0.1       , 0.1       , 0.1       , 0.1       ,\n",
              "         0.1       , 0.1       , 0.1       , 0.1       , 0.1       ,\n",
              "         0.1       , 0.1       , 0.10941176, 0.73686275, 0.89686275,\n",
              "         0.78705882, 0.20980392, 0.1       , 0.1       , 0.1       ,\n",
              "         0.1       , 0.1       , 0.1       , 0.1       , 0.1       ,\n",
              "         0.1       , 0.1       , 0.1       ],\n",
              "        [0.1       , 0.1       , 0.1       , 0.1       , 0.1       ,\n",
              "         0.1       , 0.1       , 0.1       , 0.1       , 0.1       ,\n",
              "         0.1       , 0.1       , 0.21921569, 0.89686275, 0.89686275,\n",
              "         0.34156863, 0.1       , 0.1       , 0.1       , 0.1       ,\n",
              "         0.1       , 0.1       , 0.1       , 0.1       , 0.1       ,\n",
              "         0.1       , 0.1       , 0.1       ],\n",
              "        [0.1       , 0.1       , 0.1       , 0.1       , 0.1       ,\n",
              "         0.1       , 0.1       , 0.1       , 0.1       , 0.1       ,\n",
              "         0.1       , 0.1972549 , 0.8027451 , 0.89686275, 0.46078431,\n",
              "         0.10313725, 0.1       , 0.1       , 0.1       , 0.1       ,\n",
              "         0.1       , 0.1       , 0.1       , 0.1       , 0.1       ,\n",
              "         0.1       , 0.1       , 0.1       ],\n",
              "        [0.1       , 0.1       , 0.1       , 0.1       , 0.1       ,\n",
              "         0.1       , 0.1       , 0.1       , 0.1       , 0.1       ,\n",
              "         0.1       , 0.5172549 , 0.89686275, 0.89686275, 0.26313725,\n",
              "         0.1       , 0.1       , 0.1       , 0.1       , 0.1       ,\n",
              "         0.1       , 0.1       , 0.1       , 0.1       , 0.1       ,\n",
              "         0.1       , 0.1       , 0.1       ],\n",
              "        [0.1       , 0.1       , 0.1       , 0.1       , 0.1       ,\n",
              "         0.1       , 0.1       , 0.1       , 0.1       , 0.1       ,\n",
              "         0.29137255, 0.85921569, 0.89686275, 0.89686275, 0.26313725,\n",
              "         0.1       , 0.1       , 0.1       , 0.1       , 0.1       ,\n",
              "         0.1       , 0.1       , 0.1       , 0.1       , 0.1       ,\n",
              "         0.1       , 0.1       , 0.1       ],\n",
              "        [0.1       , 0.1       , 0.1       , 0.1       , 0.1       ,\n",
              "         0.1       , 0.1       , 0.1       , 0.1       , 0.1       ,\n",
              "         0.47960784, 0.89686275, 0.89686275, 0.78705882, 0.2254902 ,\n",
              "         0.1       , 0.1       , 0.1       , 0.1       , 0.1       ,\n",
              "         0.1       , 0.1       , 0.1       , 0.1       , 0.1       ,\n",
              "         0.1       , 0.1       , 0.1       ],\n",
              "        [0.1       , 0.1       , 0.1       , 0.1       , 0.1       ,\n",
              "         0.1       , 0.1       , 0.1       , 0.1       , 0.1       ,\n",
              "         0.47960784, 0.89686275, 0.74941176, 0.15647059, 0.1       ,\n",
              "         0.1       , 0.1       , 0.1       , 0.1       , 0.1       ,\n",
              "         0.1       , 0.1       , 0.1       , 0.1       , 0.1       ,\n",
              "         0.1       , 0.1       , 0.1       ],\n",
              "        [0.1       , 0.1       , 0.1       , 0.1       , 0.1       ,\n",
              "         0.1       , 0.1       , 0.1       , 0.1       , 0.1       ,\n",
              "         0.1       , 0.1       , 0.1       , 0.1       , 0.1       ,\n",
              "         0.1       , 0.1       , 0.1       , 0.1       , 0.1       ,\n",
              "         0.1       , 0.1       , 0.1       , 0.1       , 0.1       ,\n",
              "         0.1       , 0.1       , 0.1       ]]))"
            ]
          },
          "metadata": {},
          "execution_count": 29
        }
      ]
    },
    {
      "cell_type": "code",
      "source": [
        "inputs=tf.keras.Input(shape=(28,28))\n",
        "# 28 x 28 = 784 node - pixels\n",
        "flatten_layer=tf.keras.layers.Flatten()\n",
        "flatten_ouput=flatten_layer(inputs)\n",
        "dense_layer=tf.keras.layers.Dense(50,activation='relu')\n",
        "dense_output=dense_layer(flatten_ouput)\n",
        "predictions=tf.keras.layers.Dense(10,activation='softmax')(dense_output)\n",
        "\n",
        "model=tf.keras.Model(inputs=inputs,outputs=predictions)\n",
        "model.summary()\n"
      ],
      "metadata": {
        "colab": {
          "base_uri": "https://localhost:8080/"
        },
        "id": "0Sg-C4Xoj8XA",
        "outputId": "94c20889-edf8-4785-dcda-3ea748a32f8f"
      },
      "execution_count": null,
      "outputs": [
        {
          "output_type": "stream",
          "name": "stdout",
          "text": [
            "Model: \"model_1\"\n",
            "_________________________________________________________________\n",
            " Layer (type)                Output Shape              Param #   \n",
            "=================================================================\n",
            " input_2 (InputLayer)        [(None, 28, 28)]          0         \n",
            "                                                                 \n",
            " flatten (Flatten)           (None, 784)               0         \n",
            "                                                                 \n",
            " dense_5 (Dense)             (None, 50)                39250     \n",
            "                                                                 \n",
            " dense_6 (Dense)             (None, 10)                510       \n",
            "                                                                 \n",
            "=================================================================\n",
            "Total params: 39760 (155.31 KB)\n",
            "Trainable params: 39760 (155.31 KB)\n",
            "Non-trainable params: 0 (0.00 Byte)\n",
            "_________________________________________________________________\n"
          ]
        }
      ]
    },
    {
      "cell_type": "code",
      "source": [
        "tf.keras.utils.plot_model(model,\"image-classification_model.png\",show_shapes=True)"
      ],
      "metadata": {
        "colab": {
          "base_uri": "https://localhost:8080/",
          "height": 422
        },
        "id": "1xobDDFonXYO",
        "outputId": "72b00687-79cb-41b3-c1ef-ba35bef354cb"
      },
      "execution_count": null,
      "outputs": [
        {
          "output_type": "execute_result",
          "data": {
            "image/png": "[encoded data removed]",
            "text/plain": [
              "<IPython.core.display.Image object>"
            ]
          },
          "metadata": {},
          "execution_count": 31
        }
      ]
    },
    {
      "cell_type": "code",
      "source": [
        "model.compile(optimizer=\"SGD\",loss=\"sparse_categorical_crossentropy\",metrics=[\"accuracy\"])\n",
        "#train\n",
        "model.fit(train_mnist_features,y_mnist_train,validation_data=(test_mnist_features,y_mnist_test),epochs=10)"
      ],
      "metadata": {
        "colab": {
          "base_uri": "https://localhost:8080/"
        },
        "id": "AFQwPiX6narC",
        "outputId": "0d6af2c5-dffa-44ab-9070-16f851f8dadd"
      },
      "execution_count": null,
      "outputs": [
        {
          "output_type": "stream",
          "name": "stdout",
          "text": [
            "Epoch 1/10\n",
            "1875/1875 [==============================] - 7s 3ms/step - loss: 0.8124 - accuracy: 0.7980 - val_loss: 0.4138 - val_accuracy: 0.8904\n",
            "Epoch 2/10\n",
            "1875/1875 [==============================] - 5s 3ms/step - loss: 0.3877 - accuracy: 0.8931 - val_loss: 0.3341 - val_accuracy: 0.9068\n",
            "Epoch 3/10\n",
            "1875/1875 [==============================] - 6s 3ms/step - loss: 0.3366 - accuracy: 0.9054 - val_loss: 0.3061 - val_accuracy: 0.9151\n",
            "Epoch 4/10\n",
            "1875/1875 [==============================] - 5s 3ms/step - loss: 0.3103 - accuracy: 0.9132 - val_loss: 0.2897 - val_accuracy: 0.9158\n",
            "Epoch 5/10\n",
            "1875/1875 [==============================] - 5s 3ms/step - loss: 0.2914 - accuracy: 0.9179 - val_loss: 0.2734 - val_accuracy: 0.9231\n",
            "Epoch 6/10\n",
            "1875/1875 [==============================] - 6s 3ms/step - loss: 0.2756 - accuracy: 0.9225 - val_loss: 0.2575 - val_accuracy: 0.9285\n",
            "Epoch 7/10\n",
            "1875/1875 [==============================] - 5s 3ms/step - loss: 0.2605 - accuracy: 0.9273 - val_loss: 0.2456 - val_accuracy: 0.9325\n",
            "Epoch 8/10\n",
            "1875/1875 [==============================] - 6s 3ms/step - loss: 0.2477 - accuracy: 0.9308 - val_loss: 0.2347 - val_accuracy: 0.9333\n",
            "Epoch 9/10\n",
            "1875/1875 [==============================] - 5s 3ms/step - loss: 0.2358 - accuracy: 0.9342 - val_loss: 0.2257 - val_accuracy: 0.9381\n",
            "Epoch 10/10\n",
            "1875/1875 [==============================] - 6s 3ms/step - loss: 0.2246 - accuracy: 0.9370 - val_loss: 0.2167 - val_accuracy: 0.9392\n"
          ]
        },
        {
          "output_type": "execute_result",
          "data": {
            "text/plain": [
              "<keras.src.callbacks.History at 0x7df2fef60490>"
            ]
          },
          "metadata": {},
          "execution_count": 32
        }
      ]
    },
    {
      "cell_type": "code",
      "source": [
        "# Time Distributed\n",
        "from keras.layers import TimeDistributed"
      ],
      "metadata": {
        "id": "mUt0brY-pGzH"
      },
      "execution_count": null,
      "outputs": []
    },
    {
      "cell_type": "code",
      "source": [
        "input_sequences=tf.keras.Input(shape=(10,28,28))\n",
        "processed_sequences=tf.keras.layers.TimeDistributed(model)(input_sequences)\n",
        "processed_sequences"
      ],
      "metadata": {
        "colab": {
          "base_uri": "https://localhost:8080/"
        },
        "id": "D-w4NB4Wqpnb",
        "outputId": "e6e7e59c-ce3e-411e-f382-56959c5c6c79"
      },
      "execution_count": null,
      "outputs": [
        {
          "output_type": "execute_result",
          "data": {
            "text/plain": [
              "<KerasTensor: shape=(None, 10, 10) dtype=float32 (created by layer 'time_distributed')>"
            ]
          },
          "metadata": {},
          "execution_count": 34
        }
      ]
    },
    {
      "cell_type": "code",
      "source": [
        "house_data_input=tf.keras.Input(shape=(128,),name=\"house_data\")\n",
        "x=tf.keras.layers.Dense(64,activation='relu')(house_data_input)\n",
        "x=tf.keras.layers.Dense(1024,activation='relu')(x)\n",
        "block1_output=tf.keras.layers.Dense(32,activation='relu')(x)\n",
        "\n",
        "house_pictures_input=tf.keras.Input(shape=(320,320,3),name=\"house_pictures\")\n",
        "y=tf.keras.layers.Conv2D(64,3,activation='relu',padding='same')(house_pictures_input)\n",
        "y=tf.keras.layers.Conv2D(64,3,activation='relu',padding='same')(y)\n",
        "flatten_layer_house=tf.keras.layers.Flatten()\n",
        "block2_output=flatten_layer_house(y)\n",
        "\n",
        "input_feature=tf.keras.layers.concatenate([block1_output,block2_output])"
      ],
      "metadata": {
        "id": "-qLfasONq8xp"
      },
      "execution_count": null,
      "outputs": []
    },
    {
      "cell_type": "code",
      "source": [
        "input_feature"
      ],
      "metadata": {
        "colab": {
          "base_uri": "https://localhost:8080/"
        },
        "id": "QYX98WKWwQeU",
        "outputId": "a3a78566-d6ca-412f-cba4-5eeccd3e46c6"
      },
      "execution_count": null,
      "outputs": [
        {
          "output_type": "execute_result",
          "data": {
            "text/plain": [
              "<KerasTensor: shape=(None, 6553632) dtype=float32 (created by layer 'concatenate')>"
            ]
          },
          "metadata": {},
          "execution_count": 36
        }
      ]
    },
    {
      "cell_type": "code",
      "source": [
        "predict_price=x=tf.keras.layers.Dense(1,activation='relu',name='price')(input_feature)\n",
        "time_sale=x=tf.keras.layers.Dense(2,activation='softmax',name='time_sale')(input_feature)\n",
        "model=tf.keras.Model(inputs=[house_data_input,house_pictures_input],outputs=[predict_price,time_sale])\n"
      ],
      "metadata": {
        "id": "Ds1IURv7w164"
      },
      "execution_count": null,
      "outputs": []
    },
    {
      "cell_type": "code",
      "source": [
        "model.summary()"
      ],
      "metadata": {
        "id": "mS54dTHtw3R8",
        "outputId": "3db32dfb-ef1a-4df1-cd28-b4780b69be7d",
        "colab": {
          "base_uri": "https://localhost:8080/"
        }
      },
      "execution_count": null,
      "outputs": [
        {
          "output_type": "stream",
          "name": "stdout",
          "text": [
            "Model: \"model_2\"\n",
            "__________________________________________________________________________________________________\n",
            " Layer (type)                Output Shape                 Param #   Connected to                  \n",
            "==================================================================================================\n",
            " house_data (InputLayer)     [(None, 128)]                0         []                            \n",
            "                                                                                                  \n",
            " house_pictures (InputLayer  [(None, 320, 320, 3)]        0         []                            \n",
            " )                                                                                                \n",
            "                                                                                                  \n",
            " dense_7 (Dense)             (None, 64)                   8256      ['house_data[0][0]']          \n",
            "                                                                                                  \n",
            " conv2d_3 (Conv2D)           (None, 320, 320, 64)         1792      ['house_pictures[0][0]']      \n",
            "                                                                                                  \n",
            " dense_8 (Dense)             (None, 1024)                 66560     ['dense_7[0][0]']             \n",
            "                                                                                                  \n",
            " conv2d_4 (Conv2D)           (None, 320, 320, 64)         36928     ['conv2d_3[0][0]']            \n",
            "                                                                                                  \n",
            " dense_9 (Dense)             (None, 32)                   32800     ['dense_8[0][0]']             \n",
            "                                                                                                  \n",
            " flatten_1 (Flatten)         (None, 6553600)              0         ['conv2d_4[0][0]']            \n",
            "                                                                                                  \n",
            " concatenate (Concatenate)   (None, 6553632)              0         ['dense_9[0][0]',             \n",
            "                                                                     'flatten_1[0][0]']           \n",
            "                                                                                                  \n",
            " price (Dense)               (None, 1)                    6553633   ['concatenate[0][0]']         \n",
            "                                                                                                  \n",
            " time_sale (Dense)           (None, 2)                    1310726   ['concatenate[0][0]']         \n",
            "                                                          6                                       \n",
            "                                                                                                  \n",
            "==================================================================================================\n",
            "Total params: 19807235 (75.56 MB)\n",
            "Trainable params: 19807235 (75.56 MB)\n",
            "Non-trainable params: 0 (0.00 Byte)\n",
            "__________________________________________________________________________________________________\n"
          ]
        }
      ]
    },
    {
      "cell_type": "code",
      "source": [
        "tf.keras.utils.plot_model(model,\"House_sale_model.png\",show_shapes=True)"
      ],
      "metadata": {
        "id": "DSDC6k_Pxy4I",
        "outputId": "a4188f01-a5ab-4629-a090-019bb184e45b",
        "colab": {
          "base_uri": "https://localhost:8080/",
          "height": 644
        }
      },
      "execution_count": null,
      "outputs": [
        {
          "output_type": "execute_result",
          "data": {
            "image/png": "[encoded data removed]",
            "text/plain": [
              "<IPython.core.display.Image object>"
            ]
          },
          "metadata": {},
          "execution_count": 39
        }
      ]
    },
    {
      "cell_type": "code",
      "source": [
        "# Keras SubClass API\n",
        "import tensorflow as tf\n",
        "from tensorflow import keras\n"
      ],
      "metadata": {
        "id": "JsrGkITcELYE"
      },
      "execution_count": null,
      "outputs": []
    },
    {
      "cell_type": "code",
      "source": [
        "help(tf.random_normal_initializer())"
      ],
      "metadata": {
        "colab": {
          "base_uri": "https://localhost:8080/"
        },
        "id": "5EmZvaUMEMb8",
        "outputId": "70d14d95-56f6-49e6-9d89-391aa5a77a52"
      },
      "execution_count": null,
      "outputs": [
        {
          "output_type": "stream",
          "name": "stdout",
          "text": [
            "Help on RandomNormal in module tensorflow.python.ops.init_ops_v2 object:\n",
            "\n",
            "class RandomNormal(Initializer)\n",
            " |  RandomNormal(mean=0.0, stddev=0.05, seed=None)\n",
            " |  \n",
            " |  Initializer that generates tensors with a normal distribution.\n",
            " |  \n",
            " |  Initializers allow you to pre-specify an initialization strategy, encoded in\n",
            " |  the Initializer object, without knowing the shape and dtype of the variable\n",
            " |  being initialized.\n",
            " |  \n",
            " |  Examples:\n",
            " |  \n",
            " |  >>> def make_variables(k, initializer):\n",
            " |  ...   return (tf.Variable(initializer(shape=[k], dtype=tf.float32)),\n",
            " |  ...           tf.Variable(initializer(shape=[k, k], dtype=tf.float32)))\n",
            " |  >>> v1, v2 = make_variables(3,\n",
            " |  ...                         tf.random_normal_initializer(mean=1., stddev=2.))\n",
            " |  >>> v1\n",
            " |  <tf.Variable ... shape=(3,) ... numpy=array([...], dtype=float32)>\n",
            " |  >>> v2\n",
            " |  <tf.Variable ... shape=(3, 3) ... numpy=\n",
            " |  ...\n",
            " |  >>> make_variables(4, tf.random_uniform_initializer(minval=-1., maxval=1.))\n",
            " |  (<tf.Variable...shape=(4,) dtype=float32...>, <tf.Variable...shape=(4, 4) ...\n",
            " |  \n",
            " |  Args:\n",
            " |    mean: a python scalar or a scalar tensor. Mean of the random values to\n",
            " |      generate.\n",
            " |    stddev: a python scalar or a scalar tensor. Standard deviation of the random\n",
            " |      values to generate.\n",
            " |    seed: A Python integer. Used to create random seeds. See\n",
            " |      `tf.random.set_seed` for behavior.\n",
            " |  \n",
            " |  Method resolution order:\n",
            " |      RandomNormal\n",
            " |      Initializer\n",
            " |      builtins.object\n",
            " |  \n",
            " |  Methods defined here:\n",
            " |  \n",
            " |  __call__(self, shape, dtype=tf.float32, **kwargs)\n",
            " |      Returns a tensor object initialized as specified by the initializer.\n",
            " |      \n",
            " |      Args:\n",
            " |        shape: Shape of the tensor.\n",
            " |        dtype: Optional dtype of the tensor. Only floating point types are\n",
            " |          supported.\n",
            " |        **kwargs: Additional keyword arguments.\n",
            " |      \n",
            " |      Raises:\n",
            " |        ValueError: If the dtype is not floating point\n",
            " |  \n",
            " |  __init__(self, mean=0.0, stddev=0.05, seed=None)\n",
            " |      Initialize self.  See help(type(self)) for accurate signature.\n",
            " |  \n",
            " |  get_config(self)\n",
            " |      Returns the configuration of the initializer as a JSON-serializable dict.\n",
            " |      \n",
            " |      Returns:\n",
            " |        A JSON-serializable Python dict.\n",
            " |  \n",
            " |  ----------------------------------------------------------------------\n",
            " |  Class methods inherited from Initializer:\n",
            " |  \n",
            " |  from_config(config) from builtins.type\n",
            " |      Instantiates an initializer from a configuration dictionary.\n",
            " |      \n",
            " |      Example:\n",
            " |      \n",
            " |      ```python\n",
            " |      initializer = RandomUniform(-1, 1)\n",
            " |      config = initializer.get_config()\n",
            " |      initializer = RandomUniform.from_config(config)\n",
            " |      ```\n",
            " |      \n",
            " |      Args:\n",
            " |        config: A Python dictionary.\n",
            " |          It will typically be the output of `get_config`.\n",
            " |      \n",
            " |      Returns:\n",
            " |        An Initializer instance.\n",
            " |  \n",
            " |  ----------------------------------------------------------------------\n",
            " |  Data descriptors inherited from Initializer:\n",
            " |  \n",
            " |  __dict__\n",
            " |      dictionary for instance variables (if defined)\n",
            " |  \n",
            " |  __weakref__\n",
            " |      list of weak references to the object (if defined)\n",
            "\n"
          ]
        }
      ]
    },
    {
      "cell_type": "code",
      "source": [
        "class Linear(keras.layers.Layer):\n",
        "  def __init__(self, units=32):\n",
        "    super(Linear,self).__init__()\n",
        "    self.units=units\n",
        "\n",
        "  def build(self,input_shape):\n",
        "    # x_output=w*input+b\n",
        "    w_init=tf.random_normal_initializer()\n",
        "    self.w=tf.Variable(initial_value=w_init(shape=(input_shape[-1],self.units),dtype='float32'),\n",
        "                       trainable=True) # False,\n",
        "    b_init=tf.zeros_initializer()\n",
        "    self.b=tf.Variable(initial_value=b_init(shape=(self.units,),dtype='float32'),\n",
        "                       trainable=True) # False,\n",
        "  def call(self,inputs):\n",
        "    return tf.matmul(inputs,self.w)+self.b\n"
      ],
      "metadata": {
        "id": "14UXwaAeFvZk"
      },
      "execution_count": null,
      "outputs": []
    },
    {
      "cell_type": "code",
      "source": [
        "linear_layer=Linear(32)\n",
        "y=linear_layer(x)\n",
        "y"
      ],
      "metadata": {
        "colab": {
          "base_uri": "https://localhost:8080/"
        },
        "id": "Hd7g0xZUIZ91",
        "outputId": "2f4d91dc-6f40-4b3a-cf7f-62ac764e000c"
      },
      "execution_count": null,
      "outputs": [
        {
          "output_type": "execute_result",
          "data": {
            "text/plain": [
              "<KerasTensor: shape=(None, 32) dtype=float32 (created by layer 'linear')>"
            ]
          },
          "metadata": {},
          "execution_count": 43
        }
      ]
    },
    {
      "cell_type": "code",
      "source": [
        "linear_layer.weights\n"
      ],
      "metadata": {
        "colab": {
          "base_uri": "https://localhost:8080/"
        },
        "id": "uWo7SDO2JTgP",
        "outputId": "187e4f78-099a-4336-f9ad-c0c3b5ff0b2b"
      },
      "execution_count": null,
      "outputs": [
        {
          "output_type": "execute_result",
          "data": {
            "text/plain": [
              "[<tf.Variable 'linear/Variable:0' shape=(2, 32) dtype=float32, numpy=\n",
              " array([[-0.02802451, -0.11503088,  0.08596772,  0.01630092,  0.03308333,\n",
              "          0.02309838, -0.03489463,  0.09537332, -0.00958161, -0.05703542,\n",
              "         -0.02887407,  0.03720806, -0.02975405,  0.1087774 , -0.03595096,\n",
              "         -0.00832356, -0.02683648,  0.0682419 ,  0.02917802, -0.0293613 ,\n",
              "         -0.0432415 ,  0.03648765,  0.09390005, -0.0143591 ,  0.00588095,\n",
              "         -0.01006384, -0.07170509, -0.03626823,  0.02329736,  0.07654756,\n",
              "         -0.0724457 , -0.11631256],\n",
              "        [ 0.06381094,  0.03781619, -0.04005982, -0.0362322 ,  0.05900881,\n",
              "          0.03103069,  0.07851138, -0.00916799, -0.04887377,  0.03581287,\n",
              "          0.04404794,  0.13533293, -0.00304413,  0.05790692,  0.05438199,\n",
              "          0.08767818,  0.06161917,  0.03519804, -0.08186295,  0.04048241,\n",
              "         -0.04130156, -0.01110759, -0.02328475, -0.09115862, -0.07860088,\n",
              "          0.06167897,  0.03036593, -0.07270885, -0.03846202,  0.07803842,\n",
              "         -0.10571458, -0.01347866]], dtype=float32)>,\n",
              " <tf.Variable 'linear/Variable:0' shape=(32,) dtype=float32, numpy=\n",
              " array([0., 0., 0., 0., 0., 0., 0., 0., 0., 0., 0., 0., 0., 0., 0., 0., 0.,\n",
              "        0., 0., 0., 0., 0., 0., 0., 0., 0., 0., 0., 0., 0., 0., 0.],\n",
              "       dtype=float32)>]"
            ]
          },
          "metadata": {},
          "execution_count": 44
        }
      ]
    },
    {
      "cell_type": "code",
      "source": [
        "linear_layer.w"
      ],
      "metadata": {
        "colab": {
          "base_uri": "https://localhost:8080/"
        },
        "id": "NMsGHGnpJ1Lm",
        "outputId": "fef24c8c-129c-4ce4-f131-7b2a4a90d6d7"
      },
      "execution_count": null,
      "outputs": [
        {
          "output_type": "execute_result",
          "data": {
            "text/plain": [
              "<tf.Variable 'linear/Variable:0' shape=(2, 32) dtype=float32, numpy=\n",
              "array([[-0.02802451, -0.11503088,  0.08596772,  0.01630092,  0.03308333,\n",
              "         0.02309838, -0.03489463,  0.09537332, -0.00958161, -0.05703542,\n",
              "        -0.02887407,  0.03720806, -0.02975405,  0.1087774 , -0.03595096,\n",
              "        -0.00832356, -0.02683648,  0.0682419 ,  0.02917802, -0.0293613 ,\n",
              "        -0.0432415 ,  0.03648765,  0.09390005, -0.0143591 ,  0.00588095,\n",
              "        -0.01006384, -0.07170509, -0.03626823,  0.02329736,  0.07654756,\n",
              "        -0.0724457 , -0.11631256],\n",
              "       [ 0.06381094,  0.03781619, -0.04005982, -0.0362322 ,  0.05900881,\n",
              "         0.03103069,  0.07851138, -0.00916799, -0.04887377,  0.03581287,\n",
              "         0.04404794,  0.13533293, -0.00304413,  0.05790692,  0.05438199,\n",
              "         0.08767818,  0.06161917,  0.03519804, -0.08186295,  0.04048241,\n",
              "        -0.04130156, -0.01110759, -0.02328475, -0.09115862, -0.07860088,\n",
              "         0.06167897,  0.03036593, -0.07270885, -0.03846202,  0.07803842,\n",
              "        -0.10571458, -0.01347866]], dtype=float32)>"
            ]
          },
          "metadata": {},
          "execution_count": 45
        }
      ]
    },
    {
      "cell_type": "code",
      "source": [
        "linear_layer.b"
      ],
      "metadata": {
        "colab": {
          "base_uri": "https://localhost:8080/"
        },
        "id": "qDpPa8VfJ6dY",
        "outputId": "21917668-b811-467c-9411-ce528fc9cd6e"
      },
      "execution_count": null,
      "outputs": [
        {
          "output_type": "execute_result",
          "data": {
            "text/plain": [
              "<tf.Variable 'linear/Variable:0' shape=(32,) dtype=float32, numpy=\n",
              "array([0., 0., 0., 0., 0., 0., 0., 0., 0., 0., 0., 0., 0., 0., 0., 0., 0.,\n",
              "       0., 0., 0., 0., 0., 0., 0., 0., 0., 0., 0., 0., 0., 0., 0.],\n",
              "      dtype=float32)>"
            ]
          },
          "metadata": {},
          "execution_count": 46
        }
      ]
    },
    {
      "cell_type": "code",
      "source": [
        "# Custom Linear Layer\n",
        "x=tf.ones((2,2))\n",
        "linear_layer_custom=Linear(32)\n",
        "y=linear_layer_custom(x)\n",
        "y"
      ],
      "metadata": {
        "colab": {
          "base_uri": "https://localhost:8080/"
        },
        "id": "2Ln7pJZlJ7o3",
        "outputId": "db6f7d2f-35ad-4007-b430-a6855cba3c77"
      },
      "execution_count": null,
      "outputs": [
        {
          "output_type": "execute_result",
          "data": {
            "text/plain": [
              "<tf.Tensor: shape=(2, 32), dtype=float32, numpy=\n",
              "array([[ 0.0989393 ,  0.03243762,  0.07318448,  0.04951208,  0.1436367 ,\n",
              "         0.03686955, -0.07354813,  0.05195027, -0.0669075 ,  0.01314161,\n",
              "        -0.10360803, -0.00019049,  0.05873092, -0.04668004,  0.01476723,\n",
              "        -0.05507409,  0.04781815, -0.07161725,  0.07298827,  0.07873999,\n",
              "         0.07810424,  0.02746682,  0.06262644,  0.07368276,  0.03864618,\n",
              "         0.04355669,  0.01140934,  0.03089904,  0.00825205,  0.05738655,\n",
              "         0.1318928 , -0.00574396],\n",
              "       [ 0.0989393 ,  0.03243762,  0.07318448,  0.04951208,  0.1436367 ,\n",
              "         0.03686955, -0.07354813,  0.05195027, -0.0669075 ,  0.01314161,\n",
              "        -0.10360803, -0.00019049,  0.05873092, -0.04668004,  0.01476723,\n",
              "        -0.05507409,  0.04781815, -0.07161725,  0.07298827,  0.07873999,\n",
              "         0.07810424,  0.02746682,  0.06262644,  0.07368276,  0.03864618,\n",
              "         0.04355669,  0.01140934,  0.03089904,  0.00825205,  0.05738655,\n",
              "         0.1318928 , -0.00574396]], dtype=float32)>"
            ]
          },
          "metadata": {},
          "execution_count": 47
        }
      ]
    },
    {
      "cell_type": "code",
      "source": [
        "# Custom MLPBlock Layer\n",
        "class MLPLayer(keras.layers.Layer):\n",
        "  def __init__(self):\n",
        "    super(MLPLayer,self).__init__()\n",
        "    self.linear_1=Linear(32)\n",
        "    self.linear_2=Linear(32)\n",
        "    self.linear_3=Linear(1)\n",
        "  def call(self,inputs):\n",
        "    x=self.linear_1(inputs)\n",
        "    x=tf.nn.relu(x)\n",
        "    x=self.linear_2(x)\n",
        "    x=tf.nn.relu(x)\n",
        "    return x\n",
        "\n",
        "mlp=MLPLayer()\n",
        "y=mlp(x)\n",
        "y\n",
        "\n",
        "\n",
        "\n"
      ],
      "metadata": {
        "colab": {
          "base_uri": "https://localhost:8080/"
        },
        "id": "3exhRqJ2M16b",
        "outputId": "8559195e-7b5a-4856-d299-9c8b3fb66846"
      },
      "execution_count": null,
      "outputs": [
        {
          "output_type": "execute_result",
          "data": {
            "text/plain": [
              "<tf.Tensor: shape=(2, 32), dtype=float32, numpy=\n",
              "array([[0.0000000e+00, 6.9571482e-03, 0.0000000e+00, 1.6383886e-02,\n",
              "        3.5382626e-03, 3.4471098e-03, 0.0000000e+00, 4.0772077e-02,\n",
              "        0.0000000e+00, 0.0000000e+00, 9.4252834e-03, 5.6881905e-03,\n",
              "        0.0000000e+00, 3.5260819e-02, 1.7913878e-02, 3.4023799e-02,\n",
              "        8.4503936e-03, 1.1333692e-02, 7.9349913e-03, 0.0000000e+00,\n",
              "        0.0000000e+00, 0.0000000e+00, 0.0000000e+00, 0.0000000e+00,\n",
              "        0.0000000e+00, 5.4350230e-03, 0.0000000e+00, 9.6791657e-05,\n",
              "        1.2015645e-02, 6.6136629e-03, 0.0000000e+00, 3.4679712e-03],\n",
              "       [0.0000000e+00, 6.9571482e-03, 0.0000000e+00, 1.6383886e-02,\n",
              "        3.5382626e-03, 3.4471098e-03, 0.0000000e+00, 4.0772077e-02,\n",
              "        0.0000000e+00, 0.0000000e+00, 9.4252834e-03, 5.6881905e-03,\n",
              "        0.0000000e+00, 3.5260819e-02, 1.7913878e-02, 3.4023799e-02,\n",
              "        8.4503936e-03, 1.1333692e-02, 7.9349913e-03, 0.0000000e+00,\n",
              "        0.0000000e+00, 0.0000000e+00, 0.0000000e+00, 0.0000000e+00,\n",
              "        0.0000000e+00, 5.4350230e-03, 0.0000000e+00, 9.6791657e-05,\n",
              "        1.2015645e-02, 6.6136629e-03, 0.0000000e+00, 3.4679712e-03]],\n",
              "      dtype=float32)>"
            ]
          },
          "metadata": {},
          "execution_count": 48
        }
      ]
    },
    {
      "cell_type": "code",
      "source": [
        "# SubClassing Model\n",
        "# Customize_Mnist Data_Layer_add_loss_add_layers_getconfig... of_Model\n",
        "\n",
        "class MNISTMODEL(keras.Model):\n",
        "  def __init__(self,number_class=10):\n",
        "    super(MNISTMODEL,self).__init__()\n",
        "    self.number_class=number_class\n",
        "    self.flatten_1=keras.layers.Flatten()\n",
        "    self.dropout=keras.layers.Dropout(0.1)\n",
        "    self.dense_1=keras.layers.Dense(50,activation=\"relu\")\n",
        "    self.dense_2=keras.layers.Dense(10,activation=\"softmax\")\n",
        "\n",
        "  def call(self,inputs,training=False):\n",
        "    x=self.flatten_1(inputs)\n",
        "    x=self.dense_1(x)\n",
        "    if training:\n",
        "      x=self.dropout(x,training=training)\n",
        "    x=self.dense_2(x)\n",
        "    return x\n",
        "\n",
        "\n",
        "mnist=tf.keras.datasets.mnist\n",
        "(X_mnist_train,y_mnist_train),(X_mnist_test,y_mnist_test)=mnist.load_data()\n",
        "train_mnist_features=normalize_grayscale(X_mnist_train)\n",
        "test_mnist_features=normalize_grayscale(X_mnist_test)\n",
        "mymnistmodel=MNISTMODEL(10)\n",
        "mymnistmodel.compile(optimizer=\"SGD\",loss=\"sparse_categorical_crossentropy\",metrics=['accuracy'])\n",
        "mymnistmodel.fit(X_mnist_train,y_mnist_train,validation_data=(test_mnist_features,y_mnist_test),epochs=10)\n"
      ],
      "metadata": {
        "colab": {
          "base_uri": "https://localhost:8080/"
        },
        "id": "zo3aayShGu9f",
        "outputId": "bfe4d446-2cac-4cd0-c1ac-9b1f9e4820a4"
      },
      "execution_count": null,
      "outputs": [
        {
          "output_type": "stream",
          "name": "stdout",
          "text": [
            "Epoch 1/10\n",
            "1875/1875 [==============================] - 6s 3ms/step - loss: 47.9130 - accuracy: 0.1550 - val_loss: 2.3049 - val_accuracy: 0.1060\n",
            "Epoch 2/10\n",
            "1875/1875 [==============================] - 6s 3ms/step - loss: 2.1509 - accuracy: 0.1779 - val_loss: 2.3123 - val_accuracy: 0.1010\n",
            "Epoch 3/10\n",
            "1875/1875 [==============================] - 5s 3ms/step - loss: 2.1622 - accuracy: 0.1774 - val_loss: 2.3188 - val_accuracy: 0.1029\n",
            "Epoch 4/10\n",
            "1875/1875 [==============================] - 6s 3ms/step - loss: 2.2139 - accuracy: 0.1512 - val_loss: 2.3051 - val_accuracy: 0.1032\n",
            "Epoch 5/10\n",
            "1875/1875 [==============================] - 5s 3ms/step - loss: 2.2594 - accuracy: 0.1446 - val_loss: 2.3009 - val_accuracy: 0.1161\n",
            "Epoch 6/10\n",
            "1875/1875 [==============================] - 5s 3ms/step - loss: 2.2280 - accuracy: 0.1574 - val_loss: 2.3093 - val_accuracy: 0.1135\n",
            "Epoch 7/10\n",
            "1875/1875 [==============================] - 6s 3ms/step - loss: 2.2493 - accuracy: 0.1408 - val_loss: 2.3063 - val_accuracy: 0.1135\n",
            "Epoch 8/10\n",
            "1875/1875 [==============================] - 5s 3ms/step - loss: 2.2018 - accuracy: 0.1584 - val_loss: 2.3122 - val_accuracy: 0.1135\n",
            "Epoch 9/10\n",
            "1875/1875 [==============================] - 6s 3ms/step - loss: 2.2111 - accuracy: 0.1593 - val_loss: 2.3120 - val_accuracy: 0.1135\n",
            "Epoch 10/10\n",
            "1875/1875 [==============================] - 5s 3ms/step - loss: 2.2578 - accuracy: 0.1598 - val_loss: 2.3138 - val_accuracy: 0.1135\n"
          ]
        },
        {
          "output_type": "execute_result",
          "data": {
            "text/plain": [
              "<keras.src.callbacks.History at 0x7df2ca433280>"
            ]
          },
          "metadata": {},
          "execution_count": 55
        }
      ]
    },
    {
      "cell_type": "markdown",
      "source": [
        "### KERAS PREPROCESSING"
      ],
      "metadata": {
        "id": "qbjpATZoOiap"
      }
    },
    {
      "cell_type": "code",
      "source": [
        "# IMAGE,SEQUENCE,TEXT,...\n",
        "# TIME series Data: Stock Exchange History(5 days ago -> predict price Bid/Ask on next week,...)\n",
        "import numpy as np\n",
        "stock_price_history=np.array([i for i in range(100)])\n",
        "stock_price_history"
      ],
      "metadata": {
        "id": "mtgobFG-OnPI",
        "outputId": "2fa741d9-c9f3-474b-f0af-7d506c3e2aed",
        "colab": {
          "base_uri": "https://localhost:8080/"
        }
      },
      "execution_count": 24,
      "outputs": [
        {
          "output_type": "execute_result",
          "data": {
            "text/plain": [
              "array([ 0,  1,  2,  3,  4,  5,  6,  7,  8,  9, 10, 11, 12, 13, 14, 15, 16,\n",
              "       17, 18, 19, 20, 21, 22, 23, 24, 25, 26, 27, 28, 29, 30, 31, 32, 33,\n",
              "       34, 35, 36, 37, 38, 39, 40, 41, 42, 43, 44, 45, 46, 47, 48, 49, 50,\n",
              "       51, 52, 53, 54, 55, 56, 57, 58, 59, 60, 61, 62, 63, 64, 65, 66, 67,\n",
              "       68, 69, 70, 71, 72, 73, 74, 75, 76, 77, 78, 79, 80, 81, 82, 83, 84,\n",
              "       85, 86, 87, 88, 89, 90, 91, 92, 93, 94, 95, 96, 97, 98, 99])"
            ]
          },
          "metadata": {},
          "execution_count": 24
        }
      ]
    },
    {
      "cell_type": "code",
      "source": [
        "from keras.preprocessing.sequence import TimeseriesGenerator\n",
        "from keras.preprocessing.text import one_hot\n"
      ],
      "metadata": {
        "id": "tkbGgS0wPR-w"
      },
      "execution_count": 22,
      "outputs": []
    },
    {
      "cell_type": "code",
      "source": [
        "data_gen=TimeseriesGenerator(stock_price_history,targets=stock_price_history,length=2,shuffle=False,reverse=False,batch_size=5)\n",
        "data_gen"
      ],
      "metadata": {
        "id": "IOO1AE5kRERr",
        "outputId": "504f8ede-8d4d-407c-b046-5ec338463674",
        "colab": {
          "base_uri": "https://localhost:8080/"
        }
      },
      "execution_count": 30,
      "outputs": [
        {
          "output_type": "execute_result",
          "data": {
            "text/plain": [
              "<keras.src.preprocessing.sequence.TimeseriesGenerator at 0x7e587d7fe320>"
            ]
          },
          "metadata": {},
          "execution_count": 30
        }
      ]
    },
    {
      "cell_type": "code",
      "source": [
        "print(f'length:',len(data_gen))"
      ],
      "metadata": {
        "colab": {
          "base_uri": "https://localhost:8080/"
        },
        "id": "sjzW5_QIME9Y",
        "outputId": "a944c959-45a9-4049-adc2-9b1254c893be"
      },
      "execution_count": 31,
      "outputs": [
        {
          "output_type": "stream",
          "name": "stdout",
          "text": [
            "length: 20\n"
          ]
        }
      ]
    },
    {
      "cell_type": "code",
      "source": [
        "for i in range(len(data_gen)):\n",
        "  x,y=data_gen[i]\n",
        "  print(\"x: \",x)\n",
        "  print(\"y: \",y)"
      ],
      "metadata": {
        "colab": {
          "base_uri": "https://localhost:8080/"
        },
        "id": "nnMJlrTeNM_i",
        "outputId": "dbc47117-60a3-4f51-bc69-eecbe23cb2ff"
      },
      "execution_count": 32,
      "outputs": [
        {
          "output_type": "stream",
          "name": "stdout",
          "text": [
            "x:  [[0 1]\n",
            " [1 2]\n",
            " [2 3]\n",
            " [3 4]\n",
            " [4 5]]\n",
            "y:  [2 3 4 5 6]\n",
            "x:  [[ 5  6]\n",
            " [ 6  7]\n",
            " [ 7  8]\n",
            " [ 8  9]\n",
            " [ 9 10]]\n",
            "y:  [ 7  8  9 10 11]\n",
            "x:  [[10 11]\n",
            " [11 12]\n",
            " [12 13]\n",
            " [13 14]\n",
            " [14 15]]\n",
            "y:  [12 13 14 15 16]\n",
            "x:  [[15 16]\n",
            " [16 17]\n",
            " [17 18]\n",
            " [18 19]\n",
            " [19 20]]\n",
            "y:  [17 18 19 20 21]\n",
            "x:  [[20 21]\n",
            " [21 22]\n",
            " [22 23]\n",
            " [23 24]\n",
            " [24 25]]\n",
            "y:  [22 23 24 25 26]\n",
            "x:  [[25 26]\n",
            " [26 27]\n",
            " [27 28]\n",
            " [28 29]\n",
            " [29 30]]\n",
            "y:  [27 28 29 30 31]\n",
            "x:  [[30 31]\n",
            " [31 32]\n",
            " [32 33]\n",
            " [33 34]\n",
            " [34 35]]\n",
            "y:  [32 33 34 35 36]\n",
            "x:  [[35 36]\n",
            " [36 37]\n",
            " [37 38]\n",
            " [38 39]\n",
            " [39 40]]\n",
            "y:  [37 38 39 40 41]\n",
            "x:  [[40 41]\n",
            " [41 42]\n",
            " [42 43]\n",
            " [43 44]\n",
            " [44 45]]\n",
            "y:  [42 43 44 45 46]\n",
            "x:  [[45 46]\n",
            " [46 47]\n",
            " [47 48]\n",
            " [48 49]\n",
            " [49 50]]\n",
            "y:  [47 48 49 50 51]\n",
            "x:  [[50 51]\n",
            " [51 52]\n",
            " [52 53]\n",
            " [53 54]\n",
            " [54 55]]\n",
            "y:  [52 53 54 55 56]\n",
            "x:  [[55 56]\n",
            " [56 57]\n",
            " [57 58]\n",
            " [58 59]\n",
            " [59 60]]\n",
            "y:  [57 58 59 60 61]\n",
            "x:  [[60 61]\n",
            " [61 62]\n",
            " [62 63]\n",
            " [63 64]\n",
            " [64 65]]\n",
            "y:  [62 63 64 65 66]\n",
            "x:  [[65 66]\n",
            " [66 67]\n",
            " [67 68]\n",
            " [68 69]\n",
            " [69 70]]\n",
            "y:  [67 68 69 70 71]\n",
            "x:  [[70 71]\n",
            " [71 72]\n",
            " [72 73]\n",
            " [73 74]\n",
            " [74 75]]\n",
            "y:  [72 73 74 75 76]\n",
            "x:  [[75 76]\n",
            " [76 77]\n",
            " [77 78]\n",
            " [78 79]\n",
            " [79 80]]\n",
            "y:  [77 78 79 80 81]\n",
            "x:  [[80 81]\n",
            " [81 82]\n",
            " [82 83]\n",
            " [83 84]\n",
            " [84 85]]\n",
            "y:  [82 83 84 85 86]\n",
            "x:  [[85 86]\n",
            " [86 87]\n",
            " [87 88]\n",
            " [88 89]\n",
            " [89 90]]\n",
            "y:  [87 88 89 90 91]\n",
            "x:  [[90 91]\n",
            " [91 92]\n",
            " [92 93]\n",
            " [93 94]\n",
            " [94 95]]\n",
            "y:  [92 93 94 95 96]\n",
            "x:  [[95 96]\n",
            " [96 97]\n",
            " [97 98]]\n",
            "y:  [97 98 99]\n"
          ]
        }
      ]
    },
    {
      "cell_type": "code",
      "source": [
        "model=keras.Sequential()\n",
        "model.add(keras.layers.Dense(10,activation=\"relu\",input_dim=2)) #input_dim=2=length=2(x)\n",
        "model.add(keras.layers.Dense(1))\n",
        "model.compile(optimizer=\"adam\",loss=\"mse\")\n",
        "model.fit(data_gen,epochs=100)"
      ],
      "metadata": {
        "colab": {
          "base_uri": "https://localhost:8080/"
        },
        "id": "CW0DDphCOSqn",
        "outputId": "8ef5799e-86e3-4df7-8e61-65b31d969be1"
      },
      "execution_count": 38,
      "outputs": [
        {
          "output_type": "stream",
          "name": "stdout",
          "text": [
            "Epoch 1/100\n",
            "20/20 [==============================] - 1s 3ms/step - loss: 7587.2896\n",
            "Epoch 2/100\n",
            "20/20 [==============================] - 0s 3ms/step - loss: 6499.6743\n",
            "Epoch 3/100\n",
            "20/20 [==============================] - 0s 3ms/step - loss: 5512.5757\n",
            "Epoch 4/100\n",
            "20/20 [==============================] - 0s 3ms/step - loss: 4614.1274\n",
            "Epoch 5/100\n",
            "20/20 [==============================] - 0s 3ms/step - loss: 3885.8762\n",
            "Epoch 6/100\n",
            "20/20 [==============================] - 0s 3ms/step - loss: 3258.3389\n",
            "Epoch 7/100\n",
            "20/20 [==============================] - 0s 3ms/step - loss: 2682.8660\n",
            "Epoch 8/100\n",
            "20/20 [==============================] - 0s 3ms/step - loss: 2202.0688\n",
            "Epoch 9/100\n",
            "20/20 [==============================] - 0s 3ms/step - loss: 1787.0601\n",
            "Epoch 10/100\n",
            "20/20 [==============================] - 0s 3ms/step - loss: 1439.9552\n",
            "Epoch 11/100\n",
            "20/20 [==============================] - 0s 3ms/step - loss: 1124.8167\n",
            "Epoch 12/100\n",
            "20/20 [==============================] - 0s 3ms/step - loss: 910.7032\n",
            "Epoch 13/100\n",
            "20/20 [==============================] - 0s 3ms/step - loss: 690.0419\n",
            "Epoch 14/100\n",
            "20/20 [==============================] - 0s 3ms/step - loss: 528.3632\n",
            "Epoch 15/100\n",
            "20/20 [==============================] - 0s 3ms/step - loss: 404.1263\n",
            "Epoch 16/100\n",
            "20/20 [==============================] - 0s 3ms/step - loss: 297.8474\n",
            "Epoch 17/100\n",
            "20/20 [==============================] - 0s 3ms/step - loss: 222.0773\n",
            "Epoch 18/100\n",
            "20/20 [==============================] - 0s 3ms/step - loss: 157.8005\n",
            "Epoch 19/100\n",
            "20/20 [==============================] - 0s 3ms/step - loss: 110.6126\n",
            "Epoch 20/100\n",
            "20/20 [==============================] - 0s 3ms/step - loss: 77.7774\n",
            "Epoch 21/100\n",
            "20/20 [==============================] - 0s 3ms/step - loss: 54.4895\n",
            "Epoch 22/100\n",
            "20/20 [==============================] - 0s 3ms/step - loss: 36.7169\n",
            "Epoch 23/100\n",
            "20/20 [==============================] - 0s 3ms/step - loss: 23.8938\n",
            "Epoch 24/100\n",
            "20/20 [==============================] - 0s 3ms/step - loss: 15.3226\n",
            "Epoch 25/100\n",
            "20/20 [==============================] - 0s 3ms/step - loss: 10.2532\n",
            "Epoch 26/100\n",
            "20/20 [==============================] - 0s 3ms/step - loss: 6.4443\n",
            "Epoch 27/100\n",
            "20/20 [==============================] - 0s 3ms/step - loss: 4.2028\n",
            "Epoch 28/100\n",
            "20/20 [==============================] - 0s 3ms/step - loss: 2.6053\n",
            "Epoch 29/100\n",
            "20/20 [==============================] - 0s 3ms/step - loss: 1.6919\n",
            "Epoch 30/100\n",
            "20/20 [==============================] - 0s 3ms/step - loss: 1.0989\n",
            "Epoch 31/100\n",
            "20/20 [==============================] - 0s 3ms/step - loss: 0.7507\n",
            "Epoch 32/100\n",
            "20/20 [==============================] - 0s 3ms/step - loss: 0.5203\n",
            "Epoch 33/100\n",
            "20/20 [==============================] - 0s 3ms/step - loss: 0.3980\n",
            "Epoch 34/100\n",
            "20/20 [==============================] - 0s 3ms/step - loss: 0.3252\n",
            "Epoch 35/100\n",
            "20/20 [==============================] - 0s 5ms/step - loss: 0.2827\n",
            "Epoch 36/100\n",
            "20/20 [==============================] - 0s 5ms/step - loss: 0.2599\n",
            "Epoch 37/100\n",
            "20/20 [==============================] - 0s 4ms/step - loss: 0.2441\n",
            "Epoch 38/100\n",
            "20/20 [==============================] - 0s 4ms/step - loss: 0.2364\n",
            "Epoch 39/100\n",
            "20/20 [==============================] - 0s 4ms/step - loss: 0.2321\n",
            "Epoch 40/100\n",
            "20/20 [==============================] - 0s 5ms/step - loss: 0.2292\n",
            "Epoch 41/100\n",
            "20/20 [==============================] - 0s 4ms/step - loss: 0.2277\n",
            "Epoch 42/100\n",
            "20/20 [==============================] - 0s 4ms/step - loss: 0.2264\n",
            "Epoch 43/100\n",
            "20/20 [==============================] - 0s 4ms/step - loss: 0.2260\n",
            "Epoch 44/100\n",
            "20/20 [==============================] - 0s 5ms/step - loss: 0.2252\n",
            "Epoch 45/100\n",
            "20/20 [==============================] - 0s 5ms/step - loss: 0.2246\n",
            "Epoch 46/100\n",
            "20/20 [==============================] - 0s 5ms/step - loss: 0.2242\n",
            "Epoch 47/100\n",
            "20/20 [==============================] - 0s 5ms/step - loss: 0.2239\n",
            "Epoch 48/100\n",
            "20/20 [==============================] - 0s 4ms/step - loss: 0.2232\n",
            "Epoch 49/100\n",
            "20/20 [==============================] - 0s 5ms/step - loss: 0.2229\n",
            "Epoch 50/100\n",
            "20/20 [==============================] - 0s 4ms/step - loss: 0.2226\n",
            "Epoch 51/100\n",
            "20/20 [==============================] - 0s 4ms/step - loss: 0.2222\n",
            "Epoch 52/100\n",
            "20/20 [==============================] - 0s 5ms/step - loss: 0.2218\n",
            "Epoch 53/100\n",
            "20/20 [==============================] - 0s 4ms/step - loss: 0.2217\n",
            "Epoch 54/100\n",
            "20/20 [==============================] - 0s 5ms/step - loss: 0.2209\n",
            "Epoch 55/100\n",
            "20/20 [==============================] - 0s 5ms/step - loss: 0.2203\n",
            "Epoch 56/100\n",
            "20/20 [==============================] - 0s 4ms/step - loss: 0.2200\n",
            "Epoch 57/100\n",
            "20/20 [==============================] - 0s 4ms/step - loss: 0.2197\n",
            "Epoch 58/100\n",
            "20/20 [==============================] - 0s 3ms/step - loss: 0.2197\n",
            "Epoch 59/100\n",
            "20/20 [==============================] - 0s 3ms/step - loss: 0.2192\n",
            "Epoch 60/100\n",
            "20/20 [==============================] - 0s 3ms/step - loss: 0.2189\n",
            "Epoch 61/100\n",
            "20/20 [==============================] - 0s 3ms/step - loss: 0.2180\n",
            "Epoch 62/100\n",
            "20/20 [==============================] - 0s 3ms/step - loss: 0.2176\n",
            "Epoch 63/100\n",
            "20/20 [==============================] - 0s 3ms/step - loss: 0.2189\n",
            "Epoch 64/100\n",
            "20/20 [==============================] - 0s 3ms/step - loss: 0.2167\n",
            "Epoch 65/100\n",
            "20/20 [==============================] - 0s 3ms/step - loss: 0.2162\n",
            "Epoch 66/100\n",
            "20/20 [==============================] - 0s 3ms/step - loss: 0.2173\n",
            "Epoch 67/100\n",
            "20/20 [==============================] - 0s 3ms/step - loss: 0.2157\n",
            "Epoch 68/100\n",
            "20/20 [==============================] - 0s 3ms/step - loss: 0.2153\n",
            "Epoch 69/100\n",
            "20/20 [==============================] - 0s 3ms/step - loss: 0.2146\n",
            "Epoch 70/100\n",
            "20/20 [==============================] - 0s 3ms/step - loss: 0.2157\n",
            "Epoch 71/100\n",
            "20/20 [==============================] - 0s 3ms/step - loss: 0.2137\n",
            "Epoch 72/100\n",
            "20/20 [==============================] - 0s 3ms/step - loss: 0.2138\n",
            "Epoch 73/100\n",
            "20/20 [==============================] - 0s 3ms/step - loss: 0.2137\n",
            "Epoch 74/100\n",
            "20/20 [==============================] - 0s 3ms/step - loss: 0.2144\n",
            "Epoch 75/100\n",
            "20/20 [==============================] - 0s 3ms/step - loss: 0.2113\n",
            "Epoch 76/100\n",
            "20/20 [==============================] - 0s 3ms/step - loss: 0.2117\n",
            "Epoch 77/100\n",
            "20/20 [==============================] - 0s 3ms/step - loss: 0.2121\n",
            "Epoch 78/100\n",
            "20/20 [==============================] - 0s 3ms/step - loss: 0.2105\n",
            "Epoch 79/100\n",
            "20/20 [==============================] - 0s 3ms/step - loss: 0.2108\n",
            "Epoch 80/100\n",
            "20/20 [==============================] - 0s 3ms/step - loss: 0.2094\n",
            "Epoch 81/100\n",
            "20/20 [==============================] - 0s 3ms/step - loss: 0.2097\n",
            "Epoch 82/100\n",
            "20/20 [==============================] - 0s 3ms/step - loss: 0.2083\n",
            "Epoch 83/100\n",
            "20/20 [==============================] - 0s 3ms/step - loss: 0.2076\n",
            "Epoch 84/100\n",
            "20/20 [==============================] - 0s 4ms/step - loss: 0.2076\n",
            "Epoch 85/100\n",
            "20/20 [==============================] - 0s 3ms/step - loss: 0.2062\n",
            "Epoch 86/100\n",
            "20/20 [==============================] - 0s 3ms/step - loss: 0.2062\n",
            "Epoch 87/100\n",
            "20/20 [==============================] - 0s 4ms/step - loss: 0.2061\n",
            "Epoch 88/100\n",
            "20/20 [==============================] - 0s 3ms/step - loss: 0.2052\n",
            "Epoch 89/100\n",
            "20/20 [==============================] - 0s 3ms/step - loss: 0.2047\n",
            "Epoch 90/100\n",
            "20/20 [==============================] - 0s 3ms/step - loss: 0.2038\n",
            "Epoch 91/100\n",
            "20/20 [==============================] - 0s 3ms/step - loss: 0.2044\n",
            "Epoch 92/100\n",
            "20/20 [==============================] - 0s 3ms/step - loss: 0.2040\n",
            "Epoch 93/100\n",
            "20/20 [==============================] - 0s 3ms/step - loss: 0.2026\n",
            "Epoch 94/100\n",
            "20/20 [==============================] - 0s 4ms/step - loss: 0.2016\n",
            "Epoch 95/100\n",
            "20/20 [==============================] - 0s 3ms/step - loss: 0.2010\n",
            "Epoch 96/100\n",
            "20/20 [==============================] - 0s 3ms/step - loss: 0.2019\n",
            "Epoch 97/100\n",
            "20/20 [==============================] - 0s 3ms/step - loss: 0.1999\n",
            "Epoch 98/100\n",
            "20/20 [==============================] - 0s 3ms/step - loss: 0.2001\n",
            "Epoch 99/100\n",
            "20/20 [==============================] - 0s 3ms/step - loss: 0.1988\n",
            "Epoch 100/100\n",
            "20/20 [==============================] - 0s 3ms/step - loss: 0.2007\n"
          ]
        },
        {
          "output_type": "execute_result",
          "data": {
            "text/plain": [
              "<keras.src.callbacks.History at 0x7e5867f5d570>"
            ]
          },
          "metadata": {},
          "execution_count": 38
        }
      ]
    },
    {
      "cell_type": "code",
      "source": [
        "#Padding\n",
        "sentences=[[\"I\",\"like\",\"book\"],[\"I\",\"go\",\"to\",\"school\"]]\n",
        "text_sel=set(np.concatenate(sentences))"
      ],
      "metadata": {
        "id": "FOYnnyu5Qxe_"
      },
      "execution_count": 39,
      "outputs": []
    },
    {
      "cell_type": "code",
      "source": [
        "text_sel"
      ],
      "metadata": {
        "colab": {
          "base_uri": "https://localhost:8080/"
        },
        "id": "eVhQNCACRLan",
        "outputId": "618e1e5a-2ae1-45fd-b6b2-3f0b868609ab"
      },
      "execution_count": 40,
      "outputs": [
        {
          "output_type": "execute_result",
          "data": {
            "text/plain": [
              "{'I', 'book', 'go', 'like', 'school', 'to'}"
            ]
          },
          "metadata": {},
          "execution_count": 40
        }
      ]
    },
    {
      "cell_type": "code",
      "source": [
        "import tensorflow as tf\n",
        "# LINEAR REGRESSION\n",
        "\n",
        "# PARAMETERs\n",
        "learning_rate=0.01\n",
        "training_step=1000\n",
        "display_step=50\n",
        "\n",
        "# Training Data\n",
        "x=np.array([3.0,5.0,6.0,10.2,14.5])\n",
        "y=np.array([6.0,10.0,13.0,98.2,114.5])\n",
        "\n",
        "# Linear Regression: y=w*x+b\n",
        "# Initialize weight and bias\n",
        "W= tf.Variable(np.random.randn(),name=\"weight\")\n",
        "b= tf.Variable(np.random.randn(),name=\"bias\")\n",
        "W"
      ],
      "metadata": {
        "colab": {
          "base_uri": "https://localhost:8080/"
        },
        "id": "PwE4V190ROCR",
        "outputId": "31861507-c33e-4dc9-faeb-661a8c25ebbc"
      },
      "execution_count": 44,
      "outputs": [
        {
          "output_type": "execute_result",
          "data": {
            "text/plain": [
              "<tf.Variable 'weight:0' shape=() dtype=float32, numpy=-0.54495764>"
            ]
          },
          "metadata": {},
          "execution_count": 44
        }
      ]
    },
    {
      "cell_type": "code",
      "source": [
        "b"
      ],
      "metadata": {
        "id": "BCQoR0Q3TkOq",
        "outputId": "d43493b5-5948-43b6-a170-12e1ba035610",
        "colab": {
          "base_uri": "https://localhost:8080/"
        }
      },
      "execution_count": 45,
      "outputs": [
        {
          "output_type": "execute_result",
          "data": {
            "text/plain": [
              "<tf.Variable 'bias:0' shape=() dtype=float32, numpy=0.061033066>"
            ]
          },
          "metadata": {},
          "execution_count": 45
        }
      ]
    },
    {
      "cell_type": "code",
      "source": [],
      "metadata": {
        "id": "AFSbswTQTloX"
      },
      "execution_count": null,
      "outputs": []
    }
  ]
}