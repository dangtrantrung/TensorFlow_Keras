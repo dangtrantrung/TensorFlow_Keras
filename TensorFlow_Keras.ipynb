{
  "nbformat": 4,
  "nbformat_minor": 0,
  "metadata": {
    "colab": {
      "provenance": [],
      "gpuType": "T4",
      "authorship_tag": "ABX9TyNcUIeO1ECXP4ev3nVWUR+x",
      "include_colab_link": true
    },
    "kernelspec": {
      "name": "python3",
      "display_name": "Python 3"
    },
    "language_info": {
      "name": "python"
    },
    "accelerator": "GPU"
  },
  "cells": [
    {
      "cell_type": "markdown",
      "metadata": {
        "id": "view-in-github",
        "colab_type": "text"
      },
      "source": [
        "<a href=\"https://colab.research.google.com/github/dangtrantrung/TensorFlow_Keras/blob/master/TensorFlow_Keras.ipynb\" target=\"_parent\"><img src=\"https://colab.research.google.com/assets/colab-badge.svg\" alt=\"Open In Colab\"/></a>"
      ]
    },
    {
      "cell_type": "code",
      "execution_count": null,
      "metadata": {
        "colab": {
          "base_uri": "https://localhost:8080/"
        },
        "id": "XsrgDPEzh8i6",
        "outputId": "bcb9709b-9b06-4c22-bb06-6d579ce72db6"
      },
      "outputs": [
        {
          "output_type": "stream",
          "name": "stdout",
          "text": [
            "2.15.0\n"
          ]
        }
      ],
      "source": [
        "import keras\n",
        "print(keras.__version__)"
      ]
    },
    {
      "cell_type": "code",
      "source": [
        "import tensorflow\n",
        "from tensorflow import keras\n",
        "print(keras)"
      ],
      "metadata": {
        "colab": {
          "base_uri": "https://localhost:8080/"
        },
        "id": "FNVOBq46ikr-",
        "outputId": "5e617899-38f8-479f-bdd7-e54facaf4f9f"
      },
      "execution_count": null,
      "outputs": [
        {
          "output_type": "stream",
          "name": "stdout",
          "text": [
            "<KerasLazyLoader>\n"
          ]
        }
      ]
    },
    {
      "cell_type": "code",
      "source": [
        "import tensorflow  as tf\n",
        "# Conv2D\n",
        "input_shape=(4,30,30,3)\n",
        "x=tf.random.normal(input_shape)\n",
        "y=tf.keras.layers.Conv2D(2,3,activation='relu',input_shape=input_shape[1:])(x)\n",
        "print(y.shape)\n"
      ],
      "metadata": {
        "colab": {
          "base_uri": "https://localhost:8080/"
        },
        "id": "JjoZRPYYo_BE",
        "outputId": "37e6c317-f546-4762-86b8-a5f8b455c268"
      },
      "execution_count": null,
      "outputs": [
        {
          "output_type": "stream",
          "name": "stdout",
          "text": [
            "(4, 28, 28, 2)\n"
          ]
        }
      ]
    },
    {
      "cell_type": "code",
      "source": [
        "# CNN model\n",
        "inputs=keras.layers.Input(shape=[32,32,3])\n",
        "x=keras.layers.Conv2D(filters=32,kernel_size=3,padding='same',activation='relu')(inputs)\n",
        "x=keras.layers.Conv2D(filters=32,kernel_size=3,padding='same',activation='relu')(x)\n",
        "predictions=keras.layers.MaxPool2D(pool_size=2)(x)\n",
        "\n",
        "model=keras.Model(inputs=inputs,outputs=predictions)\n"
      ],
      "metadata": {
        "id": "tpyz82HOm4vm"
      },
      "execution_count": null,
      "outputs": []
    },
    {
      "cell_type": "code",
      "source": [
        "model.summary()"
      ],
      "metadata": {
        "colab": {
          "base_uri": "https://localhost:8080/"
        },
        "id": "8goMV6werhTZ",
        "outputId": "0fce7e60-c0d0-4085-ac01-fed243d891aa"
      },
      "execution_count": null,
      "outputs": [
        {
          "output_type": "stream",
          "name": "stdout",
          "text": [
            "Model: \"model\"\n",
            "_________________________________________________________________\n",
            " Layer (type)                Output Shape              Param #   \n",
            "=================================================================\n",
            " input_1 (InputLayer)        [(None, 32, 32, 3)]       0         \n",
            "                                                                 \n",
            " conv2d_1 (Conv2D)           (None, 32, 32, 32)        896       \n",
            "                                                                 \n",
            " conv2d_2 (Conv2D)           (None, 32, 32, 32)        9248      \n",
            "                                                                 \n",
            " max_pooling2d (MaxPooling2  (None, 16, 16, 32)        0         \n",
            " D)                                                              \n",
            "                                                                 \n",
            "=================================================================\n",
            "Total params: 10144 (39.62 KB)\n",
            "Trainable params: 10144 (39.62 KB)\n",
            "Non-trainable params: 0 (0.00 Byte)\n",
            "_________________________________________________________________\n"
          ]
        }
      ]
    },
    {
      "cell_type": "code",
      "source": [
        "predictions.shape"
      ],
      "metadata": {
        "colab": {
          "base_uri": "https://localhost:8080/"
        },
        "id": "CHC3j5yMrrW5",
        "outputId": "57df66b5-faa7-4151-a9ed-5dec07138b46"
      },
      "execution_count": null,
      "outputs": [
        {
          "output_type": "execute_result",
          "data": {
            "text/plain": [
              "TensorShape([None, 16, 16, 32])"
            ]
          },
          "metadata": {},
          "execution_count": 6
        }
      ]
    },
    {
      "cell_type": "code",
      "source": [
        "inputs.shape"
      ],
      "metadata": {
        "colab": {
          "base_uri": "https://localhost:8080/"
        },
        "id": "sQamEZJ3r1Ig",
        "outputId": "aea6c370-3b09-4292-e1ce-04ae3b0e2140"
      },
      "execution_count": null,
      "outputs": [
        {
          "output_type": "execute_result",
          "data": {
            "text/plain": [
              "TensorShape([None, 32, 32, 3])"
            ]
          },
          "metadata": {},
          "execution_count": 7
        }
      ]
    },
    {
      "cell_type": "code",
      "source": [
        "keras.utils.plot_model(model,'model.png',show_shapes=True)"
      ],
      "metadata": {
        "colab": {
          "base_uri": "https://localhost:8080/",
          "height": 422
        },
        "id": "OR4yv4tDsJO8",
        "outputId": "662a0ad0-fe6a-4b6b-b9e7-a5a47accf09a"
      },
      "execution_count": null,
      "outputs": [
        {
          "output_type": "execute_result",
          "data": {
            "image/png": "[encoded data removed]",
            "text/plain": [
              "<IPython.core.display.Image object>"
            ]
          },
          "metadata": {},
          "execution_count": 8
        }
      ]
    },
    {
      "cell_type": "code",
      "source": [
        "# Model Sequential\n",
        "model_v1=tf.keras.Sequential([\n",
        "    keras.layers.Dense(1024,input_dim=64),\n",
        "    keras.layers.Activation('relu'),\n",
        "    keras.layers.Dense(256),\n",
        "    keras.layers.Activation('softmax')]\n",
        ")"
      ],
      "metadata": {
        "id": "qWZGnhqIsLIk"
      },
      "execution_count": null,
      "outputs": []
    },
    {
      "cell_type": "code",
      "source": [
        "model_v1.summary()"
      ],
      "metadata": {
        "colab": {
          "base_uri": "https://localhost:8080/"
        },
        "id": "oeXrMuVZwguw",
        "outputId": "5087ceb1-938f-46d2-f797-234ceb352291"
      },
      "execution_count": null,
      "outputs": [
        {
          "output_type": "stream",
          "name": "stdout",
          "text": [
            "Model: \"sequential\"\n",
            "_________________________________________________________________\n",
            " Layer (type)                Output Shape              Param #   \n",
            "=================================================================\n",
            " dense (Dense)               (None, 1024)              66560     \n",
            "                                                                 \n",
            " activation (Activation)     (None, 1024)              0         \n",
            "                                                                 \n",
            " dense_1 (Dense)             (None, 256)               262400    \n",
            "                                                                 \n",
            " activation_1 (Activation)   (None, 256)               0         \n",
            "                                                                 \n",
            "=================================================================\n",
            "Total params: 328960 (1.25 MB)\n",
            "Trainable params: 328960 (1.25 MB)\n",
            "Non-trainable params: 0 (0.00 Byte)\n",
            "_________________________________________________________________\n"
          ]
        }
      ]
    },
    {
      "cell_type": "code",
      "source": [
        "model_v1.inputs"
      ],
      "metadata": {
        "colab": {
          "base_uri": "https://localhost:8080/"
        },
        "id": "vdPdcXcgwpX3",
        "outputId": "f79ba772-ec88-46dc-c079-2586e997a5c4"
      },
      "execution_count": null,
      "outputs": [
        {
          "output_type": "execute_result",
          "data": {
            "text/plain": [
              "[<KerasTensor: shape=(None, 64) dtype=float32 (created by layer 'dense_input')>]"
            ]
          },
          "metadata": {},
          "execution_count": 11
        }
      ]
    },
    {
      "cell_type": "code",
      "source": [
        "model_v1.outputs"
      ],
      "metadata": {
        "colab": {
          "base_uri": "https://localhost:8080/"
        },
        "id": "ciwl7JGHw2h0",
        "outputId": "3232be6a-5b40-4795-e72a-d6191c58511d"
      },
      "execution_count": null,
      "outputs": [
        {
          "output_type": "execute_result",
          "data": {
            "text/plain": [
              "[<KerasTensor: shape=(None, 256) dtype=float32 (created by layer 'activation_1')>]"
            ]
          },
          "metadata": {},
          "execution_count": 12
        }
      ]
    },
    {
      "cell_type": "code",
      "source": [
        "model_v2=tf.keras.Sequential()\n",
        "model_v2.add( keras.layers.Dense(1024,input_dim=64))\n",
        "model_v2.add( keras.layers.Activation('relu'))\n",
        "model_v2.add(keras.layers.Dense(256,activation='softmax',kernel_initializer='random_normal'))\n",
        "model_v2.add(keras.layers.Dense(10,activation='softmax',kernel_initializer='random_normal'))\n",
        "\n",
        "model_v2.summary()"
      ],
      "metadata": {
        "colab": {
          "base_uri": "https://localhost:8080/"
        },
        "id": "roxfLhO9w6n9",
        "outputId": "9b57aad4-0285-44ab-e7ec-e68674b34848"
      },
      "execution_count": null,
      "outputs": [
        {
          "output_type": "stream",
          "name": "stdout",
          "text": [
            "Model: \"sequential_1\"\n",
            "_________________________________________________________________\n",
            " Layer (type)                Output Shape              Param #   \n",
            "=================================================================\n",
            " dense_2 (Dense)             (None, 1024)              66560     \n",
            "                                                                 \n",
            " activation_2 (Activation)   (None, 1024)              0         \n",
            "                                                                 \n",
            " dense_3 (Dense)             (None, 256)               262400    \n",
            "                                                                 \n",
            " dense_4 (Dense)             (None, 10)                2570      \n",
            "                                                                 \n",
            "=================================================================\n",
            "Total params: 331530 (1.26 MB)\n",
            "Trainable params: 331530 (1.26 MB)\n",
            "Non-trainable params: 0 (0.00 Byte)\n",
            "_________________________________________________________________\n"
          ]
        }
      ]
    },
    {
      "cell_type": "code",
      "source": [
        "model_v2.compile(optimizer='SGD',loss='categorical_crossentropy', metrics=['accuracy'])"
      ],
      "metadata": {
        "id": "O2XJoYjMzmCv"
      },
      "execution_count": null,
      "outputs": []
    },
    {
      "cell_type": "code",
      "source": [
        "import numpy as np"
      ],
      "metadata": {
        "id": "_0n6eWP54HI3"
      },
      "execution_count": null,
      "outputs": []
    },
    {
      "cell_type": "code",
      "source": [
        "# Sample Data\n",
        "\n",
        "data=np.random.random((2000,64))\n",
        "label=np.random.random((2000,10))\n",
        "\n",
        "valid_data=np.random.random((500,64))\n",
        "valid_label=np.random.random((500,10))\n",
        "\n",
        "test_data=np.random.random((500,64))\n",
        "test_label=np.random.random((500,10))\n"
      ],
      "metadata": {
        "id": "zCp2YynXz4Bb"
      },
      "execution_count": null,
      "outputs": []
    },
    {
      "cell_type": "code",
      "source": [
        "data.shape, type(model_v2)"
      ],
      "metadata": {
        "colab": {
          "base_uri": "https://localhost:8080/"
        },
        "id": "aMdMlDjo1Qx5",
        "outputId": "7df623ce-5fa1-4f42-f710-41503dadfdf0"
      },
      "execution_count": null,
      "outputs": [
        {
          "output_type": "execute_result",
          "data": {
            "text/plain": [
              "((2000, 64), keras.src.engine.sequential.Sequential)"
            ]
          },
          "metadata": {},
          "execution_count": 17
        }
      ]
    },
    {
      "cell_type": "code",
      "source": [
        "model_v2.fit(data, label, epochs=100, batch_size=50, validation_data=(valid_data, valid_label))"
      ],
      "metadata": {
        "colab": {
          "base_uri": "https://localhost:8080/"
        },
        "id": "FY6FSQd51cLR",
        "outputId": "169e2723-79ae-4753-b679-4daf837afcab"
      },
      "execution_count": null,
      "outputs": [
        {
          "output_type": "stream",
          "name": "stdout",
          "text": [
            "Epoch 1/100\n",
            "40/40 [==============================] - 1s 7ms/step - loss: 11.5216 - accuracy: 0.1155 - val_loss: 11.5310 - val_accuracy: 0.1020\n",
            "Epoch 2/100\n",
            "40/40 [==============================] - 0s 4ms/step - loss: 11.5216 - accuracy: 0.1155 - val_loss: 11.5310 - val_accuracy: 0.1020\n",
            "Epoch 3/100\n",
            "40/40 [==============================] - 0s 4ms/step - loss: 11.5215 - accuracy: 0.1155 - val_loss: 11.5310 - val_accuracy: 0.1020\n",
            "Epoch 4/100\n",
            "40/40 [==============================] - 0s 4ms/step - loss: 11.5215 - accuracy: 0.1155 - val_loss: 11.5310 - val_accuracy: 0.1020\n",
            "Epoch 5/100\n",
            "40/40 [==============================] - 0s 4ms/step - loss: 11.5217 - accuracy: 0.1155 - val_loss: 11.5310 - val_accuracy: 0.1020\n",
            "Epoch 6/100\n",
            "40/40 [==============================] - 0s 4ms/step - loss: 11.5215 - accuracy: 0.1155 - val_loss: 11.5310 - val_accuracy: 0.1020\n",
            "Epoch 7/100\n",
            "40/40 [==============================] - 0s 4ms/step - loss: 11.5213 - accuracy: 0.1155 - val_loss: 11.5311 - val_accuracy: 0.1020\n",
            "Epoch 8/100\n",
            "40/40 [==============================] - 0s 4ms/step - loss: 11.5215 - accuracy: 0.1155 - val_loss: 11.5311 - val_accuracy: 0.1020\n",
            "Epoch 9/100\n",
            "40/40 [==============================] - 0s 4ms/step - loss: 11.5216 - accuracy: 0.1155 - val_loss: 11.5311 - val_accuracy: 0.1020\n",
            "Epoch 10/100\n",
            "40/40 [==============================] - 0s 4ms/step - loss: 11.5218 - accuracy: 0.1155 - val_loss: 11.5310 - val_accuracy: 0.1020\n",
            "Epoch 11/100\n",
            "40/40 [==============================] - 0s 4ms/step - loss: 11.5214 - accuracy: 0.1155 - val_loss: 11.5311 - val_accuracy: 0.1020\n",
            "Epoch 12/100\n",
            "40/40 [==============================] - 0s 4ms/step - loss: 11.5216 - accuracy: 0.1155 - val_loss: 11.5311 - val_accuracy: 0.1020\n",
            "Epoch 13/100\n",
            "40/40 [==============================] - 0s 4ms/step - loss: 11.5217 - accuracy: 0.1155 - val_loss: 11.5310 - val_accuracy: 0.1020\n",
            "Epoch 14/100\n",
            "40/40 [==============================] - 0s 4ms/step - loss: 11.5215 - accuracy: 0.1155 - val_loss: 11.5310 - val_accuracy: 0.1020\n",
            "Epoch 15/100\n",
            "40/40 [==============================] - 0s 4ms/step - loss: 11.5215 - accuracy: 0.1155 - val_loss: 11.5310 - val_accuracy: 0.1020\n",
            "Epoch 16/100\n",
            "40/40 [==============================] - 0s 5ms/step - loss: 11.5217 - accuracy: 0.1155 - val_loss: 11.5310 - val_accuracy: 0.1020\n",
            "Epoch 17/100\n",
            "40/40 [==============================] - 0s 7ms/step - loss: 11.5215 - accuracy: 0.1155 - val_loss: 11.5310 - val_accuracy: 0.1020\n",
            "Epoch 18/100\n",
            "40/40 [==============================] - 0s 7ms/step - loss: 11.5215 - accuracy: 0.1155 - val_loss: 11.5310 - val_accuracy: 0.1020\n",
            "Epoch 19/100\n",
            "40/40 [==============================] - 0s 6ms/step - loss: 11.5216 - accuracy: 0.1155 - val_loss: 11.5310 - val_accuracy: 0.1020\n",
            "Epoch 20/100\n",
            "40/40 [==============================] - 0s 7ms/step - loss: 11.5215 - accuracy: 0.1155 - val_loss: 11.5310 - val_accuracy: 0.1020\n",
            "Epoch 21/100\n",
            "40/40 [==============================] - 0s 6ms/step - loss: 11.5216 - accuracy: 0.1155 - val_loss: 11.5310 - val_accuracy: 0.1020\n",
            "Epoch 22/100\n",
            "40/40 [==============================] - 0s 8ms/step - loss: 11.5216 - accuracy: 0.1155 - val_loss: 11.5310 - val_accuracy: 0.1020\n",
            "Epoch 23/100\n",
            "40/40 [==============================] - 0s 7ms/step - loss: 11.5215 - accuracy: 0.1155 - val_loss: 11.5310 - val_accuracy: 0.1020\n",
            "Epoch 24/100\n",
            "40/40 [==============================] - 0s 6ms/step - loss: 11.5215 - accuracy: 0.1155 - val_loss: 11.5310 - val_accuracy: 0.1020\n",
            "Epoch 25/100\n",
            "40/40 [==============================] - 0s 5ms/step - loss: 11.5214 - accuracy: 0.1155 - val_loss: 11.5311 - val_accuracy: 0.1020\n",
            "Epoch 26/100\n",
            "40/40 [==============================] - 0s 6ms/step - loss: 11.5216 - accuracy: 0.1155 - val_loss: 11.5311 - val_accuracy: 0.1020\n",
            "Epoch 27/100\n",
            "40/40 [==============================] - 0s 5ms/step - loss: 11.5217 - accuracy: 0.1155 - val_loss: 11.5310 - val_accuracy: 0.1020\n",
            "Epoch 28/100\n",
            "40/40 [==============================] - 0s 4ms/step - loss: 11.5215 - accuracy: 0.1155 - val_loss: 11.5311 - val_accuracy: 0.1020\n",
            "Epoch 29/100\n",
            "40/40 [==============================] - 0s 4ms/step - loss: 11.5216 - accuracy: 0.1155 - val_loss: 11.5311 - val_accuracy: 0.1020\n",
            "Epoch 30/100\n",
            "40/40 [==============================] - 0s 4ms/step - loss: 11.5213 - accuracy: 0.1155 - val_loss: 11.5311 - val_accuracy: 0.1020\n",
            "Epoch 31/100\n",
            "40/40 [==============================] - 0s 4ms/step - loss: 11.5218 - accuracy: 0.1155 - val_loss: 11.5311 - val_accuracy: 0.1020\n",
            "Epoch 32/100\n",
            "40/40 [==============================] - 0s 4ms/step - loss: 11.5218 - accuracy: 0.1155 - val_loss: 11.5310 - val_accuracy: 0.1020\n",
            "Epoch 33/100\n",
            "40/40 [==============================] - 0s 4ms/step - loss: 11.5216 - accuracy: 0.1155 - val_loss: 11.5310 - val_accuracy: 0.1020\n",
            "Epoch 34/100\n",
            "40/40 [==============================] - 0s 4ms/step - loss: 11.5217 - accuracy: 0.1155 - val_loss: 11.5310 - val_accuracy: 0.1020\n",
            "Epoch 35/100\n",
            "40/40 [==============================] - 0s 4ms/step - loss: 11.5218 - accuracy: 0.1155 - val_loss: 11.5310 - val_accuracy: 0.1020\n",
            "Epoch 36/100\n",
            "40/40 [==============================] - 0s 4ms/step - loss: 11.5214 - accuracy: 0.1155 - val_loss: 11.5310 - val_accuracy: 0.1020\n",
            "Epoch 37/100\n",
            "40/40 [==============================] - 0s 5ms/step - loss: 11.5214 - accuracy: 0.1155 - val_loss: 11.5310 - val_accuracy: 0.1020\n",
            "Epoch 38/100\n",
            "40/40 [==============================] - 0s 4ms/step - loss: 11.5216 - accuracy: 0.1155 - val_loss: 11.5310 - val_accuracy: 0.1020\n",
            "Epoch 39/100\n",
            "40/40 [==============================] - 0s 4ms/step - loss: 11.5214 - accuracy: 0.1155 - val_loss: 11.5310 - val_accuracy: 0.1020\n",
            "Epoch 40/100\n",
            "40/40 [==============================] - 0s 4ms/step - loss: 11.5216 - accuracy: 0.1155 - val_loss: 11.5310 - val_accuracy: 0.1020\n",
            "Epoch 41/100\n",
            "40/40 [==============================] - 0s 4ms/step - loss: 11.5216 - accuracy: 0.1155 - val_loss: 11.5310 - val_accuracy: 0.1020\n",
            "Epoch 42/100\n",
            "40/40 [==============================] - 0s 4ms/step - loss: 11.5216 - accuracy: 0.1155 - val_loss: 11.5310 - val_accuracy: 0.1020\n",
            "Epoch 43/100\n",
            "40/40 [==============================] - 0s 5ms/step - loss: 11.5216 - accuracy: 0.1155 - val_loss: 11.5310 - val_accuracy: 0.1020\n",
            "Epoch 44/100\n",
            "40/40 [==============================] - 0s 4ms/step - loss: 11.5216 - accuracy: 0.1155 - val_loss: 11.5310 - val_accuracy: 0.1020\n",
            "Epoch 45/100\n",
            "40/40 [==============================] - 0s 4ms/step - loss: 11.5214 - accuracy: 0.1155 - val_loss: 11.5310 - val_accuracy: 0.1020\n",
            "Epoch 46/100\n",
            "40/40 [==============================] - 0s 4ms/step - loss: 11.5217 - accuracy: 0.1155 - val_loss: 11.5310 - val_accuracy: 0.1020\n",
            "Epoch 47/100\n",
            "40/40 [==============================] - 0s 4ms/step - loss: 11.5216 - accuracy: 0.1155 - val_loss: 11.5310 - val_accuracy: 0.1020\n",
            "Epoch 48/100\n",
            "40/40 [==============================] - 0s 4ms/step - loss: 11.5214 - accuracy: 0.1155 - val_loss: 11.5310 - val_accuracy: 0.1020\n",
            "Epoch 49/100\n",
            "40/40 [==============================] - 0s 4ms/step - loss: 11.5213 - accuracy: 0.1155 - val_loss: 11.5311 - val_accuracy: 0.1020\n",
            "Epoch 50/100\n",
            "40/40 [==============================] - 0s 4ms/step - loss: 11.5217 - accuracy: 0.1155 - val_loss: 11.5311 - val_accuracy: 0.1020\n",
            "Epoch 51/100\n",
            "40/40 [==============================] - 0s 4ms/step - loss: 11.5216 - accuracy: 0.1155 - val_loss: 11.5311 - val_accuracy: 0.1020\n",
            "Epoch 52/100\n",
            "40/40 [==============================] - 0s 4ms/step - loss: 11.5216 - accuracy: 0.1155 - val_loss: 11.5310 - val_accuracy: 0.1020\n",
            "Epoch 53/100\n",
            "40/40 [==============================] - 0s 4ms/step - loss: 11.5217 - accuracy: 0.1155 - val_loss: 11.5310 - val_accuracy: 0.1020\n",
            "Epoch 54/100\n",
            "40/40 [==============================] - 0s 4ms/step - loss: 11.5216 - accuracy: 0.1155 - val_loss: 11.5310 - val_accuracy: 0.1020\n",
            "Epoch 55/100\n",
            "40/40 [==============================] - 0s 4ms/step - loss: 11.5216 - accuracy: 0.1155 - val_loss: 11.5310 - val_accuracy: 0.1020\n",
            "Epoch 56/100\n",
            "40/40 [==============================] - 0s 4ms/step - loss: 11.5216 - accuracy: 0.1155 - val_loss: 11.5311 - val_accuracy: 0.1020\n",
            "Epoch 57/100\n",
            "40/40 [==============================] - 0s 4ms/step - loss: 11.5214 - accuracy: 0.1155 - val_loss: 11.5311 - val_accuracy: 0.1020\n",
            "Epoch 58/100\n",
            "40/40 [==============================] - 0s 4ms/step - loss: 11.5212 - accuracy: 0.1155 - val_loss: 11.5311 - val_accuracy: 0.1020\n",
            "Epoch 59/100\n",
            "40/40 [==============================] - 0s 4ms/step - loss: 11.5215 - accuracy: 0.1155 - val_loss: 11.5311 - val_accuracy: 0.1020\n",
            "Epoch 60/100\n",
            "40/40 [==============================] - 0s 4ms/step - loss: 11.5215 - accuracy: 0.1155 - val_loss: 11.5311 - val_accuracy: 0.1020\n",
            "Epoch 61/100\n",
            "40/40 [==============================] - 0s 4ms/step - loss: 11.5215 - accuracy: 0.1155 - val_loss: 11.5311 - val_accuracy: 0.1020\n",
            "Epoch 62/100\n",
            "40/40 [==============================] - 0s 4ms/step - loss: 11.5214 - accuracy: 0.1155 - val_loss: 11.5311 - val_accuracy: 0.1020\n",
            "Epoch 63/100\n",
            "40/40 [==============================] - 0s 4ms/step - loss: 11.5216 - accuracy: 0.1155 - val_loss: 11.5311 - val_accuracy: 0.1020\n",
            "Epoch 64/100\n",
            "40/40 [==============================] - 0s 4ms/step - loss: 11.5216 - accuracy: 0.1155 - val_loss: 11.5311 - val_accuracy: 0.1020\n",
            "Epoch 65/100\n",
            "40/40 [==============================] - 0s 4ms/step - loss: 11.5214 - accuracy: 0.1155 - val_loss: 11.5311 - val_accuracy: 0.1020\n",
            "Epoch 66/100\n",
            "40/40 [==============================] - 0s 4ms/step - loss: 11.5217 - accuracy: 0.1155 - val_loss: 11.5311 - val_accuracy: 0.1020\n",
            "Epoch 67/100\n",
            "40/40 [==============================] - 0s 4ms/step - loss: 11.5214 - accuracy: 0.1155 - val_loss: 11.5311 - val_accuracy: 0.1020\n",
            "Epoch 68/100\n",
            "40/40 [==============================] - 0s 4ms/step - loss: 11.5216 - accuracy: 0.1155 - val_loss: 11.5311 - val_accuracy: 0.1020\n",
            "Epoch 69/100\n",
            "40/40 [==============================] - 0s 4ms/step - loss: 11.5215 - accuracy: 0.1155 - val_loss: 11.5311 - val_accuracy: 0.1020\n",
            "Epoch 70/100\n",
            "40/40 [==============================] - 0s 4ms/step - loss: 11.5214 - accuracy: 0.1155 - val_loss: 11.5311 - val_accuracy: 0.1020\n",
            "Epoch 71/100\n",
            "40/40 [==============================] - 0s 4ms/step - loss: 11.5215 - accuracy: 0.1155 - val_loss: 11.5311 - val_accuracy: 0.1020\n",
            "Epoch 72/100\n",
            "40/40 [==============================] - 0s 4ms/step - loss: 11.5217 - accuracy: 0.1155 - val_loss: 11.5311 - val_accuracy: 0.1020\n",
            "Epoch 73/100\n",
            "40/40 [==============================] - 0s 4ms/step - loss: 11.5215 - accuracy: 0.1155 - val_loss: 11.5311 - val_accuracy: 0.1020\n",
            "Epoch 74/100\n",
            "40/40 [==============================] - 0s 4ms/step - loss: 11.5216 - accuracy: 0.1155 - val_loss: 11.5311 - val_accuracy: 0.1020\n",
            "Epoch 75/100\n",
            "40/40 [==============================] - 0s 4ms/step - loss: 11.5216 - accuracy: 0.1155 - val_loss: 11.5311 - val_accuracy: 0.1020\n",
            "Epoch 76/100\n",
            "40/40 [==============================] - 0s 4ms/step - loss: 11.5217 - accuracy: 0.1155 - val_loss: 11.5311 - val_accuracy: 0.1020\n",
            "Epoch 77/100\n",
            "40/40 [==============================] - 0s 4ms/step - loss: 11.5215 - accuracy: 0.1155 - val_loss: 11.5311 - val_accuracy: 0.1020\n",
            "Epoch 78/100\n",
            "40/40 [==============================] - 0s 4ms/step - loss: 11.5218 - accuracy: 0.1155 - val_loss: 11.5311 - val_accuracy: 0.1020\n",
            "Epoch 79/100\n",
            "40/40 [==============================] - 0s 4ms/step - loss: 11.5219 - accuracy: 0.1155 - val_loss: 11.5311 - val_accuracy: 0.1020\n",
            "Epoch 80/100\n",
            "40/40 [==============================] - 0s 4ms/step - loss: 11.5217 - accuracy: 0.1155 - val_loss: 11.5311 - val_accuracy: 0.1020\n",
            "Epoch 81/100\n",
            "40/40 [==============================] - 0s 4ms/step - loss: 11.5217 - accuracy: 0.1155 - val_loss: 11.5311 - val_accuracy: 0.1020\n",
            "Epoch 82/100\n",
            "40/40 [==============================] - 0s 4ms/step - loss: 11.5215 - accuracy: 0.1155 - val_loss: 11.5311 - val_accuracy: 0.1020\n",
            "Epoch 83/100\n",
            "40/40 [==============================] - 0s 4ms/step - loss: 11.5215 - accuracy: 0.1155 - val_loss: 11.5311 - val_accuracy: 0.1020\n",
            "Epoch 84/100\n",
            "40/40 [==============================] - 0s 4ms/step - loss: 11.5214 - accuracy: 0.1155 - val_loss: 11.5311 - val_accuracy: 0.1020\n",
            "Epoch 85/100\n",
            "40/40 [==============================] - 0s 4ms/step - loss: 11.5215 - accuracy: 0.1155 - val_loss: 11.5311 - val_accuracy: 0.1020\n",
            "Epoch 86/100\n",
            "40/40 [==============================] - 0s 4ms/step - loss: 11.5213 - accuracy: 0.1155 - val_loss: 11.5311 - val_accuracy: 0.1020\n",
            "Epoch 87/100\n",
            "40/40 [==============================] - 0s 4ms/step - loss: 11.5216 - accuracy: 0.1155 - val_loss: 11.5311 - val_accuracy: 0.1020\n",
            "Epoch 88/100\n",
            "40/40 [==============================] - 0s 6ms/step - loss: 11.5215 - accuracy: 0.1155 - val_loss: 11.5311 - val_accuracy: 0.1020\n",
            "Epoch 89/100\n",
            "40/40 [==============================] - 0s 7ms/step - loss: 11.5217 - accuracy: 0.1155 - val_loss: 11.5311 - val_accuracy: 0.1020\n",
            "Epoch 90/100\n",
            "40/40 [==============================] - 0s 9ms/step - loss: 11.5214 - accuracy: 0.1155 - val_loss: 11.5311 - val_accuracy: 0.1020\n",
            "Epoch 91/100\n",
            "40/40 [==============================] - 0s 7ms/step - loss: 11.5217 - accuracy: 0.1155 - val_loss: 11.5311 - val_accuracy: 0.1020\n",
            "Epoch 92/100\n",
            "40/40 [==============================] - 0s 6ms/step - loss: 11.5217 - accuracy: 0.1155 - val_loss: 11.5311 - val_accuracy: 0.1020\n",
            "Epoch 93/100\n",
            "40/40 [==============================] - 0s 6ms/step - loss: 11.5215 - accuracy: 0.1155 - val_loss: 11.5311 - val_accuracy: 0.1020\n",
            "Epoch 94/100\n",
            "40/40 [==============================] - 0s 6ms/step - loss: 11.5216 - accuracy: 0.1155 - val_loss: 11.5311 - val_accuracy: 0.1020\n",
            "Epoch 95/100\n",
            "40/40 [==============================] - 0s 7ms/step - loss: 11.5217 - accuracy: 0.1155 - val_loss: 11.5310 - val_accuracy: 0.1020\n",
            "Epoch 96/100\n",
            "40/40 [==============================] - 0s 6ms/step - loss: 11.5215 - accuracy: 0.1155 - val_loss: 11.5311 - val_accuracy: 0.1020\n",
            "Epoch 97/100\n",
            "40/40 [==============================] - 0s 7ms/step - loss: 11.5215 - accuracy: 0.1155 - val_loss: 11.5311 - val_accuracy: 0.1020\n",
            "Epoch 98/100\n",
            "40/40 [==============================] - 0s 5ms/step - loss: 11.5215 - accuracy: 0.1155 - val_loss: 11.5311 - val_accuracy: 0.1020\n",
            "Epoch 99/100\n",
            "40/40 [==============================] - 0s 4ms/step - loss: 11.5217 - accuracy: 0.1155 - val_loss: 11.5311 - val_accuracy: 0.1020\n",
            "Epoch 100/100\n",
            "40/40 [==============================] - 0s 4ms/step - loss: 11.5216 - accuracy: 0.1155 - val_loss: 11.5310 - val_accuracy: 0.1020\n"
          ]
        },
        {
          "output_type": "execute_result",
          "data": {
            "text/plain": [
              "<keras.src.callbacks.History at 0x7832a0da0670>"
            ]
          },
          "metadata": {},
          "execution_count": 33
        }
      ]
    },
    {
      "cell_type": "code",
      "source": [
        "model_v2.evaluate(test_data,test_label)"
      ],
      "metadata": {
        "colab": {
          "base_uri": "https://localhost:8080/"
        },
        "id": "RmbDn3uw12SG",
        "outputId": "005ce855-dfde-4767-e1f8-99dd10516870"
      },
      "execution_count": null,
      "outputs": [
        {
          "output_type": "stream",
          "name": "stdout",
          "text": [
            "16/16 [==============================] - 0s 3ms/step - loss: 11.5622 - accuracy: 0.0940\n"
          ]
        },
        {
          "output_type": "execute_result",
          "data": {
            "text/plain": [
              "[11.562179565429688, 0.09399999678134918]"
            ]
          },
          "metadata": {},
          "execution_count": 19
        }
      ]
    },
    {
      "cell_type": "code",
      "source": [
        "results=model_v2.predict(test_data)"
      ],
      "metadata": {
        "colab": {
          "base_uri": "https://localhost:8080/"
        },
        "id": "R9RMHtNS5x38",
        "outputId": "38cafeb7-7833-4c87-852e-946e693cf290"
      },
      "execution_count": null,
      "outputs": [
        {
          "output_type": "stream",
          "name": "stdout",
          "text": [
            "16/16 [==============================] - 0s 2ms/step\n"
          ]
        }
      ]
    },
    {
      "cell_type": "code",
      "source": [
        "results.shape"
      ],
      "metadata": {
        "colab": {
          "base_uri": "https://localhost:8080/"
        },
        "id": "9YnWuwBq55Tt",
        "outputId": "a85267e5-a2d8-484b-928d-305e9bace0a4"
      },
      "execution_count": null,
      "outputs": [
        {
          "output_type": "execute_result",
          "data": {
            "text/plain": [
              "(500, 10)"
            ]
          },
          "metadata": {},
          "execution_count": 21
        }
      ]
    },
    {
      "cell_type": "code",
      "source": [
        "results[0:10][0]"
      ],
      "metadata": {
        "colab": {
          "base_uri": "https://localhost:8080/"
        },
        "id": "MG5-ufq96Gf-",
        "outputId": "fb3ba5cd-4b58-463a-d60f-cb1a09711432"
      },
      "execution_count": null,
      "outputs": [
        {
          "output_type": "execute_result",
          "data": {
            "text/plain": [
              "array([0.10204957, 0.09569108, 0.09571774, 0.10301384, 0.10824418,\n",
              "       0.1067678 , 0.09315227, 0.10114346, 0.09758276, 0.09663732],\n",
              "      dtype=float32)"
            ]
          },
          "metadata": {},
          "execution_count": 25
        }
      ]
    },
    {
      "cell_type": "code",
      "source": [
        "test_label[0:10][0]"
      ],
      "metadata": {
        "colab": {
          "base_uri": "https://localhost:8080/"
        },
        "id": "Gfd1eadA6Kb4",
        "outputId": "0ead6abd-7041-4cdd-f215-48ef035bff37"
      },
      "execution_count": null,
      "outputs": [
        {
          "output_type": "execute_result",
          "data": {
            "text/plain": [
              "array([0.50744851, 0.22098103, 0.46882194, 0.78210094, 0.05660426,\n",
              "       0.90250769, 0.03908042, 0.65567298, 0.64171387, 0.82318734])"
            ]
          },
          "metadata": {},
          "execution_count": 26
        }
      ]
    },
    {
      "cell_type": "markdown",
      "source": [
        "### KERAS FUNCTIONAL API"
      ],
      "metadata": {
        "id": "BTVynuF_hEjK"
      }
    },
    {
      "cell_type": "code",
      "source": [
        "import tensorflow  as tf\n",
        "\n",
        "mnist=tf.keras.datasets.mnist\n",
        "(X_mnist_train,y_mnist_train),(X_mnist_test,y_mnist_test)=mnist.load_data()"
      ],
      "metadata": {
        "colab": {
          "base_uri": "https://localhost:8080/"
        },
        "id": "dUGEyZBchOfe",
        "outputId": "302a221c-2ca8-4014-c8d0-be409be89dfe"
      },
      "execution_count": null,
      "outputs": [
        {
          "output_type": "stream",
          "name": "stdout",
          "text": [
            "Downloading data from https://storage.googleapis.com/tensorflow/tf-keras-datasets/mnist.npz\n",
            "11490434/11490434 [==============================] - 0s 0us/step\n"
          ]
        }
      ]
    },
    {
      "cell_type": "code",
      "source": [
        "print(X_mnist_train.shape,X_mnist_test.shape)"
      ],
      "metadata": {
        "colab": {
          "base_uri": "https://localhost:8080/"
        },
        "id": "2EiQg4Cgh9eW",
        "outputId": "0b821317-2ed4-454e-be30-eb9c6638c510"
      },
      "execution_count": null,
      "outputs": [
        {
          "output_type": "stream",
          "name": "stdout",
          "text": [
            "(60000, 28, 28) (10000, 28, 28)\n"
          ]
        }
      ]
    },
    {
      "cell_type": "code",
      "source": [
        "set(y_mnist_train)"
      ],
      "metadata": {
        "colab": {
          "base_uri": "https://localhost:8080/"
        },
        "id": "XlyNTpgAiERy",
        "outputId": "0d5d535a-1c26-45da-f5c5-8be7589e6cb2"
      },
      "execution_count": null,
      "outputs": [
        {
          "output_type": "execute_result",
          "data": {
            "text/plain": [
              "{0, 1, 2, 3, 4, 5, 6, 7, 8, 9}"
            ]
          },
          "metadata": {},
          "execution_count": 4
        }
      ]
    },
    {
      "cell_type": "code",
      "source": [
        "def normalize_grayscale(image_data):\n",
        "  a=0.1\n",
        "  b=0.9\n",
        "  image_data_min=image_data.min()\n",
        "  image_data_max=image_data.max()\n",
        "  return a+((image_data-image_data_min)*(b-a))/(image_data_max-image_data_min)\n",
        "train_mnist_features=normalize_grayscale(X_mnist_train)\n",
        "test_mnist_features=normalize_grayscale(X_mnist_test)"
      ],
      "metadata": {
        "id": "NKGSrEhFiPRR"
      },
      "execution_count": null,
      "outputs": []
    },
    {
      "cell_type": "code",
      "source": [
        "train_mnist_features[0],test_mnist_features[0]"
      ],
      "metadata": {
        "colab": {
          "base_uri": "https://localhost:8080/"
        },
        "id": "1Zje0w4NjwBs",
        "outputId": "52b7ead7-4b1f-4599-f219-a911e1681f3d"
      },
      "execution_count": null,
      "outputs": [
        {
          "output_type": "execute_result",
          "data": {
            "text/plain": [
              "(array([[0.1       , 0.1       , 0.1       , 0.1       , 0.1       ,\n",
              "         0.1       , 0.1       , 0.1       , 0.1       , 0.1       ,\n",
              "         0.1       , 0.1       , 0.1       , 0.1       , 0.1       ,\n",
              "         0.1       , 0.1       , 0.1       , 0.1       , 0.1       ,\n",
              "         0.1       , 0.1       , 0.1       , 0.1       , 0.1       ,\n",
              "         0.1       , 0.1       , 0.1       ],\n",
              "        [0.1       , 0.1       , 0.1       , 0.1       , 0.1       ,\n",
              "         0.1       , 0.1       , 0.1       , 0.1       , 0.1       ,\n",
              "         0.1       , 0.1       , 0.1       , 0.1       , 0.1       ,\n",
              "         0.1       , 0.1       , 0.1       , 0.1       , 0.1       ,\n",
              "         0.1       , 0.1       , 0.1       , 0.1       , 0.1       ,\n",
              "         0.1       , 0.1       , 0.1       ],\n",
              "        [0.1       , 0.1       , 0.1       , 0.1       , 0.1       ,\n",
              "         0.1       , 0.1       , 0.1       , 0.1       , 0.1       ,\n",
              "         0.1       , 0.1       , 0.1       , 0.1       , 0.1       ,\n",
              "         0.1       , 0.1       , 0.1       , 0.1       , 0.1       ,\n",
              "         0.1       , 0.1       , 0.1       , 0.1       , 0.1       ,\n",
              "         0.1       , 0.1       , 0.1       ],\n",
              "        [0.1       , 0.1       , 0.1       , 0.1       , 0.1       ,\n",
              "         0.1       , 0.1       , 0.1       , 0.1       , 0.1       ,\n",
              "         0.1       , 0.1       , 0.1       , 0.1       , 0.1       ,\n",
              "         0.1       , 0.1       , 0.1       , 0.1       , 0.1       ,\n",
              "         0.1       , 0.1       , 0.1       , 0.1       , 0.1       ,\n",
              "         0.1       , 0.1       , 0.1       ],\n",
              "        [0.1       , 0.1       , 0.1       , 0.1       , 0.1       ,\n",
              "         0.1       , 0.1       , 0.1       , 0.1       , 0.1       ,\n",
              "         0.1       , 0.1       , 0.1       , 0.1       , 0.1       ,\n",
              "         0.1       , 0.1       , 0.1       , 0.1       , 0.1       ,\n",
              "         0.1       , 0.1       , 0.1       , 0.1       , 0.1       ,\n",
              "         0.1       , 0.1       , 0.1       ],\n",
              "        [0.1       , 0.1       , 0.1       , 0.1       , 0.1       ,\n",
              "         0.1       , 0.1       , 0.1       , 0.1       , 0.1       ,\n",
              "         0.1       , 0.1       , 0.10941176, 0.15647059, 0.15647059,\n",
              "         0.15647059, 0.49529412, 0.52666667, 0.64901961, 0.18156863,\n",
              "         0.62078431, 0.9       , 0.87490196, 0.49843137, 0.1       ,\n",
              "         0.1       , 0.1       , 0.1       ],\n",
              "        [0.1       , 0.1       , 0.1       , 0.1       , 0.1       ,\n",
              "         0.1       , 0.1       , 0.1       , 0.19411765, 0.21294118,\n",
              "         0.39490196, 0.58313725, 0.63333333, 0.89372549, 0.89372549,\n",
              "         0.89372549, 0.89372549, 0.89372549, 0.80588235, 0.63960784,\n",
              "         0.89372549, 0.85921569, 0.71176471, 0.30078431, 0.1       ,\n",
              "         0.1       , 0.1       , 0.1       ],\n",
              "        [0.1       , 0.1       , 0.1       , 0.1       , 0.1       ,\n",
              "         0.1       , 0.1       , 0.25372549, 0.84666667, 0.89372549,\n",
              "         0.89372549, 0.89372549, 0.89372549, 0.89372549, 0.89372549,\n",
              "         0.89372549, 0.89372549, 0.88745098, 0.39176471, 0.3572549 ,\n",
              "         0.3572549 , 0.27568627, 0.22235294, 0.1       , 0.1       ,\n",
              "         0.1       , 0.1       , 0.1       ],\n",
              "        [0.1       , 0.1       , 0.1       , 0.1       , 0.1       ,\n",
              "         0.1       , 0.1       , 0.15647059, 0.78705882, 0.89372549,\n",
              "         0.89372549, 0.89372549, 0.89372549, 0.89372549, 0.72117647,\n",
              "         0.67098039, 0.87490196, 0.85607843, 0.1       , 0.1       ,\n",
              "         0.1       , 0.1       , 0.1       , 0.1       , 0.1       ,\n",
              "         0.1       , 0.1       , 0.1       ],\n",
              "        [0.1       , 0.1       , 0.1       , 0.1       , 0.1       ,\n",
              "         0.1       , 0.1       , 0.1       , 0.35098039, 0.58941176,\n",
              "         0.43568627, 0.89372549, 0.89372549, 0.74313725, 0.1345098 ,\n",
              "         0.1       , 0.23490196, 0.58313725, 0.1       , 0.1       ,\n",
              "         0.1       , 0.1       , 0.1       , 0.1       , 0.1       ,\n",
              "         0.1       , 0.1       , 0.1       ],\n",
              "        [0.1       , 0.1       , 0.1       , 0.1       , 0.1       ,\n",
              "         0.1       , 0.1       , 0.1       , 0.1       , 0.14392157,\n",
              "         0.10313725, 0.58313725, 0.89372549, 0.38235294, 0.1       ,\n",
              "         0.1       , 0.1       , 0.1       , 0.1       , 0.1       ,\n",
              "         0.1       , 0.1       , 0.1       , 0.1       , 0.1       ,\n",
              "         0.1       , 0.1       , 0.1       ],\n",
              "        [0.1       , 0.1       , 0.1       , 0.1       , 0.1       ,\n",
              "         0.1       , 0.1       , 0.1       , 0.1       , 0.1       ,\n",
              "         0.1       , 0.53607843, 0.89372549, 0.69607843, 0.10627451,\n",
              "         0.1       , 0.1       , 0.1       , 0.1       , 0.1       ,\n",
              "         0.1       , 0.1       , 0.1       , 0.1       , 0.1       ,\n",
              "         0.1       , 0.1       , 0.1       ],\n",
              "        [0.1       , 0.1       , 0.1       , 0.1       , 0.1       ,\n",
              "         0.1       , 0.1       , 0.1       , 0.1       , 0.1       ,\n",
              "         0.1       , 0.1345098 , 0.69607843, 0.89372549, 0.31960784,\n",
              "         0.1       , 0.1       , 0.1       , 0.1       , 0.1       ,\n",
              "         0.1       , 0.1       , 0.1       , 0.1       , 0.1       ,\n",
              "         0.1       , 0.1       , 0.1       ],\n",
              "        [0.1       , 0.1       , 0.1       , 0.1       , 0.1       ,\n",
              "         0.1       , 0.1       , 0.1       , 0.1       , 0.1       ,\n",
              "         0.1       , 0.1       , 0.20980392, 0.85607843, 0.80588235,\n",
              "         0.60196078, 0.43882353, 0.10313725, 0.1       , 0.1       ,\n",
              "         0.1       , 0.1       , 0.1       , 0.1       , 0.1       ,\n",
              "         0.1       , 0.1       , 0.1       ],\n",
              "        [0.1       , 0.1       , 0.1       , 0.1       , 0.1       ,\n",
              "         0.1       , 0.1       , 0.1       , 0.1       , 0.1       ,\n",
              "         0.1       , 0.1       , 0.1       , 0.35411765, 0.85294118,\n",
              "         0.89372549, 0.89372549, 0.47333333, 0.17843137, 0.1       ,\n",
              "         0.1       , 0.1       , 0.1       , 0.1       , 0.1       ,\n",
              "         0.1       , 0.1       , 0.1       ],\n",
              "        [0.1       , 0.1       , 0.1       , 0.1       , 0.1       ,\n",
              "         0.1       , 0.1       , 0.1       , 0.1       , 0.1       ,\n",
              "         0.1       , 0.1       , 0.1       , 0.1       , 0.24117647,\n",
              "         0.68352941, 0.89372549, 0.89372549, 0.57058824, 0.18470588,\n",
              "         0.1       , 0.1       , 0.1       , 0.1       , 0.1       ,\n",
              "         0.1       , 0.1       , 0.1       ],\n",
              "        [0.1       , 0.1       , 0.1       , 0.1       , 0.1       ,\n",
              "         0.1       , 0.1       , 0.1       , 0.1       , 0.1       ,\n",
              "         0.1       , 0.1       , 0.1       , 0.1       , 0.1       ,\n",
              "         0.15019608, 0.39176471, 0.89058824, 0.89372549, 0.68666667,\n",
              "         0.1       , 0.1       , 0.1       , 0.1       , 0.1       ,\n",
              "         0.1       , 0.1       , 0.1       ],\n",
              "        [0.1       , 0.1       , 0.1       , 0.1       , 0.1       ,\n",
              "         0.1       , 0.1       , 0.1       , 0.1       , 0.1       ,\n",
              "         0.1       , 0.1       , 0.1       , 0.1       , 0.1       ,\n",
              "         0.1       , 0.1       , 0.88117647, 0.89372549, 0.88117647,\n",
              "         0.30078431, 0.1       , 0.1       , 0.1       , 0.1       ,\n",
              "         0.1       , 0.1       , 0.1       ],\n",
              "        [0.1       , 0.1       , 0.1       , 0.1       , 0.1       ,\n",
              "         0.1       , 0.1       , 0.1       , 0.1       , 0.1       ,\n",
              "         0.1       , 0.1       , 0.1       , 0.1       , 0.24431373,\n",
              "         0.50784314, 0.67411765, 0.89372549, 0.89372549, 0.74941176,\n",
              "         0.10627451, 0.1       , 0.1       , 0.1       , 0.1       ,\n",
              "         0.1       , 0.1       , 0.1       ],\n",
              "        [0.1       , 0.1       , 0.1       , 0.1       , 0.1       ,\n",
              "         0.1       , 0.1       , 0.1       , 0.1       , 0.1       ,\n",
              "         0.1       , 0.1       , 0.22235294, 0.56431373, 0.81843137,\n",
              "         0.89372549, 0.89372549, 0.89372549, 0.88431373, 0.67098039,\n",
              "         0.1       , 0.1       , 0.1       , 0.1       , 0.1       ,\n",
              "         0.1       , 0.1       , 0.1       ],\n",
              "        [0.1       , 0.1       , 0.1       , 0.1       , 0.1       ,\n",
              "         0.1       , 0.1       , 0.1       , 0.1       , 0.1       ,\n",
              "         0.17529412, 0.45764706, 0.79333333, 0.89372549, 0.89372549,\n",
              "         0.89372549, 0.89372549, 0.73058824, 0.34470588, 0.1       ,\n",
              "         0.1       , 0.1       , 0.1       , 0.1       , 0.1       ,\n",
              "         0.1       , 0.1       , 0.1       ],\n",
              "        [0.1       , 0.1       , 0.1       , 0.1       , 0.1       ,\n",
              "         0.1       , 0.1       , 0.1       , 0.17215686, 0.30705882,\n",
              "         0.76823529, 0.89372549, 0.89372549, 0.89372549, 0.89372549,\n",
              "         0.72117647, 0.35411765, 0.10627451, 0.1       , 0.1       ,\n",
              "         0.1       , 0.1       , 0.1       , 0.1       , 0.1       ,\n",
              "         0.1       , 0.1       , 0.1       ],\n",
              "        [0.1       , 0.1       , 0.1       , 0.1       , 0.1       ,\n",
              "         0.1       , 0.15647059, 0.63647059, 0.78705882, 0.89372549,\n",
              "         0.89372549, 0.89372549, 0.89372549, 0.71176471, 0.35098039,\n",
              "         0.12823529, 0.1       , 0.1       , 0.1       , 0.1       ,\n",
              "         0.1       , 0.1       , 0.1       , 0.1       , 0.1       ,\n",
              "         0.1       , 0.1       , 0.1       ],\n",
              "        [0.1       , 0.1       , 0.1       , 0.1       , 0.27254902,\n",
              "         0.63960784, 0.80901961, 0.89372549, 0.89372549, 0.89372549,\n",
              "         0.89372549, 0.8654902 , 0.5172549 , 0.1345098 , 0.1       ,\n",
              "         0.1       , 0.1       , 0.1       , 0.1       , 0.1       ,\n",
              "         0.1       , 0.1       , 0.1       , 0.1       , 0.1       ,\n",
              "         0.1       , 0.1       , 0.1       ],\n",
              "        [0.1       , 0.1       , 0.1       , 0.1       , 0.52666667,\n",
              "         0.89372549, 0.89372549, 0.89372549, 0.76509804, 0.52352941,\n",
              "         0.51411765, 0.15019608, 0.1       , 0.1       , 0.1       ,\n",
              "         0.1       , 0.1       , 0.1       , 0.1       , 0.1       ,\n",
              "         0.1       , 0.1       , 0.1       , 0.1       , 0.1       ,\n",
              "         0.1       , 0.1       , 0.1       ],\n",
              "        [0.1       , 0.1       , 0.1       , 0.1       , 0.1       ,\n",
              "         0.1       , 0.1       , 0.1       , 0.1       , 0.1       ,\n",
              "         0.1       , 0.1       , 0.1       , 0.1       , 0.1       ,\n",
              "         0.1       , 0.1       , 0.1       , 0.1       , 0.1       ,\n",
              "         0.1       , 0.1       , 0.1       , 0.1       , 0.1       ,\n",
              "         0.1       , 0.1       , 0.1       ],\n",
              "        [0.1       , 0.1       , 0.1       , 0.1       , 0.1       ,\n",
              "         0.1       , 0.1       , 0.1       , 0.1       , 0.1       ,\n",
              "         0.1       , 0.1       , 0.1       , 0.1       , 0.1       ,\n",
              "         0.1       , 0.1       , 0.1       , 0.1       , 0.1       ,\n",
              "         0.1       , 0.1       , 0.1       , 0.1       , 0.1       ,\n",
              "         0.1       , 0.1       , 0.1       ],\n",
              "        [0.1       , 0.1       , 0.1       , 0.1       , 0.1       ,\n",
              "         0.1       , 0.1       , 0.1       , 0.1       , 0.1       ,\n",
              "         0.1       , 0.1       , 0.1       , 0.1       , 0.1       ,\n",
              "         0.1       , 0.1       , 0.1       , 0.1       , 0.1       ,\n",
              "         0.1       , 0.1       , 0.1       , 0.1       , 0.1       ,\n",
              "         0.1       , 0.1       , 0.1       ]]),\n",
              " array([[0.1       , 0.1       , 0.1       , 0.1       , 0.1       ,\n",
              "         0.1       , 0.1       , 0.1       , 0.1       , 0.1       ,\n",
              "         0.1       , 0.1       , 0.1       , 0.1       , 0.1       ,\n",
              "         0.1       , 0.1       , 0.1       , 0.1       , 0.1       ,\n",
              "         0.1       , 0.1       , 0.1       , 0.1       , 0.1       ,\n",
              "         0.1       , 0.1       , 0.1       ],\n",
              "        [0.1       , 0.1       , 0.1       , 0.1       , 0.1       ,\n",
              "         0.1       , 0.1       , 0.1       , 0.1       , 0.1       ,\n",
              "         0.1       , 0.1       , 0.1       , 0.1       , 0.1       ,\n",
              "         0.1       , 0.1       , 0.1       , 0.1       , 0.1       ,\n",
              "         0.1       , 0.1       , 0.1       , 0.1       , 0.1       ,\n",
              "         0.1       , 0.1       , 0.1       ],\n",
              "        [0.1       , 0.1       , 0.1       , 0.1       , 0.1       ,\n",
              "         0.1       , 0.1       , 0.1       , 0.1       , 0.1       ,\n",
              "         0.1       , 0.1       , 0.1       , 0.1       , 0.1       ,\n",
              "         0.1       , 0.1       , 0.1       , 0.1       , 0.1       ,\n",
              "         0.1       , 0.1       , 0.1       , 0.1       , 0.1       ,\n",
              "         0.1       , 0.1       , 0.1       ],\n",
              "        [0.1       , 0.1       , 0.1       , 0.1       , 0.1       ,\n",
              "         0.1       , 0.1       , 0.1       , 0.1       , 0.1       ,\n",
              "         0.1       , 0.1       , 0.1       , 0.1       , 0.1       ,\n",
              "         0.1       , 0.1       , 0.1       , 0.1       , 0.1       ,\n",
              "         0.1       , 0.1       , 0.1       , 0.1       , 0.1       ,\n",
              "         0.1       , 0.1       , 0.1       ],\n",
              "        [0.1       , 0.1       , 0.1       , 0.1       , 0.1       ,\n",
              "         0.1       , 0.1       , 0.1       , 0.1       , 0.1       ,\n",
              "         0.1       , 0.1       , 0.1       , 0.1       , 0.1       ,\n",
              "         0.1       , 0.1       , 0.1       , 0.1       , 0.1       ,\n",
              "         0.1       , 0.1       , 0.1       , 0.1       , 0.1       ,\n",
              "         0.1       , 0.1       , 0.1       ],\n",
              "        [0.1       , 0.1       , 0.1       , 0.1       , 0.1       ,\n",
              "         0.1       , 0.1       , 0.1       , 0.1       , 0.1       ,\n",
              "         0.1       , 0.1       , 0.1       , 0.1       , 0.1       ,\n",
              "         0.1       , 0.1       , 0.1       , 0.1       , 0.1       ,\n",
              "         0.1       , 0.1       , 0.1       , 0.1       , 0.1       ,\n",
              "         0.1       , 0.1       , 0.1       ],\n",
              "        [0.1       , 0.1       , 0.1       , 0.1       , 0.1       ,\n",
              "         0.1       , 0.1       , 0.1       , 0.1       , 0.1       ,\n",
              "         0.1       , 0.1       , 0.1       , 0.1       , 0.1       ,\n",
              "         0.1       , 0.1       , 0.1       , 0.1       , 0.1       ,\n",
              "         0.1       , 0.1       , 0.1       , 0.1       , 0.1       ,\n",
              "         0.1       , 0.1       , 0.1       ],\n",
              "        [0.1       , 0.1       , 0.1       , 0.1       , 0.1       ,\n",
              "         0.1       , 0.36352941, 0.68039216, 0.59882353, 0.57372549,\n",
              "         0.28823529, 0.21294118, 0.1       , 0.1       , 0.1       ,\n",
              "         0.1       , 0.1       , 0.1       , 0.1       , 0.1       ,\n",
              "         0.1       , 0.1       , 0.1       , 0.1       , 0.1       ,\n",
              "         0.1       , 0.1       , 0.1       ],\n",
              "        [0.1       , 0.1       , 0.1       , 0.1       , 0.1       ,\n",
              "         0.1       , 0.79647059, 0.89686275, 0.89686275, 0.89686275,\n",
              "         0.89686275, 0.85607843, 0.72117647, 0.72117647, 0.72117647,\n",
              "         0.72117647, 0.72117647, 0.72117647, 0.72117647, 0.72117647,\n",
              "         0.63333333, 0.26313725, 0.1       , 0.1       , 0.1       ,\n",
              "         0.1       , 0.1       , 0.1       ],\n",
              "        [0.1       , 0.1       , 0.1       , 0.1       , 0.1       ,\n",
              "         0.1       , 0.31019608, 0.45764706, 0.32588235, 0.45764706,\n",
              "         0.61137255, 0.81215686, 0.89686275, 0.80588235, 0.89686275,\n",
              "         0.89686275, 0.89686275, 0.88431373, 0.81843137, 0.89686275,\n",
              "         0.89686275, 0.53921569, 0.1       , 0.1       , 0.1       ,\n",
              "         0.1       , 0.1       , 0.1       ],\n",
              "        [0.1       , 0.1       , 0.1       , 0.1       , 0.1       ,\n",
              "         0.1       , 0.1       , 0.1       , 0.1       , 0.1       ,\n",
              "         0.1       , 0.15333333, 0.30705882, 0.14392157, 0.31019608,\n",
              "         0.31019608, 0.31019608, 0.28509804, 0.16588235, 0.84039216,\n",
              "         0.89686275, 0.43254902, 0.1       , 0.1       , 0.1       ,\n",
              "         0.1       , 0.1       , 0.1       ],\n",
              "        [0.1       , 0.1       , 0.1       , 0.1       , 0.1       ,\n",
              "         0.1       , 0.1       , 0.1       , 0.1       , 0.1       ,\n",
              "         0.1       , 0.1       , 0.1       , 0.1       , 0.1       ,\n",
              "         0.1       , 0.1       , 0.1       , 0.36039216, 0.89372549,\n",
              "         0.75568627, 0.15647059, 0.1       , 0.1       , 0.1       ,\n",
              "         0.1       , 0.1       , 0.1       ],\n",
              "        [0.1       , 0.1       , 0.1       , 0.1       , 0.1       ,\n",
              "         0.1       , 0.1       , 0.1       , 0.1       , 0.1       ,\n",
              "         0.1       , 0.1       , 0.1       , 0.1       , 0.1       ,\n",
              "         0.1       , 0.1       , 0.16901961, 0.83098039, 0.9       ,\n",
              "         0.36039216, 0.1       , 0.1       , 0.1       , 0.1       ,\n",
              "         0.1       , 0.1       , 0.1       ],\n",
              "        [0.1       , 0.1       , 0.1       , 0.1       , 0.1       ,\n",
              "         0.1       , 0.1       , 0.1       , 0.1       , 0.1       ,\n",
              "         0.1       , 0.1       , 0.1       , 0.1       , 0.1       ,\n",
              "         0.1       , 0.1       , 0.50470588, 0.89686275, 0.84666667,\n",
              "         0.23803922, 0.1       , 0.1       , 0.1       , 0.1       ,\n",
              "         0.1       , 0.1       , 0.1       ],\n",
              "        [0.1       , 0.1       , 0.1       , 0.1       , 0.1       ,\n",
              "         0.1       , 0.1       , 0.1       , 0.1       , 0.1       ,\n",
              "         0.1       , 0.1       , 0.1       , 0.1       , 0.1       ,\n",
              "         0.1       , 0.28509804, 0.88117647, 0.89686275, 0.2945098 ,\n",
              "         0.1       , 0.1       , 0.1       , 0.1       , 0.1       ,\n",
              "         0.1       , 0.1       , 0.1       ],\n",
              "        [0.1       , 0.1       , 0.1       , 0.1       , 0.1       ,\n",
              "         0.1       , 0.1       , 0.1       , 0.1       , 0.1       ,\n",
              "         0.1       , 0.1       , 0.1       , 0.1       , 0.1       ,\n",
              "         0.1       , 0.5172549 , 0.89686275, 0.68666667, 0.11568627,\n",
              "         0.1       , 0.1       , 0.1       , 0.1       , 0.1       ,\n",
              "         0.1       , 0.1       , 0.1       ],\n",
              "        [0.1       , 0.1       , 0.1       , 0.1       , 0.1       ,\n",
              "         0.1       , 0.1       , 0.1       , 0.1       , 0.1       ,\n",
              "         0.1       , 0.1       , 0.1       , 0.1       , 0.1       ,\n",
              "         0.12823529, 0.74313725, 0.87803922, 0.28196078, 0.1       ,\n",
              "         0.1       , 0.1       , 0.1       , 0.1       , 0.1       ,\n",
              "         0.1       , 0.1       , 0.1       ],\n",
              "        [0.1       , 0.1       , 0.1       , 0.1       , 0.1       ,\n",
              "         0.1       , 0.1       , 0.1       , 0.1       , 0.1       ,\n",
              "         0.1       , 0.1       , 0.1       , 0.1       , 0.1       ,\n",
              "         0.49529412, 0.89686275, 0.67098039, 0.1       , 0.1       ,\n",
              "         0.1       , 0.1       , 0.1       , 0.1       , 0.1       ,\n",
              "         0.1       , 0.1       , 0.1       ],\n",
              "        [0.1       , 0.1       , 0.1       , 0.1       , 0.1       ,\n",
              "         0.1       , 0.1       , 0.1       , 0.1       , 0.1       ,\n",
              "         0.1       , 0.1       , 0.1       , 0.1       , 0.33529412,\n",
              "         0.88745098, 0.85294118, 0.27882353, 0.1       , 0.1       ,\n",
              "         0.1       , 0.1       , 0.1       , 0.1       , 0.1       ,\n",
              "         0.1       , 0.1       , 0.1       ],\n",
              "        [0.1       , 0.1       , 0.1       , 0.1       , 0.1       ,\n",
              "         0.1       , 0.1       , 0.1       , 0.1       , 0.1       ,\n",
              "         0.1       , 0.1       , 0.1       , 0.15960784, 0.79333333,\n",
              "         0.89686275, 0.62078431, 0.1       , 0.1       , 0.1       ,\n",
              "         0.1       , 0.1       , 0.1       , 0.1       , 0.1       ,\n",
              "         0.1       , 0.1       , 0.1       ],\n",
              "        [0.1       , 0.1       , 0.1       , 0.1       , 0.1       ,\n",
              "         0.1       , 0.1       , 0.1       , 0.1       , 0.1       ,\n",
              "         0.1       , 0.1       , 0.10941176, 0.73686275, 0.89686275,\n",
              "         0.78705882, 0.20980392, 0.1       , 0.1       , 0.1       ,\n",
              "         0.1       , 0.1       , 0.1       , 0.1       , 0.1       ,\n",
              "         0.1       , 0.1       , 0.1       ],\n",
              "        [0.1       , 0.1       , 0.1       , 0.1       , 0.1       ,\n",
              "         0.1       , 0.1       , 0.1       , 0.1       , 0.1       ,\n",
              "         0.1       , 0.1       , 0.21921569, 0.89686275, 0.89686275,\n",
              "         0.34156863, 0.1       , 0.1       , 0.1       , 0.1       ,\n",
              "         0.1       , 0.1       , 0.1       , 0.1       , 0.1       ,\n",
              "         0.1       , 0.1       , 0.1       ],\n",
              "        [0.1       , 0.1       , 0.1       , 0.1       , 0.1       ,\n",
              "         0.1       , 0.1       , 0.1       , 0.1       , 0.1       ,\n",
              "         0.1       , 0.1972549 , 0.8027451 , 0.89686275, 0.46078431,\n",
              "         0.10313725, 0.1       , 0.1       , 0.1       , 0.1       ,\n",
              "         0.1       , 0.1       , 0.1       , 0.1       , 0.1       ,\n",
              "         0.1       , 0.1       , 0.1       ],\n",
              "        [0.1       , 0.1       , 0.1       , 0.1       , 0.1       ,\n",
              "         0.1       , 0.1       , 0.1       , 0.1       , 0.1       ,\n",
              "         0.1       , 0.5172549 , 0.89686275, 0.89686275, 0.26313725,\n",
              "         0.1       , 0.1       , 0.1       , 0.1       , 0.1       ,\n",
              "         0.1       , 0.1       , 0.1       , 0.1       , 0.1       ,\n",
              "         0.1       , 0.1       , 0.1       ],\n",
              "        [0.1       , 0.1       , 0.1       , 0.1       , 0.1       ,\n",
              "         0.1       , 0.1       , 0.1       , 0.1       , 0.1       ,\n",
              "         0.29137255, 0.85921569, 0.89686275, 0.89686275, 0.26313725,\n",
              "         0.1       , 0.1       , 0.1       , 0.1       , 0.1       ,\n",
              "         0.1       , 0.1       , 0.1       , 0.1       , 0.1       ,\n",
              "         0.1       , 0.1       , 0.1       ],\n",
              "        [0.1       , 0.1       , 0.1       , 0.1       , 0.1       ,\n",
              "         0.1       , 0.1       , 0.1       , 0.1       , 0.1       ,\n",
              "         0.47960784, 0.89686275, 0.89686275, 0.78705882, 0.2254902 ,\n",
              "         0.1       , 0.1       , 0.1       , 0.1       , 0.1       ,\n",
              "         0.1       , 0.1       , 0.1       , 0.1       , 0.1       ,\n",
              "         0.1       , 0.1       , 0.1       ],\n",
              "        [0.1       , 0.1       , 0.1       , 0.1       , 0.1       ,\n",
              "         0.1       , 0.1       , 0.1       , 0.1       , 0.1       ,\n",
              "         0.47960784, 0.89686275, 0.74941176, 0.15647059, 0.1       ,\n",
              "         0.1       , 0.1       , 0.1       , 0.1       , 0.1       ,\n",
              "         0.1       , 0.1       , 0.1       , 0.1       , 0.1       ,\n",
              "         0.1       , 0.1       , 0.1       ],\n",
              "        [0.1       , 0.1       , 0.1       , 0.1       , 0.1       ,\n",
              "         0.1       , 0.1       , 0.1       , 0.1       , 0.1       ,\n",
              "         0.1       , 0.1       , 0.1       , 0.1       , 0.1       ,\n",
              "         0.1       , 0.1       , 0.1       , 0.1       , 0.1       ,\n",
              "         0.1       , 0.1       , 0.1       , 0.1       , 0.1       ,\n",
              "         0.1       , 0.1       , 0.1       ]]))"
            ]
          },
          "metadata": {},
          "execution_count": 6
        }
      ]
    },
    {
      "cell_type": "code",
      "source": [
        "inputs=tf.keras.Input(shape=(28,28))\n",
        "# 28 x 28 = 784 node - pixels\n",
        "flatten_layer=tf.keras.layers.Flatten()\n",
        "flatten_ouput=flatten_layer(inputs)\n",
        "dense_layer=tf.keras.layers.Dense(50,activation='relu')\n",
        "dense_output=dense_layer(flatten_ouput)\n",
        "predictions=tf.keras.layers.Dense(10,activation='softmax')(dense_output)\n",
        "\n",
        "model=tf.keras.Model(inputs=inputs,outputs=predictions)\n",
        "model.summary()\n"
      ],
      "metadata": {
        "colab": {
          "base_uri": "https://localhost:8080/"
        },
        "id": "0Sg-C4Xoj8XA",
        "outputId": "04628957-338f-4d67-ebe7-0f697fcccbea"
      },
      "execution_count": null,
      "outputs": [
        {
          "output_type": "stream",
          "name": "stdout",
          "text": [
            "Model: \"model_1\"\n",
            "_________________________________________________________________\n",
            " Layer (type)                Output Shape              Param #   \n",
            "=================================================================\n",
            " input_4 (InputLayer)        [(None, 28, 28)]          0         \n",
            "                                                                 \n",
            " flatten_2 (Flatten)         (None, 784)               0         \n",
            "                                                                 \n",
            " dense_4 (Dense)             (None, 50)                39250     \n",
            "                                                                 \n",
            " dense_5 (Dense)             (None, 10)                510       \n",
            "                                                                 \n",
            "=================================================================\n",
            "Total params: 39760 (155.31 KB)\n",
            "Trainable params: 39760 (155.31 KB)\n",
            "Non-trainable params: 0 (0.00 Byte)\n",
            "_________________________________________________________________\n"
          ]
        }
      ]
    },
    {
      "cell_type": "code",
      "source": [
        "tf.keras.utils.plot_model(model,\"image-classification_model.png\",show_shapes=True)"
      ],
      "metadata": {
        "colab": {
          "base_uri": "https://localhost:8080/",
          "height": 422
        },
        "id": "1xobDDFonXYO",
        "outputId": "f3916bbf-0c84-41d2-f50d-b4a629c2a865"
      },
      "execution_count": null,
      "outputs": [
        {
          "output_type": "execute_result",
          "data": {
            "image/png": "[encoded data removed]",
            "text/plain": [
              "<IPython.core.display.Image object>"
            ]
          },
          "metadata": {},
          "execution_count": 14
        }
      ]
    },
    {
      "cell_type": "code",
      "source": [
        "model.compile(optimizer=\"SGD\",loss=\"sparse_categorical_crossentropy\",metrics=[\"accuracy\"])\n",
        "#train\n",
        "model.fit(train_mnist_features,y_mnist_train,validation_data=(test_mnist_features,y_mnist_test),epochs=10)"
      ],
      "metadata": {
        "colab": {
          "base_uri": "https://localhost:8080/"
        },
        "id": "AFQwPiX6narC",
        "outputId": "c2e8a55a-3905-4faa-d371-2968db6a6c15"
      },
      "execution_count": null,
      "outputs": [
        {
          "output_type": "stream",
          "name": "stdout",
          "text": [
            "Epoch 1/10\n",
            "1875/1875 [==============================] - 9s 4ms/step - loss: 0.7903 - accuracy: 0.8004 - val_loss: 0.4061 - val_accuracy: 0.8920\n",
            "Epoch 2/10\n",
            "1875/1875 [==============================] - 5s 3ms/step - loss: 0.3804 - accuracy: 0.8935 - val_loss: 0.3275 - val_accuracy: 0.9079\n",
            "Epoch 3/10\n",
            "1875/1875 [==============================] - 6s 3ms/step - loss: 0.3285 - accuracy: 0.9064 - val_loss: 0.2980 - val_accuracy: 0.9170\n",
            "Epoch 4/10\n",
            "1875/1875 [==============================] - 5s 3ms/step - loss: 0.3010 - accuracy: 0.9150 - val_loss: 0.2820 - val_accuracy: 0.9187\n",
            "Epoch 5/10\n",
            "1875/1875 [==============================] - 5s 3ms/step - loss: 0.2815 - accuracy: 0.9205 - val_loss: 0.2648 - val_accuracy: 0.9242\n",
            "Epoch 6/10\n",
            "1875/1875 [==============================] - 6s 3ms/step - loss: 0.2653 - accuracy: 0.9250 - val_loss: 0.2490 - val_accuracy: 0.9282\n",
            "Epoch 7/10\n",
            "1875/1875 [==============================] - 5s 3ms/step - loss: 0.2519 - accuracy: 0.9283 - val_loss: 0.2375 - val_accuracy: 0.9329\n",
            "Epoch 8/10\n",
            "1875/1875 [==============================] - 6s 3ms/step - loss: 0.2399 - accuracy: 0.9320 - val_loss: 0.2293 - val_accuracy: 0.9351\n",
            "Epoch 9/10\n",
            "1875/1875 [==============================] - 5s 3ms/step - loss: 0.2287 - accuracy: 0.9360 - val_loss: 0.2195 - val_accuracy: 0.9374\n",
            "Epoch 10/10\n",
            "1875/1875 [==============================] - 6s 3ms/step - loss: 0.2185 - accuracy: 0.9390 - val_loss: 0.2093 - val_accuracy: 0.9391\n"
          ]
        },
        {
          "output_type": "execute_result",
          "data": {
            "text/plain": [
              "<keras.src.callbacks.History at 0x7b51f25ed990>"
            ]
          },
          "metadata": {},
          "execution_count": 16
        }
      ]
    },
    {
      "cell_type": "code",
      "source": [
        "# Time Distributed\n",
        "from keras.layers import TimeDistributed"
      ],
      "metadata": {
        "id": "mUt0brY-pGzH"
      },
      "execution_count": null,
      "outputs": []
    },
    {
      "cell_type": "code",
      "source": [
        "input_sequences=tf.keras.Input(shape=(10,28,28))\n",
        "processed_sequences=tf.keras.layers.TimeDistributed(model)(input_sequences)\n",
        "processed_sequences"
      ],
      "metadata": {
        "colab": {
          "base_uri": "https://localhost:8080/"
        },
        "id": "D-w4NB4Wqpnb",
        "outputId": "c8f394d1-e34e-43d0-f25a-73aa154230f9"
      },
      "execution_count": null,
      "outputs": [
        {
          "output_type": "execute_result",
          "data": {
            "text/plain": [
              "<KerasTensor: shape=(None, 10, 10) dtype=float32 (created by layer 'time_distributed')>"
            ]
          },
          "metadata": {},
          "execution_count": 21
        }
      ]
    },
    {
      "cell_type": "code",
      "source": [
        "house_data_input=tf.keras.Input(shape=(128,),name=\"house_data\")\n",
        "x=tf.keras.layers.Dense(64,activation='relu')(house_data_input)\n",
        "x=tf.keras.layers.Dense(1024,activation='relu')(x)\n",
        "block1_output=tf.keras.layers.Dense(32,activation='relu')(x)\n",
        "\n",
        "house_pictures_input=tf.keras.Input(shape=(320,320,3),name=\"house_pictures\")\n",
        "y=tf.keras.layers.Conv2D(64,3,activation='relu',padding='same')(house_pictures_input)\n",
        "y=tf.keras.layers.Conv2D(64,3,activation='relu',padding='same')(y)\n",
        "flatten_layer_house=tf.keras.layers.Flatten()\n",
        "block2_output=flatten_layer_house(y)\n",
        "\n",
        "input_feature=tf.keras.layers.concatenate([block1_output,block2_output])"
      ],
      "metadata": {
        "id": "-qLfasONq8xp"
      },
      "execution_count": null,
      "outputs": []
    },
    {
      "cell_type": "code",
      "source": [
        "input_feature"
      ],
      "metadata": {
        "colab": {
          "base_uri": "https://localhost:8080/"
        },
        "id": "QYX98WKWwQeU",
        "outputId": "e590dfd1-7762-43f0-818b-5d14d7e66b2a"
      },
      "execution_count": null,
      "outputs": [
        {
          "output_type": "execute_result",
          "data": {
            "text/plain": [
              "<KerasTensor: shape=(None, 6553632) dtype=float32 (created by layer 'concatenate')>"
            ]
          },
          "metadata": {},
          "execution_count": 25
        }
      ]
    },
    {
      "cell_type": "code",
      "source": [
        "predict_price=x=tf.keras.layers.Dense(1,activation='relu',name='price')(input_feature)\n",
        "time_sale=x=tf.keras.layers.Dense(2,activation='softmax',name='time_sale')(input_feature)\n",
        "model=tf.keras.Model(inputs=[house_data_input,house_pictures_input],outputs=[predict_price,time_sale])\n"
      ],
      "metadata": {
        "id": "Ds1IURv7w164"
      },
      "execution_count": null,
      "outputs": []
    },
    {
      "cell_type": "code",
      "source": [
        "model.summary()"
      ],
      "metadata": {
        "id": "mS54dTHtw3R8",
        "outputId": "912db91d-5d61-4a31-fb3d-9aed1213033f",
        "colab": {
          "base_uri": "https://localhost:8080/"
        }
      },
      "execution_count": null,
      "outputs": [
        {
          "output_type": "stream",
          "name": "stdout",
          "text": [
            "Model: \"model_2\"\n",
            "__________________________________________________________________________________________________\n",
            " Layer (type)                Output Shape                 Param #   Connected to                  \n",
            "==================================================================================================\n",
            " house_data (InputLayer)     [(None, 128)]                0         []                            \n",
            "                                                                                                  \n",
            " house_pictures (InputLayer  [(None, 320, 320, 3)]        0         []                            \n",
            " )                                                                                                \n",
            "                                                                                                  \n",
            " dense_12 (Dense)            (None, 64)                   8256      ['house_data[0][0]']          \n",
            "                                                                                                  \n",
            " conv2d_4 (Conv2D)           (None, 320, 320, 64)         1792      ['house_pictures[0][0]']      \n",
            "                                                                                                  \n",
            " dense_13 (Dense)            (None, 1024)                 66560     ['dense_12[0][0]']            \n",
            "                                                                                                  \n",
            " conv2d_5 (Conv2D)           (None, 320, 320, 64)         36928     ['conv2d_4[0][0]']            \n",
            "                                                                                                  \n",
            " dense_14 (Dense)            (None, 32)                   32800     ['dense_13[0][0]']            \n",
            "                                                                                                  \n",
            " flatten_4 (Flatten)         (None, 6553600)              0         ['conv2d_5[0][0]']            \n",
            "                                                                                                  \n",
            " concatenate (Concatenate)   (None, 6553632)              0         ['dense_14[0][0]',            \n",
            "                                                                     'flatten_4[0][0]']           \n",
            "                                                                                                  \n",
            " price (Dense)               (None, 1)                    6553633   ['concatenate[0][0]']         \n",
            "                                                                                                  \n",
            " time_sale (Dense)           (None, 2)                    1310726   ['concatenate[0][0]']         \n",
            "                                                          6                                       \n",
            "                                                                                                  \n",
            "==================================================================================================\n",
            "Total params: 19807235 (75.56 MB)\n",
            "Trainable params: 19807235 (75.56 MB)\n",
            "Non-trainable params: 0 (0.00 Byte)\n",
            "__________________________________________________________________________________________________\n"
          ]
        }
      ]
    },
    {
      "cell_type": "code",
      "source": [
        "tf.keras.utils.plot_model(model,\"House_sale_model.png\",show_shapes=True)"
      ],
      "metadata": {
        "id": "DSDC6k_Pxy4I",
        "outputId": "936b65d4-e359-454b-c9a1-4a14427f2793",
        "colab": {
          "base_uri": "https://localhost:8080/",
          "height": 644
        }
      },
      "execution_count": null,
      "outputs": [
        {
          "output_type": "execute_result",
          "data": {
            "image/png": "[encoded data removed]",
            "text/plain": [
              "<IPython.core.display.Image object>"
            ]
          },
          "metadata": {},
          "execution_count": 30
        }
      ]
    },
    {
      "cell_type": "code",
      "source": [
        "# Keras SubClass API\n",
        "import tensorflow as tf\n",
        "from tensorflow import keras\n"
      ],
      "metadata": {
        "id": "JsrGkITcELYE"
      },
      "execution_count": null,
      "outputs": []
    },
    {
      "cell_type": "code",
      "source": [
        "help(tf.random_normal_initializer())"
      ],
      "metadata": {
        "colab": {
          "base_uri": "https://localhost:8080/"
        },
        "id": "5EmZvaUMEMb8",
        "outputId": "28c77c9d-7f5e-4d47-95e8-0d3d13f3bd70"
      },
      "execution_count": null,
      "outputs": [
        {
          "output_type": "stream",
          "name": "stdout",
          "text": [
            "Help on RandomNormal in module tensorflow.python.ops.init_ops_v2 object:\n",
            "\n",
            "class RandomNormal(Initializer)\n",
            " |  RandomNormal(mean=0.0, stddev=0.05, seed=None)\n",
            " |  \n",
            " |  Initializer that generates tensors with a normal distribution.\n",
            " |  \n",
            " |  Initializers allow you to pre-specify an initialization strategy, encoded in\n",
            " |  the Initializer object, without knowing the shape and dtype of the variable\n",
            " |  being initialized.\n",
            " |  \n",
            " |  Examples:\n",
            " |  \n",
            " |  >>> def make_variables(k, initializer):\n",
            " |  ...   return (tf.Variable(initializer(shape=[k], dtype=tf.float32)),\n",
            " |  ...           tf.Variable(initializer(shape=[k, k], dtype=tf.float32)))\n",
            " |  >>> v1, v2 = make_variables(3,\n",
            " |  ...                         tf.random_normal_initializer(mean=1., stddev=2.))\n",
            " |  >>> v1\n",
            " |  <tf.Variable ... shape=(3,) ... numpy=array([...], dtype=float32)>\n",
            " |  >>> v2\n",
            " |  <tf.Variable ... shape=(3, 3) ... numpy=\n",
            " |  ...\n",
            " |  >>> make_variables(4, tf.random_uniform_initializer(minval=-1., maxval=1.))\n",
            " |  (<tf.Variable...shape=(4,) dtype=float32...>, <tf.Variable...shape=(4, 4) ...\n",
            " |  \n",
            " |  Args:\n",
            " |    mean: a python scalar or a scalar tensor. Mean of the random values to\n",
            " |      generate.\n",
            " |    stddev: a python scalar or a scalar tensor. Standard deviation of the random\n",
            " |      values to generate.\n",
            " |    seed: A Python integer. Used to create random seeds. See\n",
            " |      `tf.random.set_seed` for behavior.\n",
            " |  \n",
            " |  Method resolution order:\n",
            " |      RandomNormal\n",
            " |      Initializer\n",
            " |      builtins.object\n",
            " |  \n",
            " |  Methods defined here:\n",
            " |  \n",
            " |  __call__(self, shape, dtype=tf.float32, **kwargs)\n",
            " |      Returns a tensor object initialized as specified by the initializer.\n",
            " |      \n",
            " |      Args:\n",
            " |        shape: Shape of the tensor.\n",
            " |        dtype: Optional dtype of the tensor. Only floating point types are\n",
            " |          supported.\n",
            " |        **kwargs: Additional keyword arguments.\n",
            " |      \n",
            " |      Raises:\n",
            " |        ValueError: If the dtype is not floating point\n",
            " |  \n",
            " |  __init__(self, mean=0.0, stddev=0.05, seed=None)\n",
            " |      Initialize self.  See help(type(self)) for accurate signature.\n",
            " |  \n",
            " |  get_config(self)\n",
            " |      Returns the configuration of the initializer as a JSON-serializable dict.\n",
            " |      \n",
            " |      Returns:\n",
            " |        A JSON-serializable Python dict.\n",
            " |  \n",
            " |  ----------------------------------------------------------------------\n",
            " |  Class methods inherited from Initializer:\n",
            " |  \n",
            " |  from_config(config) from builtins.type\n",
            " |      Instantiates an initializer from a configuration dictionary.\n",
            " |      \n",
            " |      Example:\n",
            " |      \n",
            " |      ```python\n",
            " |      initializer = RandomUniform(-1, 1)\n",
            " |      config = initializer.get_config()\n",
            " |      initializer = RandomUniform.from_config(config)\n",
            " |      ```\n",
            " |      \n",
            " |      Args:\n",
            " |        config: A Python dictionary.\n",
            " |          It will typically be the output of `get_config`.\n",
            " |      \n",
            " |      Returns:\n",
            " |        An Initializer instance.\n",
            " |  \n",
            " |  ----------------------------------------------------------------------\n",
            " |  Data descriptors inherited from Initializer:\n",
            " |  \n",
            " |  __dict__\n",
            " |      dictionary for instance variables (if defined)\n",
            " |  \n",
            " |  __weakref__\n",
            " |      list of weak references to the object (if defined)\n",
            "\n"
          ]
        }
      ]
    },
    {
      "cell_type": "code",
      "source": [
        "class Linear(keras.layers.Layer):\n",
        "  def __init__(self, units=32):\n",
        "    super(Linear,self).__init__()\n",
        "    self.units=units\n",
        "\n",
        "  def build(self,input_shape):\n",
        "    # x_output=w*input+b\n",
        "    w_init=tf.random_normal_initializer()\n",
        "    self.w=tf.Variable(initial_value=w_init(shape=(input_shape[-1],self.units),dtype='float32'),\n",
        "                       trainable=True) # False,\n",
        "    b_init=tf.zeros_initializer()\n",
        "    self.b=tf.Variable(initial_value=b_init(shape=(self.units,),dtype='float32'),\n",
        "                       trainable=True) # False,\n",
        "  def call(self,inputs):\n",
        "    return tf.matmul(inputs,self.w)+self.b\n"
      ],
      "metadata": {
        "id": "14UXwaAeFvZk"
      },
      "execution_count": null,
      "outputs": []
    },
    {
      "cell_type": "code",
      "source": [
        "linear_layer=Linear(32)\n",
        "y=linear_layer(x)\n",
        "y"
      ],
      "metadata": {
        "colab": {
          "base_uri": "https://localhost:8080/"
        },
        "id": "Hd7g0xZUIZ91",
        "outputId": "8f120902-4d2e-4099-ee0e-c77093def265"
      },
      "execution_count": null,
      "outputs": [
        {
          "output_type": "execute_result",
          "data": {
            "text/plain": [
              "<tf.Tensor: shape=(2, 32), dtype=float32, numpy=\n",
              "array([[ 0.0332406 , -0.00950639, -0.10646348,  0.05247452,  0.06739625,\n",
              "        -0.02523642, -0.0448189 , -0.04867857,  0.05504939, -0.02781125,\n",
              "        -0.0199851 ,  0.06388399, -0.0161889 , -0.03558719,  0.04368696,\n",
              "        -0.01433676,  0.03041958,  0.01802075,  0.0585667 , -0.04001752,\n",
              "        -0.04922938, -0.23321411,  0.03307556,  0.06381182,  0.0707325 ,\n",
              "        -0.00469751,  0.09275149, -0.01650552,  0.07295059,  0.00476492,\n",
              "        -0.19340588,  0.04960792],\n",
              "       [ 0.0332406 , -0.00950639, -0.10646348,  0.05247452,  0.06739625,\n",
              "        -0.02523642, -0.0448189 , -0.04867857,  0.05504939, -0.02781125,\n",
              "        -0.0199851 ,  0.06388399, -0.0161889 , -0.03558719,  0.04368696,\n",
              "        -0.01433676,  0.03041958,  0.01802075,  0.0585667 , -0.04001752,\n",
              "        -0.04922938, -0.23321411,  0.03307556,  0.06381182,  0.0707325 ,\n",
              "        -0.00469751,  0.09275149, -0.01650552,  0.07295059,  0.00476492,\n",
              "        -0.19340588,  0.04960792]], dtype=float32)>"
            ]
          },
          "metadata": {},
          "execution_count": 37
        }
      ]
    },
    {
      "cell_type": "code",
      "source": [
        "linear_layer.weights\n"
      ],
      "metadata": {
        "colab": {
          "base_uri": "https://localhost:8080/"
        },
        "id": "uWo7SDO2JTgP",
        "outputId": "12187f61-bba9-4907-f1f9-25dd979320bf"
      },
      "execution_count": null,
      "outputs": [
        {
          "output_type": "execute_result",
          "data": {
            "text/plain": [
              "[<tf.Variable 'linear_31/Variable:0' shape=(2, 32) dtype=float32, numpy=\n",
              " array([[ 0.04989145,  0.01321676, -0.00529119,  0.04065821,  0.03290063,\n",
              "          0.05195577, -0.02605917, -0.0542649 ,  0.00776087, -0.0689899 ,\n",
              "         -0.03054684,  0.05071618,  0.03443039, -0.06538718,  0.03372244,\n",
              "         -0.0788436 , -0.00096165,  0.0373595 ,  0.05405989, -0.02587522,\n",
              "          0.00684938, -0.12236126,  0.05145779,  0.06659579,  0.06612992,\n",
              "          0.05241241,  0.10408773, -0.00463665,  0.06723745, -0.03694117,\n",
              "         -0.15629657, -0.01434438],\n",
              "        [-0.01665085, -0.02272315, -0.10117228,  0.01181631,  0.03449562,\n",
              "         -0.07719219, -0.01875973,  0.00558634,  0.04728853,  0.04117865,\n",
              "          0.01056174,  0.01316781, -0.05061929,  0.02979999,  0.00996452,\n",
              "          0.06450684,  0.03138123, -0.01933875,  0.00450681, -0.01414231,\n",
              "         -0.05607876, -0.11085285, -0.01838223, -0.00278397,  0.00460258,\n",
              "         -0.05710992, -0.01133625, -0.01186888,  0.00571315,  0.0417061 ,\n",
              "         -0.03710931,  0.0639523 ]], dtype=float32)>,\n",
              " <tf.Variable 'linear_31/Variable:0' shape=(32,) dtype=float32, numpy=\n",
              " array([0., 0., 0., 0., 0., 0., 0., 0., 0., 0., 0., 0., 0., 0., 0., 0., 0.,\n",
              "        0., 0., 0., 0., 0., 0., 0., 0., 0., 0., 0., 0., 0., 0., 0.],\n",
              "       dtype=float32)>]"
            ]
          },
          "metadata": {},
          "execution_count": 38
        }
      ]
    },
    {
      "cell_type": "code",
      "source": [
        "linear_layer.w"
      ],
      "metadata": {
        "colab": {
          "base_uri": "https://localhost:8080/"
        },
        "id": "NMsGHGnpJ1Lm",
        "outputId": "3a295263-a13b-4639-8cbd-40a0fab1855d"
      },
      "execution_count": null,
      "outputs": [
        {
          "output_type": "execute_result",
          "data": {
            "text/plain": [
              "<tf.Variable 'linear_31/Variable:0' shape=(2, 32) dtype=float32, numpy=\n",
              "array([[ 0.04989145,  0.01321676, -0.00529119,  0.04065821,  0.03290063,\n",
              "         0.05195577, -0.02605917, -0.0542649 ,  0.00776087, -0.0689899 ,\n",
              "        -0.03054684,  0.05071618,  0.03443039, -0.06538718,  0.03372244,\n",
              "        -0.0788436 , -0.00096165,  0.0373595 ,  0.05405989, -0.02587522,\n",
              "         0.00684938, -0.12236126,  0.05145779,  0.06659579,  0.06612992,\n",
              "         0.05241241,  0.10408773, -0.00463665,  0.06723745, -0.03694117,\n",
              "        -0.15629657, -0.01434438],\n",
              "       [-0.01665085, -0.02272315, -0.10117228,  0.01181631,  0.03449562,\n",
              "        -0.07719219, -0.01875973,  0.00558634,  0.04728853,  0.04117865,\n",
              "         0.01056174,  0.01316781, -0.05061929,  0.02979999,  0.00996452,\n",
              "         0.06450684,  0.03138123, -0.01933875,  0.00450681, -0.01414231,\n",
              "        -0.05607876, -0.11085285, -0.01838223, -0.00278397,  0.00460258,\n",
              "        -0.05710992, -0.01133625, -0.01186888,  0.00571315,  0.0417061 ,\n",
              "        -0.03710931,  0.0639523 ]], dtype=float32)>"
            ]
          },
          "metadata": {},
          "execution_count": 39
        }
      ]
    },
    {
      "cell_type": "code",
      "source": [
        "linear_layer.b"
      ],
      "metadata": {
        "colab": {
          "base_uri": "https://localhost:8080/"
        },
        "id": "qDpPa8VfJ6dY",
        "outputId": "f323b150-0e2c-4f1d-d87d-f5b111f994cb"
      },
      "execution_count": null,
      "outputs": [
        {
          "output_type": "execute_result",
          "data": {
            "text/plain": [
              "<tf.Variable 'linear_31/Variable:0' shape=(32,) dtype=float32, numpy=\n",
              "array([0., 0., 0., 0., 0., 0., 0., 0., 0., 0., 0., 0., 0., 0., 0., 0., 0.,\n",
              "       0., 0., 0., 0., 0., 0., 0., 0., 0., 0., 0., 0., 0., 0., 0.],\n",
              "      dtype=float32)>"
            ]
          },
          "metadata": {},
          "execution_count": 40
        }
      ]
    },
    {
      "cell_type": "code",
      "source": [
        "# Custom Linear Layer\n",
        "x=tf.ones((2,2))\n",
        "linear_layer_custom=Linear(32)\n",
        "y=linear_layer_custom(x)\n",
        "y"
      ],
      "metadata": {
        "colab": {
          "base_uri": "https://localhost:8080/"
        },
        "id": "2Ln7pJZlJ7o3",
        "outputId": "23d10ec1-099a-48dc-8414-205696c69c97"
      },
      "execution_count": null,
      "outputs": [
        {
          "output_type": "execute_result",
          "data": {
            "text/plain": [
              "<tf.Tensor: shape=(2, 32), dtype=float32, numpy=\n",
              "array([[ 0.06064318, -0.02882704,  0.03433502,  0.06469977, -0.19103831,\n",
              "        -0.00281613, -0.21975897,  0.0364574 , -0.02145265,  0.03149738,\n",
              "        -0.10525072,  0.01537297,  0.0311174 ,  0.12769817, -0.03707663,\n",
              "        -0.0601593 ,  0.01779999,  0.12213089,  0.07181554,  0.0448714 ,\n",
              "        -0.01291542, -0.09176487, -0.01367594,  0.0603995 , -0.16348273,\n",
              "        -0.01603524, -0.00689358,  0.00502054, -0.01896204, -0.08484709,\n",
              "         0.14327745,  0.04910799],\n",
              "       [ 0.06064318, -0.02882704,  0.03433502,  0.06469977, -0.19103831,\n",
              "        -0.00281613, -0.21975897,  0.0364574 , -0.02145265,  0.03149738,\n",
              "        -0.10525072,  0.01537297,  0.0311174 ,  0.12769817, -0.03707663,\n",
              "        -0.0601593 ,  0.01779999,  0.12213089,  0.07181554,  0.0448714 ,\n",
              "        -0.01291542, -0.09176487, -0.01367594,  0.0603995 , -0.16348273,\n",
              "        -0.01603524, -0.00689358,  0.00502054, -0.01896204, -0.08484709,\n",
              "         0.14327745,  0.04910799]], dtype=float32)>"
            ]
          },
          "metadata": {},
          "execution_count": 41
        }
      ]
    },
    {
      "cell_type": "code",
      "source": [
        "# Custom MLPBlock Layer\n",
        "class MLPLayer(keras.layers.Layer):\n",
        "  def __init__(self):\n",
        "    super(MLPLayer,self).__init__()\n",
        "    self.linear_1=Linear(32)\n",
        "    self.linear_2=Linear(32)\n",
        "    self.linear_3=Linear(1)\n",
        "  def call(self,inputs):\n",
        "    x=self.linear_1(inputs)\n",
        "    x=tf.nn.relu(x)\n",
        "    x=self.linear_2(x)\n",
        "    x=tf.nn.relu(x)\n",
        "    return x\n",
        "\n",
        "mlp=MLPLayer()\n",
        "y=mlp(x)\n",
        "y\n",
        "\n",
        "\n",
        "\n"
      ],
      "metadata": {
        "colab": {
          "base_uri": "https://localhost:8080/"
        },
        "id": "3exhRqJ2M16b",
        "outputId": "6be186ad-9c89-4cdc-a889-f5a2f3bbd6a3"
      },
      "execution_count": null,
      "outputs": [
        {
          "output_type": "execute_result",
          "data": {
            "text/plain": [
              "<tf.Tensor: shape=(2, 32), dtype=float32, numpy=\n",
              "array([[0.        , 0.        , 0.00538845, 0.00483359, 0.03230536,\n",
              "        0.        , 0.00150631, 0.00636872, 0.        , 0.02193522,\n",
              "        0.        , 0.        , 0.01065287, 0.        , 0.01916944,\n",
              "        0.0148682 , 0.        , 0.        , 0.00249453, 0.        ,\n",
              "        0.        , 0.        , 0.01918223, 0.02223047, 0.        ,\n",
              "        0.        , 0.0129763 , 0.01386518, 0.        , 0.00634693,\n",
              "        0.        , 0.        ],\n",
              "       [0.        , 0.        , 0.00538845, 0.00483359, 0.03230536,\n",
              "        0.        , 0.00150631, 0.00636872, 0.        , 0.02193522,\n",
              "        0.        , 0.        , 0.01065287, 0.        , 0.01916944,\n",
              "        0.0148682 , 0.        , 0.        , 0.00249453, 0.        ,\n",
              "        0.        , 0.        , 0.01918223, 0.02223047, 0.        ,\n",
              "        0.        , 0.0129763 , 0.01386518, 0.        , 0.00634693,\n",
              "        0.        , 0.        ]], dtype=float32)>"
            ]
          },
          "metadata": {},
          "execution_count": 42
        }
      ]
    },
    {
      "cell_type": "code",
      "source": [
        "# SubClassing Model\n",
        "\n",
        "class MNISTMODEL(keras.Model):\n",
        "  def __init__(self,number_class=10):\n",
        "    super(MNISTMODEL,self).__init__()\n",
        "    self.number_class=number_class\n",
        "    self.flatten_1=keras.layers.Flatten()\n",
        "    self.dropout_1=keras.layers.Dropout(0.1)\n",
        "    self.dense_1=keras.layers.Dense(50,activation=\"relu\")\n",
        "    self.dense_2=keras.layers.Dense(10,activation=\"softmax\")\n",
        "\n",
        "  def call(self,inputs,training=False):\n",
        "    x=self.flatten_1(inputs)\n",
        "    x=self.dense_1(x)\n",
        "    if training:\n",
        "      x=self.dropout(x,training=training)\n",
        "    x=self.dense_2(x)\n",
        "    return x\n",
        "\n",
        "  mnist=tf.keras.datasets.mnist\n",
        "  (X_minist_train,y_mnist_train,X_minist_test,y_mnist_test)=mnist.load_data()\n",
        "\n",
        "  mymnistmodel=MNISTMODEL(10)\n",
        "  mymnistmodel.compile(optimizer=\"SGD\",loss=\"sparse_categorical_crossentropy\",metric=['accuracy'])\n",
        "\n",
        "\n",
        "\n",
        "\n",
        "\n",
        "\n"
      ],
      "metadata": {
        "id": "zo3aayShGu9f"
      },
      "execution_count": null,
      "outputs": []
    }
  ]
}